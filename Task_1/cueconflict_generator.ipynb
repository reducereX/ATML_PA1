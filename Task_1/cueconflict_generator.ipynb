{
 "cells": [
  {
   "cell_type": "code",
   "execution_count": null,
   "id": "6fb5bbae",
   "metadata": {},
   "outputs": [
    {
     "name": "stdout",
     "output_type": "stream",
     "text": [
      "c:\\Jibran Data\\LUMS\\Sem 7\\ATML\\PA1\\fast-style-transfer\n"
     ]
    }
   ],
   "source": [
    "# !git clone https://github.com/igreat/fast-style-transfer.git\n",
    "\n",
    "import os\n",
    "os.chdir('fast-style-transfer')\n",
    "print(os.getcwd())\n",
    "\n",
    "#NOTE: Manually moved folder into main data dir after gen"
   ]
  },
  {
   "cell_type": "code",
   "execution_count": null,
   "id": "759cc103",
   "metadata": {},
   "outputs": [],
   "source": [
    "# !mkdir -p cue_conflict_dataset"
   ]
  },
  {
   "cell_type": "code",
   "execution_count": 5,
   "id": "7eb17057",
   "metadata": {},
   "outputs": [
    {
     "data": {
      "application/vnd.jupyter.widget-view+json": {
       "model_id": "07bc5e2dea7f44a19a92c86b61c1b4e9",
       "version_major": 2,
       "version_minor": 0
      },
      "text/plain": [
       "All Classes Progress:   0%|          | 0/10 [00:00<?, ?it/s]"
      ]
     },
     "metadata": {},
     "output_type": "display_data"
    },
    {
     "data": {
      "application/vnd.jupyter.widget-view+json": {
       "model_id": "c2557aa17e864f758d97f936efb4c47b",
       "version_major": 2,
       "version_minor": 0
      },
      "text/plain": [
       "Class 'airplane':   0%|          | 0/10 [00:00<?, ?it/s]"
      ]
     },
     "metadata": {},
     "output_type": "display_data"
    },
    {
     "name": "stdout",
     "output_type": "stream",
     "text": [
      "image saved successfully at styled_output.png\n"
     ]
    },
    {
     "name": "stderr",
     "output_type": "stream",
     "text": [
      "c:\\Jibran Data\\LUMS\\Sem 7\\ATML\\PA1\\fast-style-transfer\\stylize_image.py:9: UserWarning: 'has_cuda' is deprecated, please use 'torch.backends.cuda.is_built()'\n",
      "  device = {torch.has_cuda: \"cuda\", torch.has_mps: \"mps\"}.get(True, \"cpu\")\n",
      "c:\\Jibran Data\\LUMS\\Sem 7\\ATML\\PA1\\fast-style-transfer\\stylize_image.py:9: UserWarning: 'has_mps' is deprecated, please use 'torch.backends.mps.is_built()'\n",
      "  device = {torch.has_cuda: \"cuda\", torch.has_mps: \"mps\"}.get(True, \"cpu\")\n"
     ]
    },
    {
     "name": "stdout",
     "output_type": "stream",
     "text": [
      "image saved successfully at styled_output.png\n"
     ]
    },
    {
     "name": "stderr",
     "output_type": "stream",
     "text": [
      "c:\\Jibran Data\\LUMS\\Sem 7\\ATML\\PA1\\fast-style-transfer\\stylize_image.py:9: UserWarning: 'has_cuda' is deprecated, please use 'torch.backends.cuda.is_built()'\n",
      "  device = {torch.has_cuda: \"cuda\", torch.has_mps: \"mps\"}.get(True, \"cpu\")\n",
      "c:\\Jibran Data\\LUMS\\Sem 7\\ATML\\PA1\\fast-style-transfer\\stylize_image.py:9: UserWarning: 'has_mps' is deprecated, please use 'torch.backends.mps.is_built()'\n",
      "  device = {torch.has_cuda: \"cuda\", torch.has_mps: \"mps\"}.get(True, \"cpu\")\n"
     ]
    },
    {
     "name": "stdout",
     "output_type": "stream",
     "text": [
      "image saved successfully at styled_output.png\n"
     ]
    },
    {
     "name": "stderr",
     "output_type": "stream",
     "text": [
      "c:\\Jibran Data\\LUMS\\Sem 7\\ATML\\PA1\\fast-style-transfer\\stylize_image.py:9: UserWarning: 'has_cuda' is deprecated, please use 'torch.backends.cuda.is_built()'\n",
      "  device = {torch.has_cuda: \"cuda\", torch.has_mps: \"mps\"}.get(True, \"cpu\")\n",
      "c:\\Jibran Data\\LUMS\\Sem 7\\ATML\\PA1\\fast-style-transfer\\stylize_image.py:9: UserWarning: 'has_mps' is deprecated, please use 'torch.backends.mps.is_built()'\n",
      "  device = {torch.has_cuda: \"cuda\", torch.has_mps: \"mps\"}.get(True, \"cpu\")\n"
     ]
    },
    {
     "name": "stdout",
     "output_type": "stream",
     "text": [
      "image saved successfully at styled_output.png\n"
     ]
    },
    {
     "name": "stderr",
     "output_type": "stream",
     "text": [
      "c:\\Jibran Data\\LUMS\\Sem 7\\ATML\\PA1\\fast-style-transfer\\stylize_image.py:9: UserWarning: 'has_cuda' is deprecated, please use 'torch.backends.cuda.is_built()'\n",
      "  device = {torch.has_cuda: \"cuda\", torch.has_mps: \"mps\"}.get(True, \"cpu\")\n",
      "c:\\Jibran Data\\LUMS\\Sem 7\\ATML\\PA1\\fast-style-transfer\\stylize_image.py:9: UserWarning: 'has_mps' is deprecated, please use 'torch.backends.mps.is_built()'\n",
      "  device = {torch.has_cuda: \"cuda\", torch.has_mps: \"mps\"}.get(True, \"cpu\")\n"
     ]
    },
    {
     "name": "stdout",
     "output_type": "stream",
     "text": [
      "image saved successfully at styled_output.png\n"
     ]
    },
    {
     "name": "stderr",
     "output_type": "stream",
     "text": [
      "c:\\Jibran Data\\LUMS\\Sem 7\\ATML\\PA1\\fast-style-transfer\\stylize_image.py:9: UserWarning: 'has_cuda' is deprecated, please use 'torch.backends.cuda.is_built()'\n",
      "  device = {torch.has_cuda: \"cuda\", torch.has_mps: \"mps\"}.get(True, \"cpu\")\n",
      "c:\\Jibran Data\\LUMS\\Sem 7\\ATML\\PA1\\fast-style-transfer\\stylize_image.py:9: UserWarning: 'has_mps' is deprecated, please use 'torch.backends.mps.is_built()'\n",
      "  device = {torch.has_cuda: \"cuda\", torch.has_mps: \"mps\"}.get(True, \"cpu\")\n"
     ]
    },
    {
     "name": "stdout",
     "output_type": "stream",
     "text": [
      "image saved successfully at styled_output.png\n"
     ]
    },
    {
     "name": "stderr",
     "output_type": "stream",
     "text": [
      "c:\\Jibran Data\\LUMS\\Sem 7\\ATML\\PA1\\fast-style-transfer\\stylize_image.py:9: UserWarning: 'has_cuda' is deprecated, please use 'torch.backends.cuda.is_built()'\n",
      "  device = {torch.has_cuda: \"cuda\", torch.has_mps: \"mps\"}.get(True, \"cpu\")\n",
      "c:\\Jibran Data\\LUMS\\Sem 7\\ATML\\PA1\\fast-style-transfer\\stylize_image.py:9: UserWarning: 'has_mps' is deprecated, please use 'torch.backends.mps.is_built()'\n",
      "  device = {torch.has_cuda: \"cuda\", torch.has_mps: \"mps\"}.get(True, \"cpu\")\n"
     ]
    },
    {
     "name": "stdout",
     "output_type": "stream",
     "text": [
      "image saved successfully at styled_output.png\n"
     ]
    },
    {
     "name": "stderr",
     "output_type": "stream",
     "text": [
      "c:\\Jibran Data\\LUMS\\Sem 7\\ATML\\PA1\\fast-style-transfer\\stylize_image.py:9: UserWarning: 'has_cuda' is deprecated, please use 'torch.backends.cuda.is_built()'\n",
      "  device = {torch.has_cuda: \"cuda\", torch.has_mps: \"mps\"}.get(True, \"cpu\")\n",
      "c:\\Jibran Data\\LUMS\\Sem 7\\ATML\\PA1\\fast-style-transfer\\stylize_image.py:9: UserWarning: 'has_mps' is deprecated, please use 'torch.backends.mps.is_built()'\n",
      "  device = {torch.has_cuda: \"cuda\", torch.has_mps: \"mps\"}.get(True, \"cpu\")\n"
     ]
    },
    {
     "name": "stdout",
     "output_type": "stream",
     "text": [
      "image saved successfully at styled_output.png\n"
     ]
    },
    {
     "name": "stderr",
     "output_type": "stream",
     "text": [
      "c:\\Jibran Data\\LUMS\\Sem 7\\ATML\\PA1\\fast-style-transfer\\stylize_image.py:9: UserWarning: 'has_cuda' is deprecated, please use 'torch.backends.cuda.is_built()'\n",
      "  device = {torch.has_cuda: \"cuda\", torch.has_mps: \"mps\"}.get(True, \"cpu\")\n",
      "c:\\Jibran Data\\LUMS\\Sem 7\\ATML\\PA1\\fast-style-transfer\\stylize_image.py:9: UserWarning: 'has_mps' is deprecated, please use 'torch.backends.mps.is_built()'\n",
      "  device = {torch.has_cuda: \"cuda\", torch.has_mps: \"mps\"}.get(True, \"cpu\")\n"
     ]
    },
    {
     "name": "stdout",
     "output_type": "stream",
     "text": [
      "image saved successfully at styled_output.png\n"
     ]
    },
    {
     "name": "stderr",
     "output_type": "stream",
     "text": [
      "c:\\Jibran Data\\LUMS\\Sem 7\\ATML\\PA1\\fast-style-transfer\\stylize_image.py:9: UserWarning: 'has_cuda' is deprecated, please use 'torch.backends.cuda.is_built()'\n",
      "  device = {torch.has_cuda: \"cuda\", torch.has_mps: \"mps\"}.get(True, \"cpu\")\n",
      "c:\\Jibran Data\\LUMS\\Sem 7\\ATML\\PA1\\fast-style-transfer\\stylize_image.py:9: UserWarning: 'has_mps' is deprecated, please use 'torch.backends.mps.is_built()'\n",
      "  device = {torch.has_cuda: \"cuda\", torch.has_mps: \"mps\"}.get(True, \"cpu\")\n"
     ]
    },
    {
     "name": "stdout",
     "output_type": "stream",
     "text": [
      "image saved successfully at styled_output.png\n"
     ]
    },
    {
     "name": "stderr",
     "output_type": "stream",
     "text": [
      "c:\\Jibran Data\\LUMS\\Sem 7\\ATML\\PA1\\fast-style-transfer\\stylize_image.py:9: UserWarning: 'has_cuda' is deprecated, please use 'torch.backends.cuda.is_built()'\n",
      "  device = {torch.has_cuda: \"cuda\", torch.has_mps: \"mps\"}.get(True, \"cpu\")\n",
      "c:\\Jibran Data\\LUMS\\Sem 7\\ATML\\PA1\\fast-style-transfer\\stylize_image.py:9: UserWarning: 'has_mps' is deprecated, please use 'torch.backends.mps.is_built()'\n",
      "  device = {torch.has_cuda: \"cuda\", torch.has_mps: \"mps\"}.get(True, \"cpu\")\n"
     ]
    },
    {
     "name": "stdout",
     "output_type": "stream",
     "text": [
      "image saved successfully at styled_output.png\n"
     ]
    },
    {
     "name": "stderr",
     "output_type": "stream",
     "text": [
      "c:\\Jibran Data\\LUMS\\Sem 7\\ATML\\PA1\\fast-style-transfer\\stylize_image.py:9: UserWarning: 'has_cuda' is deprecated, please use 'torch.backends.cuda.is_built()'\n",
      "  device = {torch.has_cuda: \"cuda\", torch.has_mps: \"mps\"}.get(True, \"cpu\")\n",
      "c:\\Jibran Data\\LUMS\\Sem 7\\ATML\\PA1\\fast-style-transfer\\stylize_image.py:9: UserWarning: 'has_mps' is deprecated, please use 'torch.backends.mps.is_built()'\n",
      "  device = {torch.has_cuda: \"cuda\", torch.has_mps: \"mps\"}.get(True, \"cpu\")\n"
     ]
    },
    {
     "name": "stdout",
     "output_type": "stream",
     "text": [
      "image saved successfully at styled_output.png\n"
     ]
    },
    {
     "name": "stderr",
     "output_type": "stream",
     "text": [
      "c:\\Jibran Data\\LUMS\\Sem 7\\ATML\\PA1\\fast-style-transfer\\stylize_image.py:9: UserWarning: 'has_cuda' is deprecated, please use 'torch.backends.cuda.is_built()'\n",
      "  device = {torch.has_cuda: \"cuda\", torch.has_mps: \"mps\"}.get(True, \"cpu\")\n",
      "c:\\Jibran Data\\LUMS\\Sem 7\\ATML\\PA1\\fast-style-transfer\\stylize_image.py:9: UserWarning: 'has_mps' is deprecated, please use 'torch.backends.mps.is_built()'\n",
      "  device = {torch.has_cuda: \"cuda\", torch.has_mps: \"mps\"}.get(True, \"cpu\")\n"
     ]
    },
    {
     "name": "stdout",
     "output_type": "stream",
     "text": [
      "image saved successfully at styled_output.png\n"
     ]
    },
    {
     "name": "stderr",
     "output_type": "stream",
     "text": [
      "c:\\Jibran Data\\LUMS\\Sem 7\\ATML\\PA1\\fast-style-transfer\\stylize_image.py:9: UserWarning: 'has_cuda' is deprecated, please use 'torch.backends.cuda.is_built()'\n",
      "  device = {torch.has_cuda: \"cuda\", torch.has_mps: \"mps\"}.get(True, \"cpu\")\n",
      "c:\\Jibran Data\\LUMS\\Sem 7\\ATML\\PA1\\fast-style-transfer\\stylize_image.py:9: UserWarning: 'has_mps' is deprecated, please use 'torch.backends.mps.is_built()'\n",
      "  device = {torch.has_cuda: \"cuda\", torch.has_mps: \"mps\"}.get(True, \"cpu\")\n"
     ]
    },
    {
     "name": "stdout",
     "output_type": "stream",
     "text": [
      "image saved successfully at styled_output.png\n"
     ]
    },
    {
     "name": "stderr",
     "output_type": "stream",
     "text": [
      "c:\\Jibran Data\\LUMS\\Sem 7\\ATML\\PA1\\fast-style-transfer\\stylize_image.py:9: UserWarning: 'has_cuda' is deprecated, please use 'torch.backends.cuda.is_built()'\n",
      "  device = {torch.has_cuda: \"cuda\", torch.has_mps: \"mps\"}.get(True, \"cpu\")\n",
      "c:\\Jibran Data\\LUMS\\Sem 7\\ATML\\PA1\\fast-style-transfer\\stylize_image.py:9: UserWarning: 'has_mps' is deprecated, please use 'torch.backends.mps.is_built()'\n",
      "  device = {torch.has_cuda: \"cuda\", torch.has_mps: \"mps\"}.get(True, \"cpu\")\n"
     ]
    },
    {
     "name": "stdout",
     "output_type": "stream",
     "text": [
      "image saved successfully at styled_output.png\n"
     ]
    },
    {
     "name": "stderr",
     "output_type": "stream",
     "text": [
      "c:\\Jibran Data\\LUMS\\Sem 7\\ATML\\PA1\\fast-style-transfer\\stylize_image.py:9: UserWarning: 'has_cuda' is deprecated, please use 'torch.backends.cuda.is_built()'\n",
      "  device = {torch.has_cuda: \"cuda\", torch.has_mps: \"mps\"}.get(True, \"cpu\")\n",
      "c:\\Jibran Data\\LUMS\\Sem 7\\ATML\\PA1\\fast-style-transfer\\stylize_image.py:9: UserWarning: 'has_mps' is deprecated, please use 'torch.backends.mps.is_built()'\n",
      "  device = {torch.has_cuda: \"cuda\", torch.has_mps: \"mps\"}.get(True, \"cpu\")\n"
     ]
    },
    {
     "name": "stdout",
     "output_type": "stream",
     "text": [
      "image saved successfully at styled_output.png\n"
     ]
    },
    {
     "name": "stderr",
     "output_type": "stream",
     "text": [
      "c:\\Jibran Data\\LUMS\\Sem 7\\ATML\\PA1\\fast-style-transfer\\stylize_image.py:9: UserWarning: 'has_cuda' is deprecated, please use 'torch.backends.cuda.is_built()'\n",
      "  device = {torch.has_cuda: \"cuda\", torch.has_mps: \"mps\"}.get(True, \"cpu\")\n",
      "c:\\Jibran Data\\LUMS\\Sem 7\\ATML\\PA1\\fast-style-transfer\\stylize_image.py:9: UserWarning: 'has_mps' is deprecated, please use 'torch.backends.mps.is_built()'\n",
      "  device = {torch.has_cuda: \"cuda\", torch.has_mps: \"mps\"}.get(True, \"cpu\")\n"
     ]
    },
    {
     "name": "stdout",
     "output_type": "stream",
     "text": [
      "image saved successfully at styled_output.png\n"
     ]
    },
    {
     "name": "stderr",
     "output_type": "stream",
     "text": [
      "c:\\Jibran Data\\LUMS\\Sem 7\\ATML\\PA1\\fast-style-transfer\\stylize_image.py:9: UserWarning: 'has_cuda' is deprecated, please use 'torch.backends.cuda.is_built()'\n",
      "  device = {torch.has_cuda: \"cuda\", torch.has_mps: \"mps\"}.get(True, \"cpu\")\n",
      "c:\\Jibran Data\\LUMS\\Sem 7\\ATML\\PA1\\fast-style-transfer\\stylize_image.py:9: UserWarning: 'has_mps' is deprecated, please use 'torch.backends.mps.is_built()'\n",
      "  device = {torch.has_cuda: \"cuda\", torch.has_mps: \"mps\"}.get(True, \"cpu\")\n"
     ]
    },
    {
     "name": "stdout",
     "output_type": "stream",
     "text": [
      "image saved successfully at styled_output.png\n"
     ]
    },
    {
     "name": "stderr",
     "output_type": "stream",
     "text": [
      "c:\\Jibran Data\\LUMS\\Sem 7\\ATML\\PA1\\fast-style-transfer\\stylize_image.py:9: UserWarning: 'has_cuda' is deprecated, please use 'torch.backends.cuda.is_built()'\n",
      "  device = {torch.has_cuda: \"cuda\", torch.has_mps: \"mps\"}.get(True, \"cpu\")\n",
      "c:\\Jibran Data\\LUMS\\Sem 7\\ATML\\PA1\\fast-style-transfer\\stylize_image.py:9: UserWarning: 'has_mps' is deprecated, please use 'torch.backends.mps.is_built()'\n",
      "  device = {torch.has_cuda: \"cuda\", torch.has_mps: \"mps\"}.get(True, \"cpu\")\n"
     ]
    },
    {
     "name": "stdout",
     "output_type": "stream",
     "text": [
      "image saved successfully at styled_output.png\n"
     ]
    },
    {
     "name": "stderr",
     "output_type": "stream",
     "text": [
      "c:\\Jibran Data\\LUMS\\Sem 7\\ATML\\PA1\\fast-style-transfer\\stylize_image.py:9: UserWarning: 'has_cuda' is deprecated, please use 'torch.backends.cuda.is_built()'\n",
      "  device = {torch.has_cuda: \"cuda\", torch.has_mps: \"mps\"}.get(True, \"cpu\")\n",
      "c:\\Jibran Data\\LUMS\\Sem 7\\ATML\\PA1\\fast-style-transfer\\stylize_image.py:9: UserWarning: 'has_mps' is deprecated, please use 'torch.backends.mps.is_built()'\n",
      "  device = {torch.has_cuda: \"cuda\", torch.has_mps: \"mps\"}.get(True, \"cpu\")\n"
     ]
    },
    {
     "name": "stdout",
     "output_type": "stream",
     "text": [
      "image saved successfully at styled_output.png\n"
     ]
    },
    {
     "name": "stderr",
     "output_type": "stream",
     "text": [
      "c:\\Jibran Data\\LUMS\\Sem 7\\ATML\\PA1\\fast-style-transfer\\stylize_image.py:9: UserWarning: 'has_cuda' is deprecated, please use 'torch.backends.cuda.is_built()'\n",
      "  device = {torch.has_cuda: \"cuda\", torch.has_mps: \"mps\"}.get(True, \"cpu\")\n",
      "c:\\Jibran Data\\LUMS\\Sem 7\\ATML\\PA1\\fast-style-transfer\\stylize_image.py:9: UserWarning: 'has_mps' is deprecated, please use 'torch.backends.mps.is_built()'\n",
      "  device = {torch.has_cuda: \"cuda\", torch.has_mps: \"mps\"}.get(True, \"cpu\")\n"
     ]
    },
    {
     "name": "stdout",
     "output_type": "stream",
     "text": [
      "image saved successfully at styled_output.png\n"
     ]
    },
    {
     "name": "stderr",
     "output_type": "stream",
     "text": [
      "c:\\Jibran Data\\LUMS\\Sem 7\\ATML\\PA1\\fast-style-transfer\\stylize_image.py:9: UserWarning: 'has_cuda' is deprecated, please use 'torch.backends.cuda.is_built()'\n",
      "  device = {torch.has_cuda: \"cuda\", torch.has_mps: \"mps\"}.get(True, \"cpu\")\n",
      "c:\\Jibran Data\\LUMS\\Sem 7\\ATML\\PA1\\fast-style-transfer\\stylize_image.py:9: UserWarning: 'has_mps' is deprecated, please use 'torch.backends.mps.is_built()'\n",
      "  device = {torch.has_cuda: \"cuda\", torch.has_mps: \"mps\"}.get(True, \"cpu\")\n"
     ]
    },
    {
     "name": "stdout",
     "output_type": "stream",
     "text": [
      "image saved successfully at styled_output.png\n"
     ]
    },
    {
     "name": "stderr",
     "output_type": "stream",
     "text": [
      "c:\\Jibran Data\\LUMS\\Sem 7\\ATML\\PA1\\fast-style-transfer\\stylize_image.py:9: UserWarning: 'has_cuda' is deprecated, please use 'torch.backends.cuda.is_built()'\n",
      "  device = {torch.has_cuda: \"cuda\", torch.has_mps: \"mps\"}.get(True, \"cpu\")\n",
      "c:\\Jibran Data\\LUMS\\Sem 7\\ATML\\PA1\\fast-style-transfer\\stylize_image.py:9: UserWarning: 'has_mps' is deprecated, please use 'torch.backends.mps.is_built()'\n",
      "  device = {torch.has_cuda: \"cuda\", torch.has_mps: \"mps\"}.get(True, \"cpu\")\n"
     ]
    },
    {
     "name": "stdout",
     "output_type": "stream",
     "text": [
      "image saved successfully at styled_output.png\n"
     ]
    },
    {
     "name": "stderr",
     "output_type": "stream",
     "text": [
      "c:\\Jibran Data\\LUMS\\Sem 7\\ATML\\PA1\\fast-style-transfer\\stylize_image.py:9: UserWarning: 'has_cuda' is deprecated, please use 'torch.backends.cuda.is_built()'\n",
      "  device = {torch.has_cuda: \"cuda\", torch.has_mps: \"mps\"}.get(True, \"cpu\")\n",
      "c:\\Jibran Data\\LUMS\\Sem 7\\ATML\\PA1\\fast-style-transfer\\stylize_image.py:9: UserWarning: 'has_mps' is deprecated, please use 'torch.backends.mps.is_built()'\n",
      "  device = {torch.has_cuda: \"cuda\", torch.has_mps: \"mps\"}.get(True, \"cpu\")\n"
     ]
    },
    {
     "name": "stdout",
     "output_type": "stream",
     "text": [
      "image saved successfully at styled_output.png\n"
     ]
    },
    {
     "name": "stderr",
     "output_type": "stream",
     "text": [
      "c:\\Jibran Data\\LUMS\\Sem 7\\ATML\\PA1\\fast-style-transfer\\stylize_image.py:9: UserWarning: 'has_cuda' is deprecated, please use 'torch.backends.cuda.is_built()'\n",
      "  device = {torch.has_cuda: \"cuda\", torch.has_mps: \"mps\"}.get(True, \"cpu\")\n",
      "c:\\Jibran Data\\LUMS\\Sem 7\\ATML\\PA1\\fast-style-transfer\\stylize_image.py:9: UserWarning: 'has_mps' is deprecated, please use 'torch.backends.mps.is_built()'\n",
      "  device = {torch.has_cuda: \"cuda\", torch.has_mps: \"mps\"}.get(True, \"cpu\")\n"
     ]
    },
    {
     "name": "stdout",
     "output_type": "stream",
     "text": [
      "image saved successfully at styled_output.png\n"
     ]
    },
    {
     "name": "stderr",
     "output_type": "stream",
     "text": [
      "c:\\Jibran Data\\LUMS\\Sem 7\\ATML\\PA1\\fast-style-transfer\\stylize_image.py:9: UserWarning: 'has_cuda' is deprecated, please use 'torch.backends.cuda.is_built()'\n",
      "  device = {torch.has_cuda: \"cuda\", torch.has_mps: \"mps\"}.get(True, \"cpu\")\n",
      "c:\\Jibran Data\\LUMS\\Sem 7\\ATML\\PA1\\fast-style-transfer\\stylize_image.py:9: UserWarning: 'has_mps' is deprecated, please use 'torch.backends.mps.is_built()'\n",
      "  device = {torch.has_cuda: \"cuda\", torch.has_mps: \"mps\"}.get(True, \"cpu\")\n"
     ]
    },
    {
     "name": "stdout",
     "output_type": "stream",
     "text": [
      "image saved successfully at styled_output.png\n"
     ]
    },
    {
     "name": "stderr",
     "output_type": "stream",
     "text": [
      "c:\\Jibran Data\\LUMS\\Sem 7\\ATML\\PA1\\fast-style-transfer\\stylize_image.py:9: UserWarning: 'has_cuda' is deprecated, please use 'torch.backends.cuda.is_built()'\n",
      "  device = {torch.has_cuda: \"cuda\", torch.has_mps: \"mps\"}.get(True, \"cpu\")\n",
      "c:\\Jibran Data\\LUMS\\Sem 7\\ATML\\PA1\\fast-style-transfer\\stylize_image.py:9: UserWarning: 'has_mps' is deprecated, please use 'torch.backends.mps.is_built()'\n",
      "  device = {torch.has_cuda: \"cuda\", torch.has_mps: \"mps\"}.get(True, \"cpu\")\n"
     ]
    },
    {
     "name": "stdout",
     "output_type": "stream",
     "text": [
      "image saved successfully at styled_output.png\n"
     ]
    },
    {
     "name": "stderr",
     "output_type": "stream",
     "text": [
      "c:\\Jibran Data\\LUMS\\Sem 7\\ATML\\PA1\\fast-style-transfer\\stylize_image.py:9: UserWarning: 'has_cuda' is deprecated, please use 'torch.backends.cuda.is_built()'\n",
      "  device = {torch.has_cuda: \"cuda\", torch.has_mps: \"mps\"}.get(True, \"cpu\")\n",
      "c:\\Jibran Data\\LUMS\\Sem 7\\ATML\\PA1\\fast-style-transfer\\stylize_image.py:9: UserWarning: 'has_mps' is deprecated, please use 'torch.backends.mps.is_built()'\n",
      "  device = {torch.has_cuda: \"cuda\", torch.has_mps: \"mps\"}.get(True, \"cpu\")\n"
     ]
    },
    {
     "name": "stdout",
     "output_type": "stream",
     "text": [
      "image saved successfully at styled_output.png\n"
     ]
    },
    {
     "name": "stderr",
     "output_type": "stream",
     "text": [
      "c:\\Jibran Data\\LUMS\\Sem 7\\ATML\\PA1\\fast-style-transfer\\stylize_image.py:9: UserWarning: 'has_cuda' is deprecated, please use 'torch.backends.cuda.is_built()'\n",
      "  device = {torch.has_cuda: \"cuda\", torch.has_mps: \"mps\"}.get(True, \"cpu\")\n",
      "c:\\Jibran Data\\LUMS\\Sem 7\\ATML\\PA1\\fast-style-transfer\\stylize_image.py:9: UserWarning: 'has_mps' is deprecated, please use 'torch.backends.mps.is_built()'\n",
      "  device = {torch.has_cuda: \"cuda\", torch.has_mps: \"mps\"}.get(True, \"cpu\")\n"
     ]
    },
    {
     "name": "stdout",
     "output_type": "stream",
     "text": [
      "image saved successfully at styled_output.png\n"
     ]
    },
    {
     "name": "stderr",
     "output_type": "stream",
     "text": [
      "c:\\Jibran Data\\LUMS\\Sem 7\\ATML\\PA1\\fast-style-transfer\\stylize_image.py:9: UserWarning: 'has_cuda' is deprecated, please use 'torch.backends.cuda.is_built()'\n",
      "  device = {torch.has_cuda: \"cuda\", torch.has_mps: \"mps\"}.get(True, \"cpu\")\n",
      "c:\\Jibran Data\\LUMS\\Sem 7\\ATML\\PA1\\fast-style-transfer\\stylize_image.py:9: UserWarning: 'has_mps' is deprecated, please use 'torch.backends.mps.is_built()'\n",
      "  device = {torch.has_cuda: \"cuda\", torch.has_mps: \"mps\"}.get(True, \"cpu\")\n"
     ]
    },
    {
     "name": "stdout",
     "output_type": "stream",
     "text": [
      "image saved successfully at styled_output.png\n"
     ]
    },
    {
     "name": "stderr",
     "output_type": "stream",
     "text": [
      "c:\\Jibran Data\\LUMS\\Sem 7\\ATML\\PA1\\fast-style-transfer\\stylize_image.py:9: UserWarning: 'has_cuda' is deprecated, please use 'torch.backends.cuda.is_built()'\n",
      "  device = {torch.has_cuda: \"cuda\", torch.has_mps: \"mps\"}.get(True, \"cpu\")\n",
      "c:\\Jibran Data\\LUMS\\Sem 7\\ATML\\PA1\\fast-style-transfer\\stylize_image.py:9: UserWarning: 'has_mps' is deprecated, please use 'torch.backends.mps.is_built()'\n",
      "  device = {torch.has_cuda: \"cuda\", torch.has_mps: \"mps\"}.get(True, \"cpu\")\n"
     ]
    },
    {
     "name": "stdout",
     "output_type": "stream",
     "text": [
      "image saved successfully at styled_output.png\n"
     ]
    },
    {
     "name": "stderr",
     "output_type": "stream",
     "text": [
      "c:\\Jibran Data\\LUMS\\Sem 7\\ATML\\PA1\\fast-style-transfer\\stylize_image.py:9: UserWarning: 'has_cuda' is deprecated, please use 'torch.backends.cuda.is_built()'\n",
      "  device = {torch.has_cuda: \"cuda\", torch.has_mps: \"mps\"}.get(True, \"cpu\")\n",
      "c:\\Jibran Data\\LUMS\\Sem 7\\ATML\\PA1\\fast-style-transfer\\stylize_image.py:9: UserWarning: 'has_mps' is deprecated, please use 'torch.backends.mps.is_built()'\n",
      "  device = {torch.has_cuda: \"cuda\", torch.has_mps: \"mps\"}.get(True, \"cpu\")\n"
     ]
    },
    {
     "name": "stdout",
     "output_type": "stream",
     "text": [
      "image saved successfully at styled_output.png\n"
     ]
    },
    {
     "name": "stderr",
     "output_type": "stream",
     "text": [
      "c:\\Jibran Data\\LUMS\\Sem 7\\ATML\\PA1\\fast-style-transfer\\stylize_image.py:9: UserWarning: 'has_cuda' is deprecated, please use 'torch.backends.cuda.is_built()'\n",
      "  device = {torch.has_cuda: \"cuda\", torch.has_mps: \"mps\"}.get(True, \"cpu\")\n",
      "c:\\Jibran Data\\LUMS\\Sem 7\\ATML\\PA1\\fast-style-transfer\\stylize_image.py:9: UserWarning: 'has_mps' is deprecated, please use 'torch.backends.mps.is_built()'\n",
      "  device = {torch.has_cuda: \"cuda\", torch.has_mps: \"mps\"}.get(True, \"cpu\")\n"
     ]
    },
    {
     "name": "stdout",
     "output_type": "stream",
     "text": [
      "image saved successfully at styled_output.png\n"
     ]
    },
    {
     "name": "stderr",
     "output_type": "stream",
     "text": [
      "c:\\Jibran Data\\LUMS\\Sem 7\\ATML\\PA1\\fast-style-transfer\\stylize_image.py:9: UserWarning: 'has_cuda' is deprecated, please use 'torch.backends.cuda.is_built()'\n",
      "  device = {torch.has_cuda: \"cuda\", torch.has_mps: \"mps\"}.get(True, \"cpu\")\n",
      "c:\\Jibran Data\\LUMS\\Sem 7\\ATML\\PA1\\fast-style-transfer\\stylize_image.py:9: UserWarning: 'has_mps' is deprecated, please use 'torch.backends.mps.is_built()'\n",
      "  device = {torch.has_cuda: \"cuda\", torch.has_mps: \"mps\"}.get(True, \"cpu\")\n"
     ]
    },
    {
     "name": "stdout",
     "output_type": "stream",
     "text": [
      "image saved successfully at styled_output.png\n"
     ]
    },
    {
     "name": "stderr",
     "output_type": "stream",
     "text": [
      "c:\\Jibran Data\\LUMS\\Sem 7\\ATML\\PA1\\fast-style-transfer\\stylize_image.py:9: UserWarning: 'has_cuda' is deprecated, please use 'torch.backends.cuda.is_built()'\n",
      "  device = {torch.has_cuda: \"cuda\", torch.has_mps: \"mps\"}.get(True, \"cpu\")\n",
      "c:\\Jibran Data\\LUMS\\Sem 7\\ATML\\PA1\\fast-style-transfer\\stylize_image.py:9: UserWarning: 'has_mps' is deprecated, please use 'torch.backends.mps.is_built()'\n",
      "  device = {torch.has_cuda: \"cuda\", torch.has_mps: \"mps\"}.get(True, \"cpu\")\n"
     ]
    },
    {
     "name": "stdout",
     "output_type": "stream",
     "text": [
      "image saved successfully at styled_output.png\n"
     ]
    },
    {
     "name": "stderr",
     "output_type": "stream",
     "text": [
      "c:\\Jibran Data\\LUMS\\Sem 7\\ATML\\PA1\\fast-style-transfer\\stylize_image.py:9: UserWarning: 'has_cuda' is deprecated, please use 'torch.backends.cuda.is_built()'\n",
      "  device = {torch.has_cuda: \"cuda\", torch.has_mps: \"mps\"}.get(True, \"cpu\")\n",
      "c:\\Jibran Data\\LUMS\\Sem 7\\ATML\\PA1\\fast-style-transfer\\stylize_image.py:9: UserWarning: 'has_mps' is deprecated, please use 'torch.backends.mps.is_built()'\n",
      "  device = {torch.has_cuda: \"cuda\", torch.has_mps: \"mps\"}.get(True, \"cpu\")\n"
     ]
    },
    {
     "name": "stdout",
     "output_type": "stream",
     "text": [
      "image saved successfully at styled_output.png\n"
     ]
    },
    {
     "name": "stderr",
     "output_type": "stream",
     "text": [
      "c:\\Jibran Data\\LUMS\\Sem 7\\ATML\\PA1\\fast-style-transfer\\stylize_image.py:9: UserWarning: 'has_cuda' is deprecated, please use 'torch.backends.cuda.is_built()'\n",
      "  device = {torch.has_cuda: \"cuda\", torch.has_mps: \"mps\"}.get(True, \"cpu\")\n",
      "c:\\Jibran Data\\LUMS\\Sem 7\\ATML\\PA1\\fast-style-transfer\\stylize_image.py:9: UserWarning: 'has_mps' is deprecated, please use 'torch.backends.mps.is_built()'\n",
      "  device = {torch.has_cuda: \"cuda\", torch.has_mps: \"mps\"}.get(True, \"cpu\")\n"
     ]
    },
    {
     "name": "stdout",
     "output_type": "stream",
     "text": [
      "image saved successfully at styled_output.png\n"
     ]
    },
    {
     "name": "stderr",
     "output_type": "stream",
     "text": [
      "c:\\Jibran Data\\LUMS\\Sem 7\\ATML\\PA1\\fast-style-transfer\\stylize_image.py:9: UserWarning: 'has_cuda' is deprecated, please use 'torch.backends.cuda.is_built()'\n",
      "  device = {torch.has_cuda: \"cuda\", torch.has_mps: \"mps\"}.get(True, \"cpu\")\n",
      "c:\\Jibran Data\\LUMS\\Sem 7\\ATML\\PA1\\fast-style-transfer\\stylize_image.py:9: UserWarning: 'has_mps' is deprecated, please use 'torch.backends.mps.is_built()'\n",
      "  device = {torch.has_cuda: \"cuda\", torch.has_mps: \"mps\"}.get(True, \"cpu\")\n"
     ]
    },
    {
     "name": "stdout",
     "output_type": "stream",
     "text": [
      "image saved successfully at styled_output.png\n"
     ]
    },
    {
     "name": "stderr",
     "output_type": "stream",
     "text": [
      "c:\\Jibran Data\\LUMS\\Sem 7\\ATML\\PA1\\fast-style-transfer\\stylize_image.py:9: UserWarning: 'has_cuda' is deprecated, please use 'torch.backends.cuda.is_built()'\n",
      "  device = {torch.has_cuda: \"cuda\", torch.has_mps: \"mps\"}.get(True, \"cpu\")\n",
      "c:\\Jibran Data\\LUMS\\Sem 7\\ATML\\PA1\\fast-style-transfer\\stylize_image.py:9: UserWarning: 'has_mps' is deprecated, please use 'torch.backends.mps.is_built()'\n",
      "  device = {torch.has_cuda: \"cuda\", torch.has_mps: \"mps\"}.get(True, \"cpu\")\n"
     ]
    },
    {
     "name": "stdout",
     "output_type": "stream",
     "text": [
      "image saved successfully at styled_output.png\n"
     ]
    },
    {
     "name": "stderr",
     "output_type": "stream",
     "text": [
      "c:\\Jibran Data\\LUMS\\Sem 7\\ATML\\PA1\\fast-style-transfer\\stylize_image.py:9: UserWarning: 'has_cuda' is deprecated, please use 'torch.backends.cuda.is_built()'\n",
      "  device = {torch.has_cuda: \"cuda\", torch.has_mps: \"mps\"}.get(True, \"cpu\")\n",
      "c:\\Jibran Data\\LUMS\\Sem 7\\ATML\\PA1\\fast-style-transfer\\stylize_image.py:9: UserWarning: 'has_mps' is deprecated, please use 'torch.backends.mps.is_built()'\n",
      "  device = {torch.has_cuda: \"cuda\", torch.has_mps: \"mps\"}.get(True, \"cpu\")\n"
     ]
    },
    {
     "name": "stdout",
     "output_type": "stream",
     "text": [
      "image saved successfully at styled_output.png\n"
     ]
    },
    {
     "name": "stderr",
     "output_type": "stream",
     "text": [
      "c:\\Jibran Data\\LUMS\\Sem 7\\ATML\\PA1\\fast-style-transfer\\stylize_image.py:9: UserWarning: 'has_cuda' is deprecated, please use 'torch.backends.cuda.is_built()'\n",
      "  device = {torch.has_cuda: \"cuda\", torch.has_mps: \"mps\"}.get(True, \"cpu\")\n",
      "c:\\Jibran Data\\LUMS\\Sem 7\\ATML\\PA1\\fast-style-transfer\\stylize_image.py:9: UserWarning: 'has_mps' is deprecated, please use 'torch.backends.mps.is_built()'\n",
      "  device = {torch.has_cuda: \"cuda\", torch.has_mps: \"mps\"}.get(True, \"cpu\")\n"
     ]
    },
    {
     "data": {
      "application/vnd.jupyter.widget-view+json": {
       "model_id": "e9131bd9a4c54ef6b7eff7f051e2c2fd",
       "version_major": 2,
       "version_minor": 0
      },
      "text/plain": [
       "Class 'bird':   0%|          | 0/10 [00:00<?, ?it/s]"
      ]
     },
     "metadata": {},
     "output_type": "display_data"
    },
    {
     "name": "stdout",
     "output_type": "stream",
     "text": [
      "image saved successfully at styled_output.png\n"
     ]
    },
    {
     "name": "stderr",
     "output_type": "stream",
     "text": [
      "c:\\Jibran Data\\LUMS\\Sem 7\\ATML\\PA1\\fast-style-transfer\\stylize_image.py:9: UserWarning: 'has_cuda' is deprecated, please use 'torch.backends.cuda.is_built()'\n",
      "  device = {torch.has_cuda: \"cuda\", torch.has_mps: \"mps\"}.get(True, \"cpu\")\n",
      "c:\\Jibran Data\\LUMS\\Sem 7\\ATML\\PA1\\fast-style-transfer\\stylize_image.py:9: UserWarning: 'has_mps' is deprecated, please use 'torch.backends.mps.is_built()'\n",
      "  device = {torch.has_cuda: \"cuda\", torch.has_mps: \"mps\"}.get(True, \"cpu\")\n"
     ]
    },
    {
     "name": "stdout",
     "output_type": "stream",
     "text": [
      "image saved successfully at styled_output.png\n"
     ]
    },
    {
     "name": "stderr",
     "output_type": "stream",
     "text": [
      "c:\\Jibran Data\\LUMS\\Sem 7\\ATML\\PA1\\fast-style-transfer\\stylize_image.py:9: UserWarning: 'has_cuda' is deprecated, please use 'torch.backends.cuda.is_built()'\n",
      "  device = {torch.has_cuda: \"cuda\", torch.has_mps: \"mps\"}.get(True, \"cpu\")\n",
      "c:\\Jibran Data\\LUMS\\Sem 7\\ATML\\PA1\\fast-style-transfer\\stylize_image.py:9: UserWarning: 'has_mps' is deprecated, please use 'torch.backends.mps.is_built()'\n",
      "  device = {torch.has_cuda: \"cuda\", torch.has_mps: \"mps\"}.get(True, \"cpu\")\n"
     ]
    },
    {
     "name": "stdout",
     "output_type": "stream",
     "text": [
      "image saved successfully at styled_output.png\n"
     ]
    },
    {
     "name": "stderr",
     "output_type": "stream",
     "text": [
      "c:\\Jibran Data\\LUMS\\Sem 7\\ATML\\PA1\\fast-style-transfer\\stylize_image.py:9: UserWarning: 'has_cuda' is deprecated, please use 'torch.backends.cuda.is_built()'\n",
      "  device = {torch.has_cuda: \"cuda\", torch.has_mps: \"mps\"}.get(True, \"cpu\")\n",
      "c:\\Jibran Data\\LUMS\\Sem 7\\ATML\\PA1\\fast-style-transfer\\stylize_image.py:9: UserWarning: 'has_mps' is deprecated, please use 'torch.backends.mps.is_built()'\n",
      "  device = {torch.has_cuda: \"cuda\", torch.has_mps: \"mps\"}.get(True, \"cpu\")\n"
     ]
    },
    {
     "name": "stdout",
     "output_type": "stream",
     "text": [
      "image saved successfully at styled_output.png\n"
     ]
    },
    {
     "name": "stderr",
     "output_type": "stream",
     "text": [
      "c:\\Jibran Data\\LUMS\\Sem 7\\ATML\\PA1\\fast-style-transfer\\stylize_image.py:9: UserWarning: 'has_cuda' is deprecated, please use 'torch.backends.cuda.is_built()'\n",
      "  device = {torch.has_cuda: \"cuda\", torch.has_mps: \"mps\"}.get(True, \"cpu\")\n",
      "c:\\Jibran Data\\LUMS\\Sem 7\\ATML\\PA1\\fast-style-transfer\\stylize_image.py:9: UserWarning: 'has_mps' is deprecated, please use 'torch.backends.mps.is_built()'\n",
      "  device = {torch.has_cuda: \"cuda\", torch.has_mps: \"mps\"}.get(True, \"cpu\")\n"
     ]
    },
    {
     "name": "stdout",
     "output_type": "stream",
     "text": [
      "image saved successfully at styled_output.png\n"
     ]
    },
    {
     "name": "stderr",
     "output_type": "stream",
     "text": [
      "c:\\Jibran Data\\LUMS\\Sem 7\\ATML\\PA1\\fast-style-transfer\\stylize_image.py:9: UserWarning: 'has_cuda' is deprecated, please use 'torch.backends.cuda.is_built()'\n",
      "  device = {torch.has_cuda: \"cuda\", torch.has_mps: \"mps\"}.get(True, \"cpu\")\n",
      "c:\\Jibran Data\\LUMS\\Sem 7\\ATML\\PA1\\fast-style-transfer\\stylize_image.py:9: UserWarning: 'has_mps' is deprecated, please use 'torch.backends.mps.is_built()'\n",
      "  device = {torch.has_cuda: \"cuda\", torch.has_mps: \"mps\"}.get(True, \"cpu\")\n"
     ]
    },
    {
     "name": "stdout",
     "output_type": "stream",
     "text": [
      "image saved successfully at styled_output.png\n"
     ]
    },
    {
     "name": "stderr",
     "output_type": "stream",
     "text": [
      "c:\\Jibran Data\\LUMS\\Sem 7\\ATML\\PA1\\fast-style-transfer\\stylize_image.py:9: UserWarning: 'has_cuda' is deprecated, please use 'torch.backends.cuda.is_built()'\n",
      "  device = {torch.has_cuda: \"cuda\", torch.has_mps: \"mps\"}.get(True, \"cpu\")\n",
      "c:\\Jibran Data\\LUMS\\Sem 7\\ATML\\PA1\\fast-style-transfer\\stylize_image.py:9: UserWarning: 'has_mps' is deprecated, please use 'torch.backends.mps.is_built()'\n",
      "  device = {torch.has_cuda: \"cuda\", torch.has_mps: \"mps\"}.get(True, \"cpu\")\n"
     ]
    },
    {
     "name": "stdout",
     "output_type": "stream",
     "text": [
      "image saved successfully at styled_output.png\n"
     ]
    },
    {
     "name": "stderr",
     "output_type": "stream",
     "text": [
      "c:\\Jibran Data\\LUMS\\Sem 7\\ATML\\PA1\\fast-style-transfer\\stylize_image.py:9: UserWarning: 'has_cuda' is deprecated, please use 'torch.backends.cuda.is_built()'\n",
      "  device = {torch.has_cuda: \"cuda\", torch.has_mps: \"mps\"}.get(True, \"cpu\")\n",
      "c:\\Jibran Data\\LUMS\\Sem 7\\ATML\\PA1\\fast-style-transfer\\stylize_image.py:9: UserWarning: 'has_mps' is deprecated, please use 'torch.backends.mps.is_built()'\n",
      "  device = {torch.has_cuda: \"cuda\", torch.has_mps: \"mps\"}.get(True, \"cpu\")\n"
     ]
    },
    {
     "name": "stdout",
     "output_type": "stream",
     "text": [
      "image saved successfully at styled_output.png\n"
     ]
    },
    {
     "name": "stderr",
     "output_type": "stream",
     "text": [
      "c:\\Jibran Data\\LUMS\\Sem 7\\ATML\\PA1\\fast-style-transfer\\stylize_image.py:9: UserWarning: 'has_cuda' is deprecated, please use 'torch.backends.cuda.is_built()'\n",
      "  device = {torch.has_cuda: \"cuda\", torch.has_mps: \"mps\"}.get(True, \"cpu\")\n",
      "c:\\Jibran Data\\LUMS\\Sem 7\\ATML\\PA1\\fast-style-transfer\\stylize_image.py:9: UserWarning: 'has_mps' is deprecated, please use 'torch.backends.mps.is_built()'\n",
      "  device = {torch.has_cuda: \"cuda\", torch.has_mps: \"mps\"}.get(True, \"cpu\")\n"
     ]
    },
    {
     "name": "stdout",
     "output_type": "stream",
     "text": [
      "image saved successfully at styled_output.png\n"
     ]
    },
    {
     "name": "stderr",
     "output_type": "stream",
     "text": [
      "c:\\Jibran Data\\LUMS\\Sem 7\\ATML\\PA1\\fast-style-transfer\\stylize_image.py:9: UserWarning: 'has_cuda' is deprecated, please use 'torch.backends.cuda.is_built()'\n",
      "  device = {torch.has_cuda: \"cuda\", torch.has_mps: \"mps\"}.get(True, \"cpu\")\n",
      "c:\\Jibran Data\\LUMS\\Sem 7\\ATML\\PA1\\fast-style-transfer\\stylize_image.py:9: UserWarning: 'has_mps' is deprecated, please use 'torch.backends.mps.is_built()'\n",
      "  device = {torch.has_cuda: \"cuda\", torch.has_mps: \"mps\"}.get(True, \"cpu\")\n"
     ]
    },
    {
     "name": "stdout",
     "output_type": "stream",
     "text": [
      "image saved successfully at styled_output.png\n"
     ]
    },
    {
     "name": "stderr",
     "output_type": "stream",
     "text": [
      "c:\\Jibran Data\\LUMS\\Sem 7\\ATML\\PA1\\fast-style-transfer\\stylize_image.py:9: UserWarning: 'has_cuda' is deprecated, please use 'torch.backends.cuda.is_built()'\n",
      "  device = {torch.has_cuda: \"cuda\", torch.has_mps: \"mps\"}.get(True, \"cpu\")\n",
      "c:\\Jibran Data\\LUMS\\Sem 7\\ATML\\PA1\\fast-style-transfer\\stylize_image.py:9: UserWarning: 'has_mps' is deprecated, please use 'torch.backends.mps.is_built()'\n",
      "  device = {torch.has_cuda: \"cuda\", torch.has_mps: \"mps\"}.get(True, \"cpu\")\n"
     ]
    },
    {
     "name": "stdout",
     "output_type": "stream",
     "text": [
      "image saved successfully at styled_output.png\n"
     ]
    },
    {
     "name": "stderr",
     "output_type": "stream",
     "text": [
      "c:\\Jibran Data\\LUMS\\Sem 7\\ATML\\PA1\\fast-style-transfer\\stylize_image.py:9: UserWarning: 'has_cuda' is deprecated, please use 'torch.backends.cuda.is_built()'\n",
      "  device = {torch.has_cuda: \"cuda\", torch.has_mps: \"mps\"}.get(True, \"cpu\")\n",
      "c:\\Jibran Data\\LUMS\\Sem 7\\ATML\\PA1\\fast-style-transfer\\stylize_image.py:9: UserWarning: 'has_mps' is deprecated, please use 'torch.backends.mps.is_built()'\n",
      "  device = {torch.has_cuda: \"cuda\", torch.has_mps: \"mps\"}.get(True, \"cpu\")\n"
     ]
    },
    {
     "name": "stdout",
     "output_type": "stream",
     "text": [
      "image saved successfully at styled_output.png\n"
     ]
    },
    {
     "name": "stderr",
     "output_type": "stream",
     "text": [
      "c:\\Jibran Data\\LUMS\\Sem 7\\ATML\\PA1\\fast-style-transfer\\stylize_image.py:9: UserWarning: 'has_cuda' is deprecated, please use 'torch.backends.cuda.is_built()'\n",
      "  device = {torch.has_cuda: \"cuda\", torch.has_mps: \"mps\"}.get(True, \"cpu\")\n",
      "c:\\Jibran Data\\LUMS\\Sem 7\\ATML\\PA1\\fast-style-transfer\\stylize_image.py:9: UserWarning: 'has_mps' is deprecated, please use 'torch.backends.mps.is_built()'\n",
      "  device = {torch.has_cuda: \"cuda\", torch.has_mps: \"mps\"}.get(True, \"cpu\")\n"
     ]
    },
    {
     "name": "stdout",
     "output_type": "stream",
     "text": [
      "image saved successfully at styled_output.png\n"
     ]
    },
    {
     "name": "stderr",
     "output_type": "stream",
     "text": [
      "c:\\Jibran Data\\LUMS\\Sem 7\\ATML\\PA1\\fast-style-transfer\\stylize_image.py:9: UserWarning: 'has_cuda' is deprecated, please use 'torch.backends.cuda.is_built()'\n",
      "  device = {torch.has_cuda: \"cuda\", torch.has_mps: \"mps\"}.get(True, \"cpu\")\n",
      "c:\\Jibran Data\\LUMS\\Sem 7\\ATML\\PA1\\fast-style-transfer\\stylize_image.py:9: UserWarning: 'has_mps' is deprecated, please use 'torch.backends.mps.is_built()'\n",
      "  device = {torch.has_cuda: \"cuda\", torch.has_mps: \"mps\"}.get(True, \"cpu\")\n"
     ]
    },
    {
     "name": "stdout",
     "output_type": "stream",
     "text": [
      "image saved successfully at styled_output.png\n"
     ]
    },
    {
     "name": "stderr",
     "output_type": "stream",
     "text": [
      "c:\\Jibran Data\\LUMS\\Sem 7\\ATML\\PA1\\fast-style-transfer\\stylize_image.py:9: UserWarning: 'has_cuda' is deprecated, please use 'torch.backends.cuda.is_built()'\n",
      "  device = {torch.has_cuda: \"cuda\", torch.has_mps: \"mps\"}.get(True, \"cpu\")\n",
      "c:\\Jibran Data\\LUMS\\Sem 7\\ATML\\PA1\\fast-style-transfer\\stylize_image.py:9: UserWarning: 'has_mps' is deprecated, please use 'torch.backends.mps.is_built()'\n",
      "  device = {torch.has_cuda: \"cuda\", torch.has_mps: \"mps\"}.get(True, \"cpu\")\n"
     ]
    },
    {
     "name": "stdout",
     "output_type": "stream",
     "text": [
      "image saved successfully at styled_output.png\n"
     ]
    },
    {
     "name": "stderr",
     "output_type": "stream",
     "text": [
      "c:\\Jibran Data\\LUMS\\Sem 7\\ATML\\PA1\\fast-style-transfer\\stylize_image.py:9: UserWarning: 'has_cuda' is deprecated, please use 'torch.backends.cuda.is_built()'\n",
      "  device = {torch.has_cuda: \"cuda\", torch.has_mps: \"mps\"}.get(True, \"cpu\")\n",
      "c:\\Jibran Data\\LUMS\\Sem 7\\ATML\\PA1\\fast-style-transfer\\stylize_image.py:9: UserWarning: 'has_mps' is deprecated, please use 'torch.backends.mps.is_built()'\n",
      "  device = {torch.has_cuda: \"cuda\", torch.has_mps: \"mps\"}.get(True, \"cpu\")\n"
     ]
    },
    {
     "name": "stdout",
     "output_type": "stream",
     "text": [
      "image saved successfully at styled_output.png\n"
     ]
    },
    {
     "name": "stderr",
     "output_type": "stream",
     "text": [
      "c:\\Jibran Data\\LUMS\\Sem 7\\ATML\\PA1\\fast-style-transfer\\stylize_image.py:9: UserWarning: 'has_cuda' is deprecated, please use 'torch.backends.cuda.is_built()'\n",
      "  device = {torch.has_cuda: \"cuda\", torch.has_mps: \"mps\"}.get(True, \"cpu\")\n",
      "c:\\Jibran Data\\LUMS\\Sem 7\\ATML\\PA1\\fast-style-transfer\\stylize_image.py:9: UserWarning: 'has_mps' is deprecated, please use 'torch.backends.mps.is_built()'\n",
      "  device = {torch.has_cuda: \"cuda\", torch.has_mps: \"mps\"}.get(True, \"cpu\")\n"
     ]
    },
    {
     "name": "stdout",
     "output_type": "stream",
     "text": [
      "image saved successfully at styled_output.png\n"
     ]
    },
    {
     "name": "stderr",
     "output_type": "stream",
     "text": [
      "c:\\Jibran Data\\LUMS\\Sem 7\\ATML\\PA1\\fast-style-transfer\\stylize_image.py:9: UserWarning: 'has_cuda' is deprecated, please use 'torch.backends.cuda.is_built()'\n",
      "  device = {torch.has_cuda: \"cuda\", torch.has_mps: \"mps\"}.get(True, \"cpu\")\n",
      "c:\\Jibran Data\\LUMS\\Sem 7\\ATML\\PA1\\fast-style-transfer\\stylize_image.py:9: UserWarning: 'has_mps' is deprecated, please use 'torch.backends.mps.is_built()'\n",
      "  device = {torch.has_cuda: \"cuda\", torch.has_mps: \"mps\"}.get(True, \"cpu\")\n"
     ]
    },
    {
     "name": "stdout",
     "output_type": "stream",
     "text": [
      "image saved successfully at styled_output.png\n"
     ]
    },
    {
     "name": "stderr",
     "output_type": "stream",
     "text": [
      "c:\\Jibran Data\\LUMS\\Sem 7\\ATML\\PA1\\fast-style-transfer\\stylize_image.py:9: UserWarning: 'has_cuda' is deprecated, please use 'torch.backends.cuda.is_built()'\n",
      "  device = {torch.has_cuda: \"cuda\", torch.has_mps: \"mps\"}.get(True, \"cpu\")\n",
      "c:\\Jibran Data\\LUMS\\Sem 7\\ATML\\PA1\\fast-style-transfer\\stylize_image.py:9: UserWarning: 'has_mps' is deprecated, please use 'torch.backends.mps.is_built()'\n",
      "  device = {torch.has_cuda: \"cuda\", torch.has_mps: \"mps\"}.get(True, \"cpu\")\n"
     ]
    },
    {
     "name": "stdout",
     "output_type": "stream",
     "text": [
      "image saved successfully at styled_output.png\n"
     ]
    },
    {
     "name": "stderr",
     "output_type": "stream",
     "text": [
      "c:\\Jibran Data\\LUMS\\Sem 7\\ATML\\PA1\\fast-style-transfer\\stylize_image.py:9: UserWarning: 'has_cuda' is deprecated, please use 'torch.backends.cuda.is_built()'\n",
      "  device = {torch.has_cuda: \"cuda\", torch.has_mps: \"mps\"}.get(True, \"cpu\")\n",
      "c:\\Jibran Data\\LUMS\\Sem 7\\ATML\\PA1\\fast-style-transfer\\stylize_image.py:9: UserWarning: 'has_mps' is deprecated, please use 'torch.backends.mps.is_built()'\n",
      "  device = {torch.has_cuda: \"cuda\", torch.has_mps: \"mps\"}.get(True, \"cpu\")\n"
     ]
    },
    {
     "name": "stdout",
     "output_type": "stream",
     "text": [
      "image saved successfully at styled_output.png\n"
     ]
    },
    {
     "name": "stderr",
     "output_type": "stream",
     "text": [
      "c:\\Jibran Data\\LUMS\\Sem 7\\ATML\\PA1\\fast-style-transfer\\stylize_image.py:9: UserWarning: 'has_cuda' is deprecated, please use 'torch.backends.cuda.is_built()'\n",
      "  device = {torch.has_cuda: \"cuda\", torch.has_mps: \"mps\"}.get(True, \"cpu\")\n",
      "c:\\Jibran Data\\LUMS\\Sem 7\\ATML\\PA1\\fast-style-transfer\\stylize_image.py:9: UserWarning: 'has_mps' is deprecated, please use 'torch.backends.mps.is_built()'\n",
      "  device = {torch.has_cuda: \"cuda\", torch.has_mps: \"mps\"}.get(True, \"cpu\")\n"
     ]
    },
    {
     "name": "stdout",
     "output_type": "stream",
     "text": [
      "image saved successfully at styled_output.png\n"
     ]
    },
    {
     "name": "stderr",
     "output_type": "stream",
     "text": [
      "c:\\Jibran Data\\LUMS\\Sem 7\\ATML\\PA1\\fast-style-transfer\\stylize_image.py:9: UserWarning: 'has_cuda' is deprecated, please use 'torch.backends.cuda.is_built()'\n",
      "  device = {torch.has_cuda: \"cuda\", torch.has_mps: \"mps\"}.get(True, \"cpu\")\n",
      "c:\\Jibran Data\\LUMS\\Sem 7\\ATML\\PA1\\fast-style-transfer\\stylize_image.py:9: UserWarning: 'has_mps' is deprecated, please use 'torch.backends.mps.is_built()'\n",
      "  device = {torch.has_cuda: \"cuda\", torch.has_mps: \"mps\"}.get(True, \"cpu\")\n"
     ]
    },
    {
     "name": "stdout",
     "output_type": "stream",
     "text": [
      "image saved successfully at styled_output.png\n"
     ]
    },
    {
     "name": "stderr",
     "output_type": "stream",
     "text": [
      "c:\\Jibran Data\\LUMS\\Sem 7\\ATML\\PA1\\fast-style-transfer\\stylize_image.py:9: UserWarning: 'has_cuda' is deprecated, please use 'torch.backends.cuda.is_built()'\n",
      "  device = {torch.has_cuda: \"cuda\", torch.has_mps: \"mps\"}.get(True, \"cpu\")\n",
      "c:\\Jibran Data\\LUMS\\Sem 7\\ATML\\PA1\\fast-style-transfer\\stylize_image.py:9: UserWarning: 'has_mps' is deprecated, please use 'torch.backends.mps.is_built()'\n",
      "  device = {torch.has_cuda: \"cuda\", torch.has_mps: \"mps\"}.get(True, \"cpu\")\n"
     ]
    },
    {
     "name": "stdout",
     "output_type": "stream",
     "text": [
      "image saved successfully at styled_output.png\n"
     ]
    },
    {
     "name": "stderr",
     "output_type": "stream",
     "text": [
      "c:\\Jibran Data\\LUMS\\Sem 7\\ATML\\PA1\\fast-style-transfer\\stylize_image.py:9: UserWarning: 'has_cuda' is deprecated, please use 'torch.backends.cuda.is_built()'\n",
      "  device = {torch.has_cuda: \"cuda\", torch.has_mps: \"mps\"}.get(True, \"cpu\")\n",
      "c:\\Jibran Data\\LUMS\\Sem 7\\ATML\\PA1\\fast-style-transfer\\stylize_image.py:9: UserWarning: 'has_mps' is deprecated, please use 'torch.backends.mps.is_built()'\n",
      "  device = {torch.has_cuda: \"cuda\", torch.has_mps: \"mps\"}.get(True, \"cpu\")\n"
     ]
    },
    {
     "name": "stdout",
     "output_type": "stream",
     "text": [
      "image saved successfully at styled_output.png\n"
     ]
    },
    {
     "name": "stderr",
     "output_type": "stream",
     "text": [
      "c:\\Jibran Data\\LUMS\\Sem 7\\ATML\\PA1\\fast-style-transfer\\stylize_image.py:9: UserWarning: 'has_cuda' is deprecated, please use 'torch.backends.cuda.is_built()'\n",
      "  device = {torch.has_cuda: \"cuda\", torch.has_mps: \"mps\"}.get(True, \"cpu\")\n",
      "c:\\Jibran Data\\LUMS\\Sem 7\\ATML\\PA1\\fast-style-transfer\\stylize_image.py:9: UserWarning: 'has_mps' is deprecated, please use 'torch.backends.mps.is_built()'\n",
      "  device = {torch.has_cuda: \"cuda\", torch.has_mps: \"mps\"}.get(True, \"cpu\")\n"
     ]
    },
    {
     "name": "stdout",
     "output_type": "stream",
     "text": [
      "image saved successfully at styled_output.png\n"
     ]
    },
    {
     "name": "stderr",
     "output_type": "stream",
     "text": [
      "c:\\Jibran Data\\LUMS\\Sem 7\\ATML\\PA1\\fast-style-transfer\\stylize_image.py:9: UserWarning: 'has_cuda' is deprecated, please use 'torch.backends.cuda.is_built()'\n",
      "  device = {torch.has_cuda: \"cuda\", torch.has_mps: \"mps\"}.get(True, \"cpu\")\n",
      "c:\\Jibran Data\\LUMS\\Sem 7\\ATML\\PA1\\fast-style-transfer\\stylize_image.py:9: UserWarning: 'has_mps' is deprecated, please use 'torch.backends.mps.is_built()'\n",
      "  device = {torch.has_cuda: \"cuda\", torch.has_mps: \"mps\"}.get(True, \"cpu\")\n"
     ]
    },
    {
     "name": "stdout",
     "output_type": "stream",
     "text": [
      "image saved successfully at styled_output.png\n"
     ]
    },
    {
     "name": "stderr",
     "output_type": "stream",
     "text": [
      "c:\\Jibran Data\\LUMS\\Sem 7\\ATML\\PA1\\fast-style-transfer\\stylize_image.py:9: UserWarning: 'has_cuda' is deprecated, please use 'torch.backends.cuda.is_built()'\n",
      "  device = {torch.has_cuda: \"cuda\", torch.has_mps: \"mps\"}.get(True, \"cpu\")\n",
      "c:\\Jibran Data\\LUMS\\Sem 7\\ATML\\PA1\\fast-style-transfer\\stylize_image.py:9: UserWarning: 'has_mps' is deprecated, please use 'torch.backends.mps.is_built()'\n",
      "  device = {torch.has_cuda: \"cuda\", torch.has_mps: \"mps\"}.get(True, \"cpu\")\n"
     ]
    },
    {
     "name": "stdout",
     "output_type": "stream",
     "text": [
      "image saved successfully at styled_output.png\n"
     ]
    },
    {
     "name": "stderr",
     "output_type": "stream",
     "text": [
      "c:\\Jibran Data\\LUMS\\Sem 7\\ATML\\PA1\\fast-style-transfer\\stylize_image.py:9: UserWarning: 'has_cuda' is deprecated, please use 'torch.backends.cuda.is_built()'\n",
      "  device = {torch.has_cuda: \"cuda\", torch.has_mps: \"mps\"}.get(True, \"cpu\")\n",
      "c:\\Jibran Data\\LUMS\\Sem 7\\ATML\\PA1\\fast-style-transfer\\stylize_image.py:9: UserWarning: 'has_mps' is deprecated, please use 'torch.backends.mps.is_built()'\n",
      "  device = {torch.has_cuda: \"cuda\", torch.has_mps: \"mps\"}.get(True, \"cpu\")\n"
     ]
    },
    {
     "name": "stdout",
     "output_type": "stream",
     "text": [
      "image saved successfully at styled_output.png\n"
     ]
    },
    {
     "name": "stderr",
     "output_type": "stream",
     "text": [
      "c:\\Jibran Data\\LUMS\\Sem 7\\ATML\\PA1\\fast-style-transfer\\stylize_image.py:9: UserWarning: 'has_cuda' is deprecated, please use 'torch.backends.cuda.is_built()'\n",
      "  device = {torch.has_cuda: \"cuda\", torch.has_mps: \"mps\"}.get(True, \"cpu\")\n",
      "c:\\Jibran Data\\LUMS\\Sem 7\\ATML\\PA1\\fast-style-transfer\\stylize_image.py:9: UserWarning: 'has_mps' is deprecated, please use 'torch.backends.mps.is_built()'\n",
      "  device = {torch.has_cuda: \"cuda\", torch.has_mps: \"mps\"}.get(True, \"cpu\")\n"
     ]
    },
    {
     "name": "stdout",
     "output_type": "stream",
     "text": [
      "image saved successfully at styled_output.png\n"
     ]
    },
    {
     "name": "stderr",
     "output_type": "stream",
     "text": [
      "c:\\Jibran Data\\LUMS\\Sem 7\\ATML\\PA1\\fast-style-transfer\\stylize_image.py:9: UserWarning: 'has_cuda' is deprecated, please use 'torch.backends.cuda.is_built()'\n",
      "  device = {torch.has_cuda: \"cuda\", torch.has_mps: \"mps\"}.get(True, \"cpu\")\n",
      "c:\\Jibran Data\\LUMS\\Sem 7\\ATML\\PA1\\fast-style-transfer\\stylize_image.py:9: UserWarning: 'has_mps' is deprecated, please use 'torch.backends.mps.is_built()'\n",
      "  device = {torch.has_cuda: \"cuda\", torch.has_mps: \"mps\"}.get(True, \"cpu\")\n"
     ]
    },
    {
     "name": "stdout",
     "output_type": "stream",
     "text": [
      "image saved successfully at styled_output.png\n"
     ]
    },
    {
     "name": "stderr",
     "output_type": "stream",
     "text": [
      "c:\\Jibran Data\\LUMS\\Sem 7\\ATML\\PA1\\fast-style-transfer\\stylize_image.py:9: UserWarning: 'has_cuda' is deprecated, please use 'torch.backends.cuda.is_built()'\n",
      "  device = {torch.has_cuda: \"cuda\", torch.has_mps: \"mps\"}.get(True, \"cpu\")\n",
      "c:\\Jibran Data\\LUMS\\Sem 7\\ATML\\PA1\\fast-style-transfer\\stylize_image.py:9: UserWarning: 'has_mps' is deprecated, please use 'torch.backends.mps.is_built()'\n",
      "  device = {torch.has_cuda: \"cuda\", torch.has_mps: \"mps\"}.get(True, \"cpu\")\n"
     ]
    },
    {
     "name": "stdout",
     "output_type": "stream",
     "text": [
      "image saved successfully at styled_output.png\n"
     ]
    },
    {
     "name": "stderr",
     "output_type": "stream",
     "text": [
      "c:\\Jibran Data\\LUMS\\Sem 7\\ATML\\PA1\\fast-style-transfer\\stylize_image.py:9: UserWarning: 'has_cuda' is deprecated, please use 'torch.backends.cuda.is_built()'\n",
      "  device = {torch.has_cuda: \"cuda\", torch.has_mps: \"mps\"}.get(True, \"cpu\")\n",
      "c:\\Jibran Data\\LUMS\\Sem 7\\ATML\\PA1\\fast-style-transfer\\stylize_image.py:9: UserWarning: 'has_mps' is deprecated, please use 'torch.backends.mps.is_built()'\n",
      "  device = {torch.has_cuda: \"cuda\", torch.has_mps: \"mps\"}.get(True, \"cpu\")\n"
     ]
    },
    {
     "name": "stdout",
     "output_type": "stream",
     "text": [
      "image saved successfully at styled_output.png\n"
     ]
    },
    {
     "name": "stderr",
     "output_type": "stream",
     "text": [
      "c:\\Jibran Data\\LUMS\\Sem 7\\ATML\\PA1\\fast-style-transfer\\stylize_image.py:9: UserWarning: 'has_cuda' is deprecated, please use 'torch.backends.cuda.is_built()'\n",
      "  device = {torch.has_cuda: \"cuda\", torch.has_mps: \"mps\"}.get(True, \"cpu\")\n",
      "c:\\Jibran Data\\LUMS\\Sem 7\\ATML\\PA1\\fast-style-transfer\\stylize_image.py:9: UserWarning: 'has_mps' is deprecated, please use 'torch.backends.mps.is_built()'\n",
      "  device = {torch.has_cuda: \"cuda\", torch.has_mps: \"mps\"}.get(True, \"cpu\")\n"
     ]
    },
    {
     "name": "stdout",
     "output_type": "stream",
     "text": [
      "image saved successfully at styled_output.png\n"
     ]
    },
    {
     "name": "stderr",
     "output_type": "stream",
     "text": [
      "c:\\Jibran Data\\LUMS\\Sem 7\\ATML\\PA1\\fast-style-transfer\\stylize_image.py:9: UserWarning: 'has_cuda' is deprecated, please use 'torch.backends.cuda.is_built()'\n",
      "  device = {torch.has_cuda: \"cuda\", torch.has_mps: \"mps\"}.get(True, \"cpu\")\n",
      "c:\\Jibran Data\\LUMS\\Sem 7\\ATML\\PA1\\fast-style-transfer\\stylize_image.py:9: UserWarning: 'has_mps' is deprecated, please use 'torch.backends.mps.is_built()'\n",
      "  device = {torch.has_cuda: \"cuda\", torch.has_mps: \"mps\"}.get(True, \"cpu\")\n"
     ]
    },
    {
     "name": "stdout",
     "output_type": "stream",
     "text": [
      "image saved successfully at styled_output.png\n"
     ]
    },
    {
     "name": "stderr",
     "output_type": "stream",
     "text": [
      "c:\\Jibran Data\\LUMS\\Sem 7\\ATML\\PA1\\fast-style-transfer\\stylize_image.py:9: UserWarning: 'has_cuda' is deprecated, please use 'torch.backends.cuda.is_built()'\n",
      "  device = {torch.has_cuda: \"cuda\", torch.has_mps: \"mps\"}.get(True, \"cpu\")\n",
      "c:\\Jibran Data\\LUMS\\Sem 7\\ATML\\PA1\\fast-style-transfer\\stylize_image.py:9: UserWarning: 'has_mps' is deprecated, please use 'torch.backends.mps.is_built()'\n",
      "  device = {torch.has_cuda: \"cuda\", torch.has_mps: \"mps\"}.get(True, \"cpu\")\n"
     ]
    },
    {
     "name": "stdout",
     "output_type": "stream",
     "text": [
      "image saved successfully at styled_output.png\n"
     ]
    },
    {
     "name": "stderr",
     "output_type": "stream",
     "text": [
      "c:\\Jibran Data\\LUMS\\Sem 7\\ATML\\PA1\\fast-style-transfer\\stylize_image.py:9: UserWarning: 'has_cuda' is deprecated, please use 'torch.backends.cuda.is_built()'\n",
      "  device = {torch.has_cuda: \"cuda\", torch.has_mps: \"mps\"}.get(True, \"cpu\")\n",
      "c:\\Jibran Data\\LUMS\\Sem 7\\ATML\\PA1\\fast-style-transfer\\stylize_image.py:9: UserWarning: 'has_mps' is deprecated, please use 'torch.backends.mps.is_built()'\n",
      "  device = {torch.has_cuda: \"cuda\", torch.has_mps: \"mps\"}.get(True, \"cpu\")\n"
     ]
    },
    {
     "name": "stdout",
     "output_type": "stream",
     "text": [
      "image saved successfully at styled_output.png\n"
     ]
    },
    {
     "name": "stderr",
     "output_type": "stream",
     "text": [
      "c:\\Jibran Data\\LUMS\\Sem 7\\ATML\\PA1\\fast-style-transfer\\stylize_image.py:9: UserWarning: 'has_cuda' is deprecated, please use 'torch.backends.cuda.is_built()'\n",
      "  device = {torch.has_cuda: \"cuda\", torch.has_mps: \"mps\"}.get(True, \"cpu\")\n",
      "c:\\Jibran Data\\LUMS\\Sem 7\\ATML\\PA1\\fast-style-transfer\\stylize_image.py:9: UserWarning: 'has_mps' is deprecated, please use 'torch.backends.mps.is_built()'\n",
      "  device = {torch.has_cuda: \"cuda\", torch.has_mps: \"mps\"}.get(True, \"cpu\")\n"
     ]
    },
    {
     "name": "stdout",
     "output_type": "stream",
     "text": [
      "image saved successfully at styled_output.png\n"
     ]
    },
    {
     "name": "stderr",
     "output_type": "stream",
     "text": [
      "c:\\Jibran Data\\LUMS\\Sem 7\\ATML\\PA1\\fast-style-transfer\\stylize_image.py:9: UserWarning: 'has_cuda' is deprecated, please use 'torch.backends.cuda.is_built()'\n",
      "  device = {torch.has_cuda: \"cuda\", torch.has_mps: \"mps\"}.get(True, \"cpu\")\n",
      "c:\\Jibran Data\\LUMS\\Sem 7\\ATML\\PA1\\fast-style-transfer\\stylize_image.py:9: UserWarning: 'has_mps' is deprecated, please use 'torch.backends.mps.is_built()'\n",
      "  device = {torch.has_cuda: \"cuda\", torch.has_mps: \"mps\"}.get(True, \"cpu\")\n"
     ]
    },
    {
     "name": "stdout",
     "output_type": "stream",
     "text": [
      "image saved successfully at styled_output.png\n"
     ]
    },
    {
     "name": "stderr",
     "output_type": "stream",
     "text": [
      "c:\\Jibran Data\\LUMS\\Sem 7\\ATML\\PA1\\fast-style-transfer\\stylize_image.py:9: UserWarning: 'has_cuda' is deprecated, please use 'torch.backends.cuda.is_built()'\n",
      "  device = {torch.has_cuda: \"cuda\", torch.has_mps: \"mps\"}.get(True, \"cpu\")\n",
      "c:\\Jibran Data\\LUMS\\Sem 7\\ATML\\PA1\\fast-style-transfer\\stylize_image.py:9: UserWarning: 'has_mps' is deprecated, please use 'torch.backends.mps.is_built()'\n",
      "  device = {torch.has_cuda: \"cuda\", torch.has_mps: \"mps\"}.get(True, \"cpu\")\n"
     ]
    },
    {
     "name": "stdout",
     "output_type": "stream",
     "text": [
      "image saved successfully at styled_output.png\n"
     ]
    },
    {
     "name": "stderr",
     "output_type": "stream",
     "text": [
      "c:\\Jibran Data\\LUMS\\Sem 7\\ATML\\PA1\\fast-style-transfer\\stylize_image.py:9: UserWarning: 'has_cuda' is deprecated, please use 'torch.backends.cuda.is_built()'\n",
      "  device = {torch.has_cuda: \"cuda\", torch.has_mps: \"mps\"}.get(True, \"cpu\")\n",
      "c:\\Jibran Data\\LUMS\\Sem 7\\ATML\\PA1\\fast-style-transfer\\stylize_image.py:9: UserWarning: 'has_mps' is deprecated, please use 'torch.backends.mps.is_built()'\n",
      "  device = {torch.has_cuda: \"cuda\", torch.has_mps: \"mps\"}.get(True, \"cpu\")\n"
     ]
    },
    {
     "name": "stdout",
     "output_type": "stream",
     "text": [
      "image saved successfully at styled_output.png\n"
     ]
    },
    {
     "name": "stderr",
     "output_type": "stream",
     "text": [
      "c:\\Jibran Data\\LUMS\\Sem 7\\ATML\\PA1\\fast-style-transfer\\stylize_image.py:9: UserWarning: 'has_cuda' is deprecated, please use 'torch.backends.cuda.is_built()'\n",
      "  device = {torch.has_cuda: \"cuda\", torch.has_mps: \"mps\"}.get(True, \"cpu\")\n",
      "c:\\Jibran Data\\LUMS\\Sem 7\\ATML\\PA1\\fast-style-transfer\\stylize_image.py:9: UserWarning: 'has_mps' is deprecated, please use 'torch.backends.mps.is_built()'\n",
      "  device = {torch.has_cuda: \"cuda\", torch.has_mps: \"mps\"}.get(True, \"cpu\")\n"
     ]
    },
    {
     "data": {
      "application/vnd.jupyter.widget-view+json": {
       "model_id": "807b712a9a1644eaad7f09e435bec696",
       "version_major": 2,
       "version_minor": 0
      },
      "text/plain": [
       "Class 'car':   0%|          | 0/10 [00:00<?, ?it/s]"
      ]
     },
     "metadata": {},
     "output_type": "display_data"
    },
    {
     "name": "stdout",
     "output_type": "stream",
     "text": [
      "image saved successfully at styled_output.png\n"
     ]
    },
    {
     "name": "stderr",
     "output_type": "stream",
     "text": [
      "c:\\Jibran Data\\LUMS\\Sem 7\\ATML\\PA1\\fast-style-transfer\\stylize_image.py:9: UserWarning: 'has_cuda' is deprecated, please use 'torch.backends.cuda.is_built()'\n",
      "  device = {torch.has_cuda: \"cuda\", torch.has_mps: \"mps\"}.get(True, \"cpu\")\n",
      "c:\\Jibran Data\\LUMS\\Sem 7\\ATML\\PA1\\fast-style-transfer\\stylize_image.py:9: UserWarning: 'has_mps' is deprecated, please use 'torch.backends.mps.is_built()'\n",
      "  device = {torch.has_cuda: \"cuda\", torch.has_mps: \"mps\"}.get(True, \"cpu\")\n"
     ]
    },
    {
     "name": "stdout",
     "output_type": "stream",
     "text": [
      "image saved successfully at styled_output.png\n"
     ]
    },
    {
     "name": "stderr",
     "output_type": "stream",
     "text": [
      "c:\\Jibran Data\\LUMS\\Sem 7\\ATML\\PA1\\fast-style-transfer\\stylize_image.py:9: UserWarning: 'has_cuda' is deprecated, please use 'torch.backends.cuda.is_built()'\n",
      "  device = {torch.has_cuda: \"cuda\", torch.has_mps: \"mps\"}.get(True, \"cpu\")\n",
      "c:\\Jibran Data\\LUMS\\Sem 7\\ATML\\PA1\\fast-style-transfer\\stylize_image.py:9: UserWarning: 'has_mps' is deprecated, please use 'torch.backends.mps.is_built()'\n",
      "  device = {torch.has_cuda: \"cuda\", torch.has_mps: \"mps\"}.get(True, \"cpu\")\n"
     ]
    },
    {
     "name": "stdout",
     "output_type": "stream",
     "text": [
      "image saved successfully at styled_output.png\n"
     ]
    },
    {
     "name": "stderr",
     "output_type": "stream",
     "text": [
      "c:\\Jibran Data\\LUMS\\Sem 7\\ATML\\PA1\\fast-style-transfer\\stylize_image.py:9: UserWarning: 'has_cuda' is deprecated, please use 'torch.backends.cuda.is_built()'\n",
      "  device = {torch.has_cuda: \"cuda\", torch.has_mps: \"mps\"}.get(True, \"cpu\")\n",
      "c:\\Jibran Data\\LUMS\\Sem 7\\ATML\\PA1\\fast-style-transfer\\stylize_image.py:9: UserWarning: 'has_mps' is deprecated, please use 'torch.backends.mps.is_built()'\n",
      "  device = {torch.has_cuda: \"cuda\", torch.has_mps: \"mps\"}.get(True, \"cpu\")\n"
     ]
    },
    {
     "name": "stdout",
     "output_type": "stream",
     "text": [
      "image saved successfully at styled_output.png\n"
     ]
    },
    {
     "name": "stderr",
     "output_type": "stream",
     "text": [
      "c:\\Jibran Data\\LUMS\\Sem 7\\ATML\\PA1\\fast-style-transfer\\stylize_image.py:9: UserWarning: 'has_cuda' is deprecated, please use 'torch.backends.cuda.is_built()'\n",
      "  device = {torch.has_cuda: \"cuda\", torch.has_mps: \"mps\"}.get(True, \"cpu\")\n",
      "c:\\Jibran Data\\LUMS\\Sem 7\\ATML\\PA1\\fast-style-transfer\\stylize_image.py:9: UserWarning: 'has_mps' is deprecated, please use 'torch.backends.mps.is_built()'\n",
      "  device = {torch.has_cuda: \"cuda\", torch.has_mps: \"mps\"}.get(True, \"cpu\")\n"
     ]
    },
    {
     "name": "stdout",
     "output_type": "stream",
     "text": [
      "image saved successfully at styled_output.png\n"
     ]
    },
    {
     "name": "stderr",
     "output_type": "stream",
     "text": [
      "c:\\Jibran Data\\LUMS\\Sem 7\\ATML\\PA1\\fast-style-transfer\\stylize_image.py:9: UserWarning: 'has_cuda' is deprecated, please use 'torch.backends.cuda.is_built()'\n",
      "  device = {torch.has_cuda: \"cuda\", torch.has_mps: \"mps\"}.get(True, \"cpu\")\n",
      "c:\\Jibran Data\\LUMS\\Sem 7\\ATML\\PA1\\fast-style-transfer\\stylize_image.py:9: UserWarning: 'has_mps' is deprecated, please use 'torch.backends.mps.is_built()'\n",
      "  device = {torch.has_cuda: \"cuda\", torch.has_mps: \"mps\"}.get(True, \"cpu\")\n"
     ]
    },
    {
     "name": "stdout",
     "output_type": "stream",
     "text": [
      "image saved successfully at styled_output.png\n"
     ]
    },
    {
     "name": "stderr",
     "output_type": "stream",
     "text": [
      "c:\\Jibran Data\\LUMS\\Sem 7\\ATML\\PA1\\fast-style-transfer\\stylize_image.py:9: UserWarning: 'has_cuda' is deprecated, please use 'torch.backends.cuda.is_built()'\n",
      "  device = {torch.has_cuda: \"cuda\", torch.has_mps: \"mps\"}.get(True, \"cpu\")\n",
      "c:\\Jibran Data\\LUMS\\Sem 7\\ATML\\PA1\\fast-style-transfer\\stylize_image.py:9: UserWarning: 'has_mps' is deprecated, please use 'torch.backends.mps.is_built()'\n",
      "  device = {torch.has_cuda: \"cuda\", torch.has_mps: \"mps\"}.get(True, \"cpu\")\n"
     ]
    },
    {
     "name": "stdout",
     "output_type": "stream",
     "text": [
      "image saved successfully at styled_output.png\n"
     ]
    },
    {
     "name": "stderr",
     "output_type": "stream",
     "text": [
      "c:\\Jibran Data\\LUMS\\Sem 7\\ATML\\PA1\\fast-style-transfer\\stylize_image.py:9: UserWarning: 'has_cuda' is deprecated, please use 'torch.backends.cuda.is_built()'\n",
      "  device = {torch.has_cuda: \"cuda\", torch.has_mps: \"mps\"}.get(True, \"cpu\")\n",
      "c:\\Jibran Data\\LUMS\\Sem 7\\ATML\\PA1\\fast-style-transfer\\stylize_image.py:9: UserWarning: 'has_mps' is deprecated, please use 'torch.backends.mps.is_built()'\n",
      "  device = {torch.has_cuda: \"cuda\", torch.has_mps: \"mps\"}.get(True, \"cpu\")\n"
     ]
    },
    {
     "name": "stdout",
     "output_type": "stream",
     "text": [
      "image saved successfully at styled_output.png\n"
     ]
    },
    {
     "name": "stderr",
     "output_type": "stream",
     "text": [
      "c:\\Jibran Data\\LUMS\\Sem 7\\ATML\\PA1\\fast-style-transfer\\stylize_image.py:9: UserWarning: 'has_cuda' is deprecated, please use 'torch.backends.cuda.is_built()'\n",
      "  device = {torch.has_cuda: \"cuda\", torch.has_mps: \"mps\"}.get(True, \"cpu\")\n",
      "c:\\Jibran Data\\LUMS\\Sem 7\\ATML\\PA1\\fast-style-transfer\\stylize_image.py:9: UserWarning: 'has_mps' is deprecated, please use 'torch.backends.mps.is_built()'\n",
      "  device = {torch.has_cuda: \"cuda\", torch.has_mps: \"mps\"}.get(True, \"cpu\")\n"
     ]
    },
    {
     "name": "stdout",
     "output_type": "stream",
     "text": [
      "image saved successfully at styled_output.png\n"
     ]
    },
    {
     "name": "stderr",
     "output_type": "stream",
     "text": [
      "c:\\Jibran Data\\LUMS\\Sem 7\\ATML\\PA1\\fast-style-transfer\\stylize_image.py:9: UserWarning: 'has_cuda' is deprecated, please use 'torch.backends.cuda.is_built()'\n",
      "  device = {torch.has_cuda: \"cuda\", torch.has_mps: \"mps\"}.get(True, \"cpu\")\n",
      "c:\\Jibran Data\\LUMS\\Sem 7\\ATML\\PA1\\fast-style-transfer\\stylize_image.py:9: UserWarning: 'has_mps' is deprecated, please use 'torch.backends.mps.is_built()'\n",
      "  device = {torch.has_cuda: \"cuda\", torch.has_mps: \"mps\"}.get(True, \"cpu\")\n"
     ]
    },
    {
     "name": "stdout",
     "output_type": "stream",
     "text": [
      "image saved successfully at styled_output.png\n"
     ]
    },
    {
     "name": "stderr",
     "output_type": "stream",
     "text": [
      "c:\\Jibran Data\\LUMS\\Sem 7\\ATML\\PA1\\fast-style-transfer\\stylize_image.py:9: UserWarning: 'has_cuda' is deprecated, please use 'torch.backends.cuda.is_built()'\n",
      "  device = {torch.has_cuda: \"cuda\", torch.has_mps: \"mps\"}.get(True, \"cpu\")\n",
      "c:\\Jibran Data\\LUMS\\Sem 7\\ATML\\PA1\\fast-style-transfer\\stylize_image.py:9: UserWarning: 'has_mps' is deprecated, please use 'torch.backends.mps.is_built()'\n",
      "  device = {torch.has_cuda: \"cuda\", torch.has_mps: \"mps\"}.get(True, \"cpu\")\n"
     ]
    },
    {
     "name": "stdout",
     "output_type": "stream",
     "text": [
      "image saved successfully at styled_output.png\n"
     ]
    },
    {
     "name": "stderr",
     "output_type": "stream",
     "text": [
      "c:\\Jibran Data\\LUMS\\Sem 7\\ATML\\PA1\\fast-style-transfer\\stylize_image.py:9: UserWarning: 'has_cuda' is deprecated, please use 'torch.backends.cuda.is_built()'\n",
      "  device = {torch.has_cuda: \"cuda\", torch.has_mps: \"mps\"}.get(True, \"cpu\")\n",
      "c:\\Jibran Data\\LUMS\\Sem 7\\ATML\\PA1\\fast-style-transfer\\stylize_image.py:9: UserWarning: 'has_mps' is deprecated, please use 'torch.backends.mps.is_built()'\n",
      "  device = {torch.has_cuda: \"cuda\", torch.has_mps: \"mps\"}.get(True, \"cpu\")\n"
     ]
    },
    {
     "name": "stdout",
     "output_type": "stream",
     "text": [
      "image saved successfully at styled_output.png\n"
     ]
    },
    {
     "name": "stderr",
     "output_type": "stream",
     "text": [
      "c:\\Jibran Data\\LUMS\\Sem 7\\ATML\\PA1\\fast-style-transfer\\stylize_image.py:9: UserWarning: 'has_cuda' is deprecated, please use 'torch.backends.cuda.is_built()'\n",
      "  device = {torch.has_cuda: \"cuda\", torch.has_mps: \"mps\"}.get(True, \"cpu\")\n",
      "c:\\Jibran Data\\LUMS\\Sem 7\\ATML\\PA1\\fast-style-transfer\\stylize_image.py:9: UserWarning: 'has_mps' is deprecated, please use 'torch.backends.mps.is_built()'\n",
      "  device = {torch.has_cuda: \"cuda\", torch.has_mps: \"mps\"}.get(True, \"cpu\")\n"
     ]
    },
    {
     "name": "stdout",
     "output_type": "stream",
     "text": [
      "image saved successfully at styled_output.png\n"
     ]
    },
    {
     "name": "stderr",
     "output_type": "stream",
     "text": [
      "c:\\Jibran Data\\LUMS\\Sem 7\\ATML\\PA1\\fast-style-transfer\\stylize_image.py:9: UserWarning: 'has_cuda' is deprecated, please use 'torch.backends.cuda.is_built()'\n",
      "  device = {torch.has_cuda: \"cuda\", torch.has_mps: \"mps\"}.get(True, \"cpu\")\n",
      "c:\\Jibran Data\\LUMS\\Sem 7\\ATML\\PA1\\fast-style-transfer\\stylize_image.py:9: UserWarning: 'has_mps' is deprecated, please use 'torch.backends.mps.is_built()'\n",
      "  device = {torch.has_cuda: \"cuda\", torch.has_mps: \"mps\"}.get(True, \"cpu\")\n"
     ]
    },
    {
     "name": "stdout",
     "output_type": "stream",
     "text": [
      "image saved successfully at styled_output.png\n"
     ]
    },
    {
     "name": "stderr",
     "output_type": "stream",
     "text": [
      "c:\\Jibran Data\\LUMS\\Sem 7\\ATML\\PA1\\fast-style-transfer\\stylize_image.py:9: UserWarning: 'has_cuda' is deprecated, please use 'torch.backends.cuda.is_built()'\n",
      "  device = {torch.has_cuda: \"cuda\", torch.has_mps: \"mps\"}.get(True, \"cpu\")\n",
      "c:\\Jibran Data\\LUMS\\Sem 7\\ATML\\PA1\\fast-style-transfer\\stylize_image.py:9: UserWarning: 'has_mps' is deprecated, please use 'torch.backends.mps.is_built()'\n",
      "  device = {torch.has_cuda: \"cuda\", torch.has_mps: \"mps\"}.get(True, \"cpu\")\n"
     ]
    },
    {
     "name": "stdout",
     "output_type": "stream",
     "text": [
      "image saved successfully at styled_output.png\n"
     ]
    },
    {
     "name": "stderr",
     "output_type": "stream",
     "text": [
      "c:\\Jibran Data\\LUMS\\Sem 7\\ATML\\PA1\\fast-style-transfer\\stylize_image.py:9: UserWarning: 'has_cuda' is deprecated, please use 'torch.backends.cuda.is_built()'\n",
      "  device = {torch.has_cuda: \"cuda\", torch.has_mps: \"mps\"}.get(True, \"cpu\")\n",
      "c:\\Jibran Data\\LUMS\\Sem 7\\ATML\\PA1\\fast-style-transfer\\stylize_image.py:9: UserWarning: 'has_mps' is deprecated, please use 'torch.backends.mps.is_built()'\n",
      "  device = {torch.has_cuda: \"cuda\", torch.has_mps: \"mps\"}.get(True, \"cpu\")\n"
     ]
    },
    {
     "name": "stdout",
     "output_type": "stream",
     "text": [
      "image saved successfully at styled_output.png\n"
     ]
    },
    {
     "name": "stderr",
     "output_type": "stream",
     "text": [
      "c:\\Jibran Data\\LUMS\\Sem 7\\ATML\\PA1\\fast-style-transfer\\stylize_image.py:9: UserWarning: 'has_cuda' is deprecated, please use 'torch.backends.cuda.is_built()'\n",
      "  device = {torch.has_cuda: \"cuda\", torch.has_mps: \"mps\"}.get(True, \"cpu\")\n",
      "c:\\Jibran Data\\LUMS\\Sem 7\\ATML\\PA1\\fast-style-transfer\\stylize_image.py:9: UserWarning: 'has_mps' is deprecated, please use 'torch.backends.mps.is_built()'\n",
      "  device = {torch.has_cuda: \"cuda\", torch.has_mps: \"mps\"}.get(True, \"cpu\")\n"
     ]
    },
    {
     "name": "stdout",
     "output_type": "stream",
     "text": [
      "image saved successfully at styled_output.png\n"
     ]
    },
    {
     "name": "stderr",
     "output_type": "stream",
     "text": [
      "c:\\Jibran Data\\LUMS\\Sem 7\\ATML\\PA1\\fast-style-transfer\\stylize_image.py:9: UserWarning: 'has_cuda' is deprecated, please use 'torch.backends.cuda.is_built()'\n",
      "  device = {torch.has_cuda: \"cuda\", torch.has_mps: \"mps\"}.get(True, \"cpu\")\n",
      "c:\\Jibran Data\\LUMS\\Sem 7\\ATML\\PA1\\fast-style-transfer\\stylize_image.py:9: UserWarning: 'has_mps' is deprecated, please use 'torch.backends.mps.is_built()'\n",
      "  device = {torch.has_cuda: \"cuda\", torch.has_mps: \"mps\"}.get(True, \"cpu\")\n"
     ]
    },
    {
     "name": "stdout",
     "output_type": "stream",
     "text": [
      "image saved successfully at styled_output.png\n"
     ]
    },
    {
     "name": "stderr",
     "output_type": "stream",
     "text": [
      "c:\\Jibran Data\\LUMS\\Sem 7\\ATML\\PA1\\fast-style-transfer\\stylize_image.py:9: UserWarning: 'has_cuda' is deprecated, please use 'torch.backends.cuda.is_built()'\n",
      "  device = {torch.has_cuda: \"cuda\", torch.has_mps: \"mps\"}.get(True, \"cpu\")\n",
      "c:\\Jibran Data\\LUMS\\Sem 7\\ATML\\PA1\\fast-style-transfer\\stylize_image.py:9: UserWarning: 'has_mps' is deprecated, please use 'torch.backends.mps.is_built()'\n",
      "  device = {torch.has_cuda: \"cuda\", torch.has_mps: \"mps\"}.get(True, \"cpu\")\n"
     ]
    },
    {
     "name": "stdout",
     "output_type": "stream",
     "text": [
      "image saved successfully at styled_output.png\n"
     ]
    },
    {
     "name": "stderr",
     "output_type": "stream",
     "text": [
      "c:\\Jibran Data\\LUMS\\Sem 7\\ATML\\PA1\\fast-style-transfer\\stylize_image.py:9: UserWarning: 'has_cuda' is deprecated, please use 'torch.backends.cuda.is_built()'\n",
      "  device = {torch.has_cuda: \"cuda\", torch.has_mps: \"mps\"}.get(True, \"cpu\")\n",
      "c:\\Jibran Data\\LUMS\\Sem 7\\ATML\\PA1\\fast-style-transfer\\stylize_image.py:9: UserWarning: 'has_mps' is deprecated, please use 'torch.backends.mps.is_built()'\n",
      "  device = {torch.has_cuda: \"cuda\", torch.has_mps: \"mps\"}.get(True, \"cpu\")\n"
     ]
    },
    {
     "name": "stdout",
     "output_type": "stream",
     "text": [
      "image saved successfully at styled_output.png\n"
     ]
    },
    {
     "name": "stderr",
     "output_type": "stream",
     "text": [
      "c:\\Jibran Data\\LUMS\\Sem 7\\ATML\\PA1\\fast-style-transfer\\stylize_image.py:9: UserWarning: 'has_cuda' is deprecated, please use 'torch.backends.cuda.is_built()'\n",
      "  device = {torch.has_cuda: \"cuda\", torch.has_mps: \"mps\"}.get(True, \"cpu\")\n",
      "c:\\Jibran Data\\LUMS\\Sem 7\\ATML\\PA1\\fast-style-transfer\\stylize_image.py:9: UserWarning: 'has_mps' is deprecated, please use 'torch.backends.mps.is_built()'\n",
      "  device = {torch.has_cuda: \"cuda\", torch.has_mps: \"mps\"}.get(True, \"cpu\")\n"
     ]
    },
    {
     "name": "stdout",
     "output_type": "stream",
     "text": [
      "image saved successfully at styled_output.png\n"
     ]
    },
    {
     "name": "stderr",
     "output_type": "stream",
     "text": [
      "c:\\Jibran Data\\LUMS\\Sem 7\\ATML\\PA1\\fast-style-transfer\\stylize_image.py:9: UserWarning: 'has_cuda' is deprecated, please use 'torch.backends.cuda.is_built()'\n",
      "  device = {torch.has_cuda: \"cuda\", torch.has_mps: \"mps\"}.get(True, \"cpu\")\n",
      "c:\\Jibran Data\\LUMS\\Sem 7\\ATML\\PA1\\fast-style-transfer\\stylize_image.py:9: UserWarning: 'has_mps' is deprecated, please use 'torch.backends.mps.is_built()'\n",
      "  device = {torch.has_cuda: \"cuda\", torch.has_mps: \"mps\"}.get(True, \"cpu\")\n"
     ]
    },
    {
     "name": "stdout",
     "output_type": "stream",
     "text": [
      "image saved successfully at styled_output.png\n"
     ]
    },
    {
     "name": "stderr",
     "output_type": "stream",
     "text": [
      "c:\\Jibran Data\\LUMS\\Sem 7\\ATML\\PA1\\fast-style-transfer\\stylize_image.py:9: UserWarning: 'has_cuda' is deprecated, please use 'torch.backends.cuda.is_built()'\n",
      "  device = {torch.has_cuda: \"cuda\", torch.has_mps: \"mps\"}.get(True, \"cpu\")\n",
      "c:\\Jibran Data\\LUMS\\Sem 7\\ATML\\PA1\\fast-style-transfer\\stylize_image.py:9: UserWarning: 'has_mps' is deprecated, please use 'torch.backends.mps.is_built()'\n",
      "  device = {torch.has_cuda: \"cuda\", torch.has_mps: \"mps\"}.get(True, \"cpu\")\n"
     ]
    },
    {
     "name": "stdout",
     "output_type": "stream",
     "text": [
      "image saved successfully at styled_output.png\n"
     ]
    },
    {
     "name": "stderr",
     "output_type": "stream",
     "text": [
      "c:\\Jibran Data\\LUMS\\Sem 7\\ATML\\PA1\\fast-style-transfer\\stylize_image.py:9: UserWarning: 'has_cuda' is deprecated, please use 'torch.backends.cuda.is_built()'\n",
      "  device = {torch.has_cuda: \"cuda\", torch.has_mps: \"mps\"}.get(True, \"cpu\")\n",
      "c:\\Jibran Data\\LUMS\\Sem 7\\ATML\\PA1\\fast-style-transfer\\stylize_image.py:9: UserWarning: 'has_mps' is deprecated, please use 'torch.backends.mps.is_built()'\n",
      "  device = {torch.has_cuda: \"cuda\", torch.has_mps: \"mps\"}.get(True, \"cpu\")\n"
     ]
    },
    {
     "name": "stdout",
     "output_type": "stream",
     "text": [
      "image saved successfully at styled_output.png\n"
     ]
    },
    {
     "name": "stderr",
     "output_type": "stream",
     "text": [
      "c:\\Jibran Data\\LUMS\\Sem 7\\ATML\\PA1\\fast-style-transfer\\stylize_image.py:9: UserWarning: 'has_cuda' is deprecated, please use 'torch.backends.cuda.is_built()'\n",
      "  device = {torch.has_cuda: \"cuda\", torch.has_mps: \"mps\"}.get(True, \"cpu\")\n",
      "c:\\Jibran Data\\LUMS\\Sem 7\\ATML\\PA1\\fast-style-transfer\\stylize_image.py:9: UserWarning: 'has_mps' is deprecated, please use 'torch.backends.mps.is_built()'\n",
      "  device = {torch.has_cuda: \"cuda\", torch.has_mps: \"mps\"}.get(True, \"cpu\")\n"
     ]
    },
    {
     "name": "stdout",
     "output_type": "stream",
     "text": [
      "image saved successfully at styled_output.png\n"
     ]
    },
    {
     "name": "stderr",
     "output_type": "stream",
     "text": [
      "c:\\Jibran Data\\LUMS\\Sem 7\\ATML\\PA1\\fast-style-transfer\\stylize_image.py:9: UserWarning: 'has_cuda' is deprecated, please use 'torch.backends.cuda.is_built()'\n",
      "  device = {torch.has_cuda: \"cuda\", torch.has_mps: \"mps\"}.get(True, \"cpu\")\n",
      "c:\\Jibran Data\\LUMS\\Sem 7\\ATML\\PA1\\fast-style-transfer\\stylize_image.py:9: UserWarning: 'has_mps' is deprecated, please use 'torch.backends.mps.is_built()'\n",
      "  device = {torch.has_cuda: \"cuda\", torch.has_mps: \"mps\"}.get(True, \"cpu\")\n"
     ]
    },
    {
     "name": "stdout",
     "output_type": "stream",
     "text": [
      "image saved successfully at styled_output.png\n"
     ]
    },
    {
     "name": "stderr",
     "output_type": "stream",
     "text": [
      "c:\\Jibran Data\\LUMS\\Sem 7\\ATML\\PA1\\fast-style-transfer\\stylize_image.py:9: UserWarning: 'has_cuda' is deprecated, please use 'torch.backends.cuda.is_built()'\n",
      "  device = {torch.has_cuda: \"cuda\", torch.has_mps: \"mps\"}.get(True, \"cpu\")\n",
      "c:\\Jibran Data\\LUMS\\Sem 7\\ATML\\PA1\\fast-style-transfer\\stylize_image.py:9: UserWarning: 'has_mps' is deprecated, please use 'torch.backends.mps.is_built()'\n",
      "  device = {torch.has_cuda: \"cuda\", torch.has_mps: \"mps\"}.get(True, \"cpu\")\n"
     ]
    },
    {
     "name": "stdout",
     "output_type": "stream",
     "text": [
      "image saved successfully at styled_output.png\n"
     ]
    },
    {
     "name": "stderr",
     "output_type": "stream",
     "text": [
      "c:\\Jibran Data\\LUMS\\Sem 7\\ATML\\PA1\\fast-style-transfer\\stylize_image.py:9: UserWarning: 'has_cuda' is deprecated, please use 'torch.backends.cuda.is_built()'\n",
      "  device = {torch.has_cuda: \"cuda\", torch.has_mps: \"mps\"}.get(True, \"cpu\")\n",
      "c:\\Jibran Data\\LUMS\\Sem 7\\ATML\\PA1\\fast-style-transfer\\stylize_image.py:9: UserWarning: 'has_mps' is deprecated, please use 'torch.backends.mps.is_built()'\n",
      "  device = {torch.has_cuda: \"cuda\", torch.has_mps: \"mps\"}.get(True, \"cpu\")\n"
     ]
    },
    {
     "name": "stdout",
     "output_type": "stream",
     "text": [
      "image saved successfully at styled_output.png\n"
     ]
    },
    {
     "name": "stderr",
     "output_type": "stream",
     "text": [
      "c:\\Jibran Data\\LUMS\\Sem 7\\ATML\\PA1\\fast-style-transfer\\stylize_image.py:9: UserWarning: 'has_cuda' is deprecated, please use 'torch.backends.cuda.is_built()'\n",
      "  device = {torch.has_cuda: \"cuda\", torch.has_mps: \"mps\"}.get(True, \"cpu\")\n",
      "c:\\Jibran Data\\LUMS\\Sem 7\\ATML\\PA1\\fast-style-transfer\\stylize_image.py:9: UserWarning: 'has_mps' is deprecated, please use 'torch.backends.mps.is_built()'\n",
      "  device = {torch.has_cuda: \"cuda\", torch.has_mps: \"mps\"}.get(True, \"cpu\")\n"
     ]
    },
    {
     "name": "stdout",
     "output_type": "stream",
     "text": [
      "image saved successfully at styled_output.png\n"
     ]
    },
    {
     "name": "stderr",
     "output_type": "stream",
     "text": [
      "c:\\Jibran Data\\LUMS\\Sem 7\\ATML\\PA1\\fast-style-transfer\\stylize_image.py:9: UserWarning: 'has_cuda' is deprecated, please use 'torch.backends.cuda.is_built()'\n",
      "  device = {torch.has_cuda: \"cuda\", torch.has_mps: \"mps\"}.get(True, \"cpu\")\n",
      "c:\\Jibran Data\\LUMS\\Sem 7\\ATML\\PA1\\fast-style-transfer\\stylize_image.py:9: UserWarning: 'has_mps' is deprecated, please use 'torch.backends.mps.is_built()'\n",
      "  device = {torch.has_cuda: \"cuda\", torch.has_mps: \"mps\"}.get(True, \"cpu\")\n"
     ]
    },
    {
     "name": "stdout",
     "output_type": "stream",
     "text": [
      "image saved successfully at styled_output.png\n"
     ]
    },
    {
     "name": "stderr",
     "output_type": "stream",
     "text": [
      "c:\\Jibran Data\\LUMS\\Sem 7\\ATML\\PA1\\fast-style-transfer\\stylize_image.py:9: UserWarning: 'has_cuda' is deprecated, please use 'torch.backends.cuda.is_built()'\n",
      "  device = {torch.has_cuda: \"cuda\", torch.has_mps: \"mps\"}.get(True, \"cpu\")\n",
      "c:\\Jibran Data\\LUMS\\Sem 7\\ATML\\PA1\\fast-style-transfer\\stylize_image.py:9: UserWarning: 'has_mps' is deprecated, please use 'torch.backends.mps.is_built()'\n",
      "  device = {torch.has_cuda: \"cuda\", torch.has_mps: \"mps\"}.get(True, \"cpu\")\n"
     ]
    },
    {
     "name": "stdout",
     "output_type": "stream",
     "text": [
      "image saved successfully at styled_output.png\n"
     ]
    },
    {
     "name": "stderr",
     "output_type": "stream",
     "text": [
      "c:\\Jibran Data\\LUMS\\Sem 7\\ATML\\PA1\\fast-style-transfer\\stylize_image.py:9: UserWarning: 'has_cuda' is deprecated, please use 'torch.backends.cuda.is_built()'\n",
      "  device = {torch.has_cuda: \"cuda\", torch.has_mps: \"mps\"}.get(True, \"cpu\")\n",
      "c:\\Jibran Data\\LUMS\\Sem 7\\ATML\\PA1\\fast-style-transfer\\stylize_image.py:9: UserWarning: 'has_mps' is deprecated, please use 'torch.backends.mps.is_built()'\n",
      "  device = {torch.has_cuda: \"cuda\", torch.has_mps: \"mps\"}.get(True, \"cpu\")\n"
     ]
    },
    {
     "name": "stdout",
     "output_type": "stream",
     "text": [
      "image saved successfully at styled_output.png\n"
     ]
    },
    {
     "name": "stderr",
     "output_type": "stream",
     "text": [
      "c:\\Jibran Data\\LUMS\\Sem 7\\ATML\\PA1\\fast-style-transfer\\stylize_image.py:9: UserWarning: 'has_cuda' is deprecated, please use 'torch.backends.cuda.is_built()'\n",
      "  device = {torch.has_cuda: \"cuda\", torch.has_mps: \"mps\"}.get(True, \"cpu\")\n",
      "c:\\Jibran Data\\LUMS\\Sem 7\\ATML\\PA1\\fast-style-transfer\\stylize_image.py:9: UserWarning: 'has_mps' is deprecated, please use 'torch.backends.mps.is_built()'\n",
      "  device = {torch.has_cuda: \"cuda\", torch.has_mps: \"mps\"}.get(True, \"cpu\")\n"
     ]
    },
    {
     "name": "stdout",
     "output_type": "stream",
     "text": [
      "image saved successfully at styled_output.png\n"
     ]
    },
    {
     "name": "stderr",
     "output_type": "stream",
     "text": [
      "c:\\Jibran Data\\LUMS\\Sem 7\\ATML\\PA1\\fast-style-transfer\\stylize_image.py:9: UserWarning: 'has_cuda' is deprecated, please use 'torch.backends.cuda.is_built()'\n",
      "  device = {torch.has_cuda: \"cuda\", torch.has_mps: \"mps\"}.get(True, \"cpu\")\n",
      "c:\\Jibran Data\\LUMS\\Sem 7\\ATML\\PA1\\fast-style-transfer\\stylize_image.py:9: UserWarning: 'has_mps' is deprecated, please use 'torch.backends.mps.is_built()'\n",
      "  device = {torch.has_cuda: \"cuda\", torch.has_mps: \"mps\"}.get(True, \"cpu\")\n"
     ]
    },
    {
     "name": "stdout",
     "output_type": "stream",
     "text": [
      "image saved successfully at styled_output.png\n"
     ]
    },
    {
     "name": "stderr",
     "output_type": "stream",
     "text": [
      "c:\\Jibran Data\\LUMS\\Sem 7\\ATML\\PA1\\fast-style-transfer\\stylize_image.py:9: UserWarning: 'has_cuda' is deprecated, please use 'torch.backends.cuda.is_built()'\n",
      "  device = {torch.has_cuda: \"cuda\", torch.has_mps: \"mps\"}.get(True, \"cpu\")\n",
      "c:\\Jibran Data\\LUMS\\Sem 7\\ATML\\PA1\\fast-style-transfer\\stylize_image.py:9: UserWarning: 'has_mps' is deprecated, please use 'torch.backends.mps.is_built()'\n",
      "  device = {torch.has_cuda: \"cuda\", torch.has_mps: \"mps\"}.get(True, \"cpu\")\n"
     ]
    },
    {
     "name": "stdout",
     "output_type": "stream",
     "text": [
      "image saved successfully at styled_output.png\n"
     ]
    },
    {
     "name": "stderr",
     "output_type": "stream",
     "text": [
      "c:\\Jibran Data\\LUMS\\Sem 7\\ATML\\PA1\\fast-style-transfer\\stylize_image.py:9: UserWarning: 'has_cuda' is deprecated, please use 'torch.backends.cuda.is_built()'\n",
      "  device = {torch.has_cuda: \"cuda\", torch.has_mps: \"mps\"}.get(True, \"cpu\")\n",
      "c:\\Jibran Data\\LUMS\\Sem 7\\ATML\\PA1\\fast-style-transfer\\stylize_image.py:9: UserWarning: 'has_mps' is deprecated, please use 'torch.backends.mps.is_built()'\n",
      "  device = {torch.has_cuda: \"cuda\", torch.has_mps: \"mps\"}.get(True, \"cpu\")\n"
     ]
    },
    {
     "name": "stdout",
     "output_type": "stream",
     "text": [
      "image saved successfully at styled_output.png\n"
     ]
    },
    {
     "name": "stderr",
     "output_type": "stream",
     "text": [
      "c:\\Jibran Data\\LUMS\\Sem 7\\ATML\\PA1\\fast-style-transfer\\stylize_image.py:9: UserWarning: 'has_cuda' is deprecated, please use 'torch.backends.cuda.is_built()'\n",
      "  device = {torch.has_cuda: \"cuda\", torch.has_mps: \"mps\"}.get(True, \"cpu\")\n",
      "c:\\Jibran Data\\LUMS\\Sem 7\\ATML\\PA1\\fast-style-transfer\\stylize_image.py:9: UserWarning: 'has_mps' is deprecated, please use 'torch.backends.mps.is_built()'\n",
      "  device = {torch.has_cuda: \"cuda\", torch.has_mps: \"mps\"}.get(True, \"cpu\")\n"
     ]
    },
    {
     "name": "stdout",
     "output_type": "stream",
     "text": [
      "image saved successfully at styled_output.png\n"
     ]
    },
    {
     "name": "stderr",
     "output_type": "stream",
     "text": [
      "c:\\Jibran Data\\LUMS\\Sem 7\\ATML\\PA1\\fast-style-transfer\\stylize_image.py:9: UserWarning: 'has_cuda' is deprecated, please use 'torch.backends.cuda.is_built()'\n",
      "  device = {torch.has_cuda: \"cuda\", torch.has_mps: \"mps\"}.get(True, \"cpu\")\n",
      "c:\\Jibran Data\\LUMS\\Sem 7\\ATML\\PA1\\fast-style-transfer\\stylize_image.py:9: UserWarning: 'has_mps' is deprecated, please use 'torch.backends.mps.is_built()'\n",
      "  device = {torch.has_cuda: \"cuda\", torch.has_mps: \"mps\"}.get(True, \"cpu\")\n"
     ]
    },
    {
     "name": "stdout",
     "output_type": "stream",
     "text": [
      "image saved successfully at styled_output.png\n"
     ]
    },
    {
     "name": "stderr",
     "output_type": "stream",
     "text": [
      "c:\\Jibran Data\\LUMS\\Sem 7\\ATML\\PA1\\fast-style-transfer\\stylize_image.py:9: UserWarning: 'has_cuda' is deprecated, please use 'torch.backends.cuda.is_built()'\n",
      "  device = {torch.has_cuda: \"cuda\", torch.has_mps: \"mps\"}.get(True, \"cpu\")\n",
      "c:\\Jibran Data\\LUMS\\Sem 7\\ATML\\PA1\\fast-style-transfer\\stylize_image.py:9: UserWarning: 'has_mps' is deprecated, please use 'torch.backends.mps.is_built()'\n",
      "  device = {torch.has_cuda: \"cuda\", torch.has_mps: \"mps\"}.get(True, \"cpu\")\n"
     ]
    },
    {
     "name": "stdout",
     "output_type": "stream",
     "text": [
      "image saved successfully at styled_output.png"
     ]
    },
    {
     "name": "stderr",
     "output_type": "stream",
     "text": [
      "c:\\Jibran Data\\LUMS\\Sem 7\\ATML\\PA1\\fast-style-transfer\\stylize_image.py:9: UserWarning: 'has_cuda' is deprecated, please use 'torch.backends.cuda.is_built()'\n",
      "  device = {torch.has_cuda: \"cuda\", torch.has_mps: \"mps\"}.get(True, \"cpu\")\n",
      "c:\\Jibran Data\\LUMS\\Sem 7\\ATML\\PA1\\fast-style-transfer\\stylize_image.py:9: UserWarning: 'has_mps' is deprecated, please use 'torch.backends.mps.is_built()'\n",
      "  device = {torch.has_cuda: \"cuda\", torch.has_mps: \"mps\"}.get(True, \"cpu\")\n"
     ]
    },
    {
     "name": "stdout",
     "output_type": "stream",
     "text": [
      "\n",
      "image saved successfully at styled_output.png\n"
     ]
    },
    {
     "name": "stderr",
     "output_type": "stream",
     "text": [
      "c:\\Jibran Data\\LUMS\\Sem 7\\ATML\\PA1\\fast-style-transfer\\stylize_image.py:9: UserWarning: 'has_cuda' is deprecated, please use 'torch.backends.cuda.is_built()'\n",
      "  device = {torch.has_cuda: \"cuda\", torch.has_mps: \"mps\"}.get(True, \"cpu\")\n",
      "c:\\Jibran Data\\LUMS\\Sem 7\\ATML\\PA1\\fast-style-transfer\\stylize_image.py:9: UserWarning: 'has_mps' is deprecated, please use 'torch.backends.mps.is_built()'\n",
      "  device = {torch.has_cuda: \"cuda\", torch.has_mps: \"mps\"}.get(True, \"cpu\")\n"
     ]
    },
    {
     "data": {
      "application/vnd.jupyter.widget-view+json": {
       "model_id": "e672d4cc90364f758827cec693422bf1",
       "version_major": 2,
       "version_minor": 0
      },
      "text/plain": [
       "Class 'cat':   0%|          | 0/10 [00:00<?, ?it/s]"
      ]
     },
     "metadata": {},
     "output_type": "display_data"
    },
    {
     "name": "stdout",
     "output_type": "stream",
     "text": [
      "image saved successfully at styled_output.png\n"
     ]
    },
    {
     "name": "stderr",
     "output_type": "stream",
     "text": [
      "c:\\Jibran Data\\LUMS\\Sem 7\\ATML\\PA1\\fast-style-transfer\\stylize_image.py:9: UserWarning: 'has_cuda' is deprecated, please use 'torch.backends.cuda.is_built()'\n",
      "  device = {torch.has_cuda: \"cuda\", torch.has_mps: \"mps\"}.get(True, \"cpu\")\n",
      "c:\\Jibran Data\\LUMS\\Sem 7\\ATML\\PA1\\fast-style-transfer\\stylize_image.py:9: UserWarning: 'has_mps' is deprecated, please use 'torch.backends.mps.is_built()'\n",
      "  device = {torch.has_cuda: \"cuda\", torch.has_mps: \"mps\"}.get(True, \"cpu\")\n"
     ]
    },
    {
     "name": "stdout",
     "output_type": "stream",
     "text": [
      "image saved successfully at styled_output.png\n"
     ]
    },
    {
     "name": "stderr",
     "output_type": "stream",
     "text": [
      "c:\\Jibran Data\\LUMS\\Sem 7\\ATML\\PA1\\fast-style-transfer\\stylize_image.py:9: UserWarning: 'has_cuda' is deprecated, please use 'torch.backends.cuda.is_built()'\n",
      "  device = {torch.has_cuda: \"cuda\", torch.has_mps: \"mps\"}.get(True, \"cpu\")\n",
      "c:\\Jibran Data\\LUMS\\Sem 7\\ATML\\PA1\\fast-style-transfer\\stylize_image.py:9: UserWarning: 'has_mps' is deprecated, please use 'torch.backends.mps.is_built()'\n",
      "  device = {torch.has_cuda: \"cuda\", torch.has_mps: \"mps\"}.get(True, \"cpu\")\n"
     ]
    },
    {
     "name": "stdout",
     "output_type": "stream",
     "text": [
      "image saved successfully at styled_output.png\n"
     ]
    },
    {
     "name": "stderr",
     "output_type": "stream",
     "text": [
      "c:\\Jibran Data\\LUMS\\Sem 7\\ATML\\PA1\\fast-style-transfer\\stylize_image.py:9: UserWarning: 'has_cuda' is deprecated, please use 'torch.backends.cuda.is_built()'\n",
      "  device = {torch.has_cuda: \"cuda\", torch.has_mps: \"mps\"}.get(True, \"cpu\")\n",
      "c:\\Jibran Data\\LUMS\\Sem 7\\ATML\\PA1\\fast-style-transfer\\stylize_image.py:9: UserWarning: 'has_mps' is deprecated, please use 'torch.backends.mps.is_built()'\n",
      "  device = {torch.has_cuda: \"cuda\", torch.has_mps: \"mps\"}.get(True, \"cpu\")\n"
     ]
    },
    {
     "name": "stdout",
     "output_type": "stream",
     "text": [
      "image saved successfully at styled_output.png\n"
     ]
    },
    {
     "name": "stderr",
     "output_type": "stream",
     "text": [
      "c:\\Jibran Data\\LUMS\\Sem 7\\ATML\\PA1\\fast-style-transfer\\stylize_image.py:9: UserWarning: 'has_cuda' is deprecated, please use 'torch.backends.cuda.is_built()'\n",
      "  device = {torch.has_cuda: \"cuda\", torch.has_mps: \"mps\"}.get(True, \"cpu\")\n",
      "c:\\Jibran Data\\LUMS\\Sem 7\\ATML\\PA1\\fast-style-transfer\\stylize_image.py:9: UserWarning: 'has_mps' is deprecated, please use 'torch.backends.mps.is_built()'\n",
      "  device = {torch.has_cuda: \"cuda\", torch.has_mps: \"mps\"}.get(True, \"cpu\")\n"
     ]
    },
    {
     "name": "stdout",
     "output_type": "stream",
     "text": [
      "image saved successfully at styled_output.png\n"
     ]
    },
    {
     "name": "stderr",
     "output_type": "stream",
     "text": [
      "c:\\Jibran Data\\LUMS\\Sem 7\\ATML\\PA1\\fast-style-transfer\\stylize_image.py:9: UserWarning: 'has_cuda' is deprecated, please use 'torch.backends.cuda.is_built()'\n",
      "  device = {torch.has_cuda: \"cuda\", torch.has_mps: \"mps\"}.get(True, \"cpu\")\n",
      "c:\\Jibran Data\\LUMS\\Sem 7\\ATML\\PA1\\fast-style-transfer\\stylize_image.py:9: UserWarning: 'has_mps' is deprecated, please use 'torch.backends.mps.is_built()'\n",
      "  device = {torch.has_cuda: \"cuda\", torch.has_mps: \"mps\"}.get(True, \"cpu\")\n"
     ]
    },
    {
     "name": "stdout",
     "output_type": "stream",
     "text": [
      "image saved successfully at styled_output.png\n"
     ]
    },
    {
     "name": "stderr",
     "output_type": "stream",
     "text": [
      "c:\\Jibran Data\\LUMS\\Sem 7\\ATML\\PA1\\fast-style-transfer\\stylize_image.py:9: UserWarning: 'has_cuda' is deprecated, please use 'torch.backends.cuda.is_built()'\n",
      "  device = {torch.has_cuda: \"cuda\", torch.has_mps: \"mps\"}.get(True, \"cpu\")\n",
      "c:\\Jibran Data\\LUMS\\Sem 7\\ATML\\PA1\\fast-style-transfer\\stylize_image.py:9: UserWarning: 'has_mps' is deprecated, please use 'torch.backends.mps.is_built()'\n",
      "  device = {torch.has_cuda: \"cuda\", torch.has_mps: \"mps\"}.get(True, \"cpu\")\n"
     ]
    },
    {
     "name": "stdout",
     "output_type": "stream",
     "text": [
      "image saved successfully at styled_output.png\n"
     ]
    },
    {
     "name": "stderr",
     "output_type": "stream",
     "text": [
      "c:\\Jibran Data\\LUMS\\Sem 7\\ATML\\PA1\\fast-style-transfer\\stylize_image.py:9: UserWarning: 'has_cuda' is deprecated, please use 'torch.backends.cuda.is_built()'\n",
      "  device = {torch.has_cuda: \"cuda\", torch.has_mps: \"mps\"}.get(True, \"cpu\")\n",
      "c:\\Jibran Data\\LUMS\\Sem 7\\ATML\\PA1\\fast-style-transfer\\stylize_image.py:9: UserWarning: 'has_mps' is deprecated, please use 'torch.backends.mps.is_built()'\n",
      "  device = {torch.has_cuda: \"cuda\", torch.has_mps: \"mps\"}.get(True, \"cpu\")\n"
     ]
    },
    {
     "name": "stdout",
     "output_type": "stream",
     "text": [
      "image saved successfully at styled_output.png\n"
     ]
    },
    {
     "name": "stderr",
     "output_type": "stream",
     "text": [
      "c:\\Jibran Data\\LUMS\\Sem 7\\ATML\\PA1\\fast-style-transfer\\stylize_image.py:9: UserWarning: 'has_cuda' is deprecated, please use 'torch.backends.cuda.is_built()'\n",
      "  device = {torch.has_cuda: \"cuda\", torch.has_mps: \"mps\"}.get(True, \"cpu\")\n",
      "c:\\Jibran Data\\LUMS\\Sem 7\\ATML\\PA1\\fast-style-transfer\\stylize_image.py:9: UserWarning: 'has_mps' is deprecated, please use 'torch.backends.mps.is_built()'\n",
      "  device = {torch.has_cuda: \"cuda\", torch.has_mps: \"mps\"}.get(True, \"cpu\")\n"
     ]
    },
    {
     "name": "stdout",
     "output_type": "stream",
     "text": [
      "image saved successfully at styled_output.png\n"
     ]
    },
    {
     "name": "stderr",
     "output_type": "stream",
     "text": [
      "c:\\Jibran Data\\LUMS\\Sem 7\\ATML\\PA1\\fast-style-transfer\\stylize_image.py:9: UserWarning: 'has_cuda' is deprecated, please use 'torch.backends.cuda.is_built()'\n",
      "  device = {torch.has_cuda: \"cuda\", torch.has_mps: \"mps\"}.get(True, \"cpu\")\n",
      "c:\\Jibran Data\\LUMS\\Sem 7\\ATML\\PA1\\fast-style-transfer\\stylize_image.py:9: UserWarning: 'has_mps' is deprecated, please use 'torch.backends.mps.is_built()'\n",
      "  device = {torch.has_cuda: \"cuda\", torch.has_mps: \"mps\"}.get(True, \"cpu\")\n"
     ]
    },
    {
     "name": "stdout",
     "output_type": "stream",
     "text": [
      "image saved successfully at styled_output.png\n"
     ]
    },
    {
     "name": "stderr",
     "output_type": "stream",
     "text": [
      "c:\\Jibran Data\\LUMS\\Sem 7\\ATML\\PA1\\fast-style-transfer\\stylize_image.py:9: UserWarning: 'has_cuda' is deprecated, please use 'torch.backends.cuda.is_built()'\n",
      "  device = {torch.has_cuda: \"cuda\", torch.has_mps: \"mps\"}.get(True, \"cpu\")\n",
      "c:\\Jibran Data\\LUMS\\Sem 7\\ATML\\PA1\\fast-style-transfer\\stylize_image.py:9: UserWarning: 'has_mps' is deprecated, please use 'torch.backends.mps.is_built()'\n",
      "  device = {torch.has_cuda: \"cuda\", torch.has_mps: \"mps\"}.get(True, \"cpu\")\n"
     ]
    },
    {
     "name": "stdout",
     "output_type": "stream",
     "text": [
      "image saved successfully at styled_output.png\n"
     ]
    },
    {
     "name": "stderr",
     "output_type": "stream",
     "text": [
      "c:\\Jibran Data\\LUMS\\Sem 7\\ATML\\PA1\\fast-style-transfer\\stylize_image.py:9: UserWarning: 'has_cuda' is deprecated, please use 'torch.backends.cuda.is_built()'\n",
      "  device = {torch.has_cuda: \"cuda\", torch.has_mps: \"mps\"}.get(True, \"cpu\")\n",
      "c:\\Jibran Data\\LUMS\\Sem 7\\ATML\\PA1\\fast-style-transfer\\stylize_image.py:9: UserWarning: 'has_mps' is deprecated, please use 'torch.backends.mps.is_built()'\n",
      "  device = {torch.has_cuda: \"cuda\", torch.has_mps: \"mps\"}.get(True, \"cpu\")\n"
     ]
    },
    {
     "name": "stdout",
     "output_type": "stream",
     "text": [
      "image saved successfully at styled_output.png\n"
     ]
    },
    {
     "name": "stderr",
     "output_type": "stream",
     "text": [
      "c:\\Jibran Data\\LUMS\\Sem 7\\ATML\\PA1\\fast-style-transfer\\stylize_image.py:9: UserWarning: 'has_cuda' is deprecated, please use 'torch.backends.cuda.is_built()'\n",
      "  device = {torch.has_cuda: \"cuda\", torch.has_mps: \"mps\"}.get(True, \"cpu\")\n",
      "c:\\Jibran Data\\LUMS\\Sem 7\\ATML\\PA1\\fast-style-transfer\\stylize_image.py:9: UserWarning: 'has_mps' is deprecated, please use 'torch.backends.mps.is_built()'\n",
      "  device = {torch.has_cuda: \"cuda\", torch.has_mps: \"mps\"}.get(True, \"cpu\")\n"
     ]
    },
    {
     "name": "stdout",
     "output_type": "stream",
     "text": [
      "image saved successfully at styled_output.png\n"
     ]
    },
    {
     "name": "stderr",
     "output_type": "stream",
     "text": [
      "c:\\Jibran Data\\LUMS\\Sem 7\\ATML\\PA1\\fast-style-transfer\\stylize_image.py:9: UserWarning: 'has_cuda' is deprecated, please use 'torch.backends.cuda.is_built()'\n",
      "  device = {torch.has_cuda: \"cuda\", torch.has_mps: \"mps\"}.get(True, \"cpu\")\n",
      "c:\\Jibran Data\\LUMS\\Sem 7\\ATML\\PA1\\fast-style-transfer\\stylize_image.py:9: UserWarning: 'has_mps' is deprecated, please use 'torch.backends.mps.is_built()'\n",
      "  device = {torch.has_cuda: \"cuda\", torch.has_mps: \"mps\"}.get(True, \"cpu\")\n"
     ]
    },
    {
     "name": "stdout",
     "output_type": "stream",
     "text": [
      "image saved successfully at styled_output.png\n"
     ]
    },
    {
     "name": "stderr",
     "output_type": "stream",
     "text": [
      "c:\\Jibran Data\\LUMS\\Sem 7\\ATML\\PA1\\fast-style-transfer\\stylize_image.py:9: UserWarning: 'has_cuda' is deprecated, please use 'torch.backends.cuda.is_built()'\n",
      "  device = {torch.has_cuda: \"cuda\", torch.has_mps: \"mps\"}.get(True, \"cpu\")\n",
      "c:\\Jibran Data\\LUMS\\Sem 7\\ATML\\PA1\\fast-style-transfer\\stylize_image.py:9: UserWarning: 'has_mps' is deprecated, please use 'torch.backends.mps.is_built()'\n",
      "  device = {torch.has_cuda: \"cuda\", torch.has_mps: \"mps\"}.get(True, \"cpu\")\n"
     ]
    },
    {
     "name": "stdout",
     "output_type": "stream",
     "text": [
      "image saved successfully at styled_output.png\n"
     ]
    },
    {
     "name": "stderr",
     "output_type": "stream",
     "text": [
      "c:\\Jibran Data\\LUMS\\Sem 7\\ATML\\PA1\\fast-style-transfer\\stylize_image.py:9: UserWarning: 'has_cuda' is deprecated, please use 'torch.backends.cuda.is_built()'\n",
      "  device = {torch.has_cuda: \"cuda\", torch.has_mps: \"mps\"}.get(True, \"cpu\")\n",
      "c:\\Jibran Data\\LUMS\\Sem 7\\ATML\\PA1\\fast-style-transfer\\stylize_image.py:9: UserWarning: 'has_mps' is deprecated, please use 'torch.backends.mps.is_built()'\n",
      "  device = {torch.has_cuda: \"cuda\", torch.has_mps: \"mps\"}.get(True, \"cpu\")\n"
     ]
    },
    {
     "name": "stdout",
     "output_type": "stream",
     "text": [
      "image saved successfully at styled_output.png\n"
     ]
    },
    {
     "name": "stderr",
     "output_type": "stream",
     "text": [
      "c:\\Jibran Data\\LUMS\\Sem 7\\ATML\\PA1\\fast-style-transfer\\stylize_image.py:9: UserWarning: 'has_cuda' is deprecated, please use 'torch.backends.cuda.is_built()'\n",
      "  device = {torch.has_cuda: \"cuda\", torch.has_mps: \"mps\"}.get(True, \"cpu\")\n",
      "c:\\Jibran Data\\LUMS\\Sem 7\\ATML\\PA1\\fast-style-transfer\\stylize_image.py:9: UserWarning: 'has_mps' is deprecated, please use 'torch.backends.mps.is_built()'\n",
      "  device = {torch.has_cuda: \"cuda\", torch.has_mps: \"mps\"}.get(True, \"cpu\")\n"
     ]
    },
    {
     "name": "stdout",
     "output_type": "stream",
     "text": [
      "image saved successfully at styled_output.png\n"
     ]
    },
    {
     "name": "stderr",
     "output_type": "stream",
     "text": [
      "c:\\Jibran Data\\LUMS\\Sem 7\\ATML\\PA1\\fast-style-transfer\\stylize_image.py:9: UserWarning: 'has_cuda' is deprecated, please use 'torch.backends.cuda.is_built()'\n",
      "  device = {torch.has_cuda: \"cuda\", torch.has_mps: \"mps\"}.get(True, \"cpu\")\n",
      "c:\\Jibran Data\\LUMS\\Sem 7\\ATML\\PA1\\fast-style-transfer\\stylize_image.py:9: UserWarning: 'has_mps' is deprecated, please use 'torch.backends.mps.is_built()'\n",
      "  device = {torch.has_cuda: \"cuda\", torch.has_mps: \"mps\"}.get(True, \"cpu\")\n"
     ]
    },
    {
     "name": "stdout",
     "output_type": "stream",
     "text": [
      "image saved successfully at styled_output.png\n"
     ]
    },
    {
     "name": "stderr",
     "output_type": "stream",
     "text": [
      "c:\\Jibran Data\\LUMS\\Sem 7\\ATML\\PA1\\fast-style-transfer\\stylize_image.py:9: UserWarning: 'has_cuda' is deprecated, please use 'torch.backends.cuda.is_built()'\n",
      "  device = {torch.has_cuda: \"cuda\", torch.has_mps: \"mps\"}.get(True, \"cpu\")\n",
      "c:\\Jibran Data\\LUMS\\Sem 7\\ATML\\PA1\\fast-style-transfer\\stylize_image.py:9: UserWarning: 'has_mps' is deprecated, please use 'torch.backends.mps.is_built()'\n",
      "  device = {torch.has_cuda: \"cuda\", torch.has_mps: \"mps\"}.get(True, \"cpu\")\n"
     ]
    },
    {
     "name": "stdout",
     "output_type": "stream",
     "text": [
      "image saved successfully at styled_output.png\n"
     ]
    },
    {
     "name": "stderr",
     "output_type": "stream",
     "text": [
      "c:\\Jibran Data\\LUMS\\Sem 7\\ATML\\PA1\\fast-style-transfer\\stylize_image.py:9: UserWarning: 'has_cuda' is deprecated, please use 'torch.backends.cuda.is_built()'\n",
      "  device = {torch.has_cuda: \"cuda\", torch.has_mps: \"mps\"}.get(True, \"cpu\")\n",
      "c:\\Jibran Data\\LUMS\\Sem 7\\ATML\\PA1\\fast-style-transfer\\stylize_image.py:9: UserWarning: 'has_mps' is deprecated, please use 'torch.backends.mps.is_built()'\n",
      "  device = {torch.has_cuda: \"cuda\", torch.has_mps: \"mps\"}.get(True, \"cpu\")\n"
     ]
    },
    {
     "name": "stdout",
     "output_type": "stream",
     "text": [
      "image saved successfully at styled_output.png\n"
     ]
    },
    {
     "name": "stderr",
     "output_type": "stream",
     "text": [
      "c:\\Jibran Data\\LUMS\\Sem 7\\ATML\\PA1\\fast-style-transfer\\stylize_image.py:9: UserWarning: 'has_cuda' is deprecated, please use 'torch.backends.cuda.is_built()'\n",
      "  device = {torch.has_cuda: \"cuda\", torch.has_mps: \"mps\"}.get(True, \"cpu\")\n",
      "c:\\Jibran Data\\LUMS\\Sem 7\\ATML\\PA1\\fast-style-transfer\\stylize_image.py:9: UserWarning: 'has_mps' is deprecated, please use 'torch.backends.mps.is_built()'\n",
      "  device = {torch.has_cuda: \"cuda\", torch.has_mps: \"mps\"}.get(True, \"cpu\")\n"
     ]
    },
    {
     "name": "stdout",
     "output_type": "stream",
     "text": [
      "image saved successfully at styled_output.png\n"
     ]
    },
    {
     "name": "stderr",
     "output_type": "stream",
     "text": [
      "c:\\Jibran Data\\LUMS\\Sem 7\\ATML\\PA1\\fast-style-transfer\\stylize_image.py:9: UserWarning: 'has_cuda' is deprecated, please use 'torch.backends.cuda.is_built()'\n",
      "  device = {torch.has_cuda: \"cuda\", torch.has_mps: \"mps\"}.get(True, \"cpu\")\n",
      "c:\\Jibran Data\\LUMS\\Sem 7\\ATML\\PA1\\fast-style-transfer\\stylize_image.py:9: UserWarning: 'has_mps' is deprecated, please use 'torch.backends.mps.is_built()'\n",
      "  device = {torch.has_cuda: \"cuda\", torch.has_mps: \"mps\"}.get(True, \"cpu\")\n"
     ]
    },
    {
     "name": "stdout",
     "output_type": "stream",
     "text": [
      "image saved successfully at styled_output.png\n"
     ]
    },
    {
     "name": "stderr",
     "output_type": "stream",
     "text": [
      "c:\\Jibran Data\\LUMS\\Sem 7\\ATML\\PA1\\fast-style-transfer\\stylize_image.py:9: UserWarning: 'has_cuda' is deprecated, please use 'torch.backends.cuda.is_built()'\n",
      "  device = {torch.has_cuda: \"cuda\", torch.has_mps: \"mps\"}.get(True, \"cpu\")\n",
      "c:\\Jibran Data\\LUMS\\Sem 7\\ATML\\PA1\\fast-style-transfer\\stylize_image.py:9: UserWarning: 'has_mps' is deprecated, please use 'torch.backends.mps.is_built()'\n",
      "  device = {torch.has_cuda: \"cuda\", torch.has_mps: \"mps\"}.get(True, \"cpu\")\n"
     ]
    },
    {
     "name": "stdout",
     "output_type": "stream",
     "text": [
      "image saved successfully at styled_output.png\n"
     ]
    },
    {
     "name": "stderr",
     "output_type": "stream",
     "text": [
      "c:\\Jibran Data\\LUMS\\Sem 7\\ATML\\PA1\\fast-style-transfer\\stylize_image.py:9: UserWarning: 'has_cuda' is deprecated, please use 'torch.backends.cuda.is_built()'\n",
      "  device = {torch.has_cuda: \"cuda\", torch.has_mps: \"mps\"}.get(True, \"cpu\")\n",
      "c:\\Jibran Data\\LUMS\\Sem 7\\ATML\\PA1\\fast-style-transfer\\stylize_image.py:9: UserWarning: 'has_mps' is deprecated, please use 'torch.backends.mps.is_built()'\n",
      "  device = {torch.has_cuda: \"cuda\", torch.has_mps: \"mps\"}.get(True, \"cpu\")\n"
     ]
    },
    {
     "name": "stdout",
     "output_type": "stream",
     "text": [
      "image saved successfully at styled_output.png\n"
     ]
    },
    {
     "name": "stderr",
     "output_type": "stream",
     "text": [
      "c:\\Jibran Data\\LUMS\\Sem 7\\ATML\\PA1\\fast-style-transfer\\stylize_image.py:9: UserWarning: 'has_cuda' is deprecated, please use 'torch.backends.cuda.is_built()'\n",
      "  device = {torch.has_cuda: \"cuda\", torch.has_mps: \"mps\"}.get(True, \"cpu\")\n",
      "c:\\Jibran Data\\LUMS\\Sem 7\\ATML\\PA1\\fast-style-transfer\\stylize_image.py:9: UserWarning: 'has_mps' is deprecated, please use 'torch.backends.mps.is_built()'\n",
      "  device = {torch.has_cuda: \"cuda\", torch.has_mps: \"mps\"}.get(True, \"cpu\")\n"
     ]
    },
    {
     "name": "stdout",
     "output_type": "stream",
     "text": [
      "image saved successfully at styled_output.png\n"
     ]
    },
    {
     "name": "stderr",
     "output_type": "stream",
     "text": [
      "c:\\Jibran Data\\LUMS\\Sem 7\\ATML\\PA1\\fast-style-transfer\\stylize_image.py:9: UserWarning: 'has_cuda' is deprecated, please use 'torch.backends.cuda.is_built()'\n",
      "  device = {torch.has_cuda: \"cuda\", torch.has_mps: \"mps\"}.get(True, \"cpu\")\n",
      "c:\\Jibran Data\\LUMS\\Sem 7\\ATML\\PA1\\fast-style-transfer\\stylize_image.py:9: UserWarning: 'has_mps' is deprecated, please use 'torch.backends.mps.is_built()'\n",
      "  device = {torch.has_cuda: \"cuda\", torch.has_mps: \"mps\"}.get(True, \"cpu\")\n"
     ]
    },
    {
     "name": "stdout",
     "output_type": "stream",
     "text": [
      "image saved successfully at styled_output.png\n"
     ]
    },
    {
     "name": "stderr",
     "output_type": "stream",
     "text": [
      "c:\\Jibran Data\\LUMS\\Sem 7\\ATML\\PA1\\fast-style-transfer\\stylize_image.py:9: UserWarning: 'has_cuda' is deprecated, please use 'torch.backends.cuda.is_built()'\n",
      "  device = {torch.has_cuda: \"cuda\", torch.has_mps: \"mps\"}.get(True, \"cpu\")\n",
      "c:\\Jibran Data\\LUMS\\Sem 7\\ATML\\PA1\\fast-style-transfer\\stylize_image.py:9: UserWarning: 'has_mps' is deprecated, please use 'torch.backends.mps.is_built()'\n",
      "  device = {torch.has_cuda: \"cuda\", torch.has_mps: \"mps\"}.get(True, \"cpu\")\n"
     ]
    },
    {
     "name": "stdout",
     "output_type": "stream",
     "text": [
      "image saved successfully at styled_output.png\n"
     ]
    },
    {
     "name": "stderr",
     "output_type": "stream",
     "text": [
      "c:\\Jibran Data\\LUMS\\Sem 7\\ATML\\PA1\\fast-style-transfer\\stylize_image.py:9: UserWarning: 'has_cuda' is deprecated, please use 'torch.backends.cuda.is_built()'\n",
      "  device = {torch.has_cuda: \"cuda\", torch.has_mps: \"mps\"}.get(True, \"cpu\")\n",
      "c:\\Jibran Data\\LUMS\\Sem 7\\ATML\\PA1\\fast-style-transfer\\stylize_image.py:9: UserWarning: 'has_mps' is deprecated, please use 'torch.backends.mps.is_built()'\n",
      "  device = {torch.has_cuda: \"cuda\", torch.has_mps: \"mps\"}.get(True, \"cpu\")\n"
     ]
    },
    {
     "name": "stdout",
     "output_type": "stream",
     "text": [
      "image saved successfully at styled_output.png\n"
     ]
    },
    {
     "name": "stderr",
     "output_type": "stream",
     "text": [
      "c:\\Jibran Data\\LUMS\\Sem 7\\ATML\\PA1\\fast-style-transfer\\stylize_image.py:9: UserWarning: 'has_cuda' is deprecated, please use 'torch.backends.cuda.is_built()'\n",
      "  device = {torch.has_cuda: \"cuda\", torch.has_mps: \"mps\"}.get(True, \"cpu\")\n",
      "c:\\Jibran Data\\LUMS\\Sem 7\\ATML\\PA1\\fast-style-transfer\\stylize_image.py:9: UserWarning: 'has_mps' is deprecated, please use 'torch.backends.mps.is_built()'\n",
      "  device = {torch.has_cuda: \"cuda\", torch.has_mps: \"mps\"}.get(True, \"cpu\")\n"
     ]
    },
    {
     "name": "stdout",
     "output_type": "stream",
     "text": [
      "image saved successfully at styled_output.png\n"
     ]
    },
    {
     "name": "stderr",
     "output_type": "stream",
     "text": [
      "c:\\Jibran Data\\LUMS\\Sem 7\\ATML\\PA1\\fast-style-transfer\\stylize_image.py:9: UserWarning: 'has_cuda' is deprecated, please use 'torch.backends.cuda.is_built()'\n",
      "  device = {torch.has_cuda: \"cuda\", torch.has_mps: \"mps\"}.get(True, \"cpu\")\n",
      "c:\\Jibran Data\\LUMS\\Sem 7\\ATML\\PA1\\fast-style-transfer\\stylize_image.py:9: UserWarning: 'has_mps' is deprecated, please use 'torch.backends.mps.is_built()'\n",
      "  device = {torch.has_cuda: \"cuda\", torch.has_mps: \"mps\"}.get(True, \"cpu\")\n"
     ]
    },
    {
     "name": "stdout",
     "output_type": "stream",
     "text": [
      "image saved successfully at styled_output.png\n"
     ]
    },
    {
     "name": "stderr",
     "output_type": "stream",
     "text": [
      "c:\\Jibran Data\\LUMS\\Sem 7\\ATML\\PA1\\fast-style-transfer\\stylize_image.py:9: UserWarning: 'has_cuda' is deprecated, please use 'torch.backends.cuda.is_built()'\n",
      "  device = {torch.has_cuda: \"cuda\", torch.has_mps: \"mps\"}.get(True, \"cpu\")\n",
      "c:\\Jibran Data\\LUMS\\Sem 7\\ATML\\PA1\\fast-style-transfer\\stylize_image.py:9: UserWarning: 'has_mps' is deprecated, please use 'torch.backends.mps.is_built()'\n",
      "  device = {torch.has_cuda: \"cuda\", torch.has_mps: \"mps\"}.get(True, \"cpu\")\n"
     ]
    },
    {
     "name": "stdout",
     "output_type": "stream",
     "text": [
      "image saved successfully at styled_output.png\n"
     ]
    },
    {
     "name": "stderr",
     "output_type": "stream",
     "text": [
      "c:\\Jibran Data\\LUMS\\Sem 7\\ATML\\PA1\\fast-style-transfer\\stylize_image.py:9: UserWarning: 'has_cuda' is deprecated, please use 'torch.backends.cuda.is_built()'\n",
      "  device = {torch.has_cuda: \"cuda\", torch.has_mps: \"mps\"}.get(True, \"cpu\")\n",
      "c:\\Jibran Data\\LUMS\\Sem 7\\ATML\\PA1\\fast-style-transfer\\stylize_image.py:9: UserWarning: 'has_mps' is deprecated, please use 'torch.backends.mps.is_built()'\n",
      "  device = {torch.has_cuda: \"cuda\", torch.has_mps: \"mps\"}.get(True, \"cpu\")\n"
     ]
    },
    {
     "name": "stdout",
     "output_type": "stream",
     "text": [
      "image saved successfully at styled_output.png\n"
     ]
    },
    {
     "name": "stderr",
     "output_type": "stream",
     "text": [
      "c:\\Jibran Data\\LUMS\\Sem 7\\ATML\\PA1\\fast-style-transfer\\stylize_image.py:9: UserWarning: 'has_cuda' is deprecated, please use 'torch.backends.cuda.is_built()'\n",
      "  device = {torch.has_cuda: \"cuda\", torch.has_mps: \"mps\"}.get(True, \"cpu\")\n",
      "c:\\Jibran Data\\LUMS\\Sem 7\\ATML\\PA1\\fast-style-transfer\\stylize_image.py:9: UserWarning: 'has_mps' is deprecated, please use 'torch.backends.mps.is_built()'\n",
      "  device = {torch.has_cuda: \"cuda\", torch.has_mps: \"mps\"}.get(True, \"cpu\")\n"
     ]
    },
    {
     "name": "stdout",
     "output_type": "stream",
     "text": [
      "image saved successfully at styled_output.png\n"
     ]
    },
    {
     "name": "stderr",
     "output_type": "stream",
     "text": [
      "c:\\Jibran Data\\LUMS\\Sem 7\\ATML\\PA1\\fast-style-transfer\\stylize_image.py:9: UserWarning: 'has_cuda' is deprecated, please use 'torch.backends.cuda.is_built()'\n",
      "  device = {torch.has_cuda: \"cuda\", torch.has_mps: \"mps\"}.get(True, \"cpu\")\n",
      "c:\\Jibran Data\\LUMS\\Sem 7\\ATML\\PA1\\fast-style-transfer\\stylize_image.py:9: UserWarning: 'has_mps' is deprecated, please use 'torch.backends.mps.is_built()'\n",
      "  device = {torch.has_cuda: \"cuda\", torch.has_mps: \"mps\"}.get(True, \"cpu\")\n"
     ]
    },
    {
     "name": "stdout",
     "output_type": "stream",
     "text": [
      "image saved successfully at styled_output.png\n"
     ]
    },
    {
     "name": "stderr",
     "output_type": "stream",
     "text": [
      "c:\\Jibran Data\\LUMS\\Sem 7\\ATML\\PA1\\fast-style-transfer\\stylize_image.py:9: UserWarning: 'has_cuda' is deprecated, please use 'torch.backends.cuda.is_built()'\n",
      "  device = {torch.has_cuda: \"cuda\", torch.has_mps: \"mps\"}.get(True, \"cpu\")\n",
      "c:\\Jibran Data\\LUMS\\Sem 7\\ATML\\PA1\\fast-style-transfer\\stylize_image.py:9: UserWarning: 'has_mps' is deprecated, please use 'torch.backends.mps.is_built()'\n",
      "  device = {torch.has_cuda: \"cuda\", torch.has_mps: \"mps\"}.get(True, \"cpu\")\n"
     ]
    },
    {
     "name": "stdout",
     "output_type": "stream",
     "text": [
      "image saved successfully at styled_output.png\n"
     ]
    },
    {
     "name": "stderr",
     "output_type": "stream",
     "text": [
      "c:\\Jibran Data\\LUMS\\Sem 7\\ATML\\PA1\\fast-style-transfer\\stylize_image.py:9: UserWarning: 'has_cuda' is deprecated, please use 'torch.backends.cuda.is_built()'\n",
      "  device = {torch.has_cuda: \"cuda\", torch.has_mps: \"mps\"}.get(True, \"cpu\")\n",
      "c:\\Jibran Data\\LUMS\\Sem 7\\ATML\\PA1\\fast-style-transfer\\stylize_image.py:9: UserWarning: 'has_mps' is deprecated, please use 'torch.backends.mps.is_built()'\n",
      "  device = {torch.has_cuda: \"cuda\", torch.has_mps: \"mps\"}.get(True, \"cpu\")\n"
     ]
    },
    {
     "name": "stdout",
     "output_type": "stream",
     "text": [
      "image saved successfully at styled_output.png\n"
     ]
    },
    {
     "name": "stderr",
     "output_type": "stream",
     "text": [
      "c:\\Jibran Data\\LUMS\\Sem 7\\ATML\\PA1\\fast-style-transfer\\stylize_image.py:9: UserWarning: 'has_cuda' is deprecated, please use 'torch.backends.cuda.is_built()'\n",
      "  device = {torch.has_cuda: \"cuda\", torch.has_mps: \"mps\"}.get(True, \"cpu\")\n",
      "c:\\Jibran Data\\LUMS\\Sem 7\\ATML\\PA1\\fast-style-transfer\\stylize_image.py:9: UserWarning: 'has_mps' is deprecated, please use 'torch.backends.mps.is_built()'\n",
      "  device = {torch.has_cuda: \"cuda\", torch.has_mps: \"mps\"}.get(True, \"cpu\")\n"
     ]
    },
    {
     "name": "stdout",
     "output_type": "stream",
     "text": [
      "image saved successfully at styled_output.png\n"
     ]
    },
    {
     "name": "stderr",
     "output_type": "stream",
     "text": [
      "c:\\Jibran Data\\LUMS\\Sem 7\\ATML\\PA1\\fast-style-transfer\\stylize_image.py:9: UserWarning: 'has_cuda' is deprecated, please use 'torch.backends.cuda.is_built()'\n",
      "  device = {torch.has_cuda: \"cuda\", torch.has_mps: \"mps\"}.get(True, \"cpu\")\n",
      "c:\\Jibran Data\\LUMS\\Sem 7\\ATML\\PA1\\fast-style-transfer\\stylize_image.py:9: UserWarning: 'has_mps' is deprecated, please use 'torch.backends.mps.is_built()'\n",
      "  device = {torch.has_cuda: \"cuda\", torch.has_mps: \"mps\"}.get(True, \"cpu\")\n"
     ]
    },
    {
     "name": "stdout",
     "output_type": "stream",
     "text": [
      "image saved successfully at styled_output.png\n"
     ]
    },
    {
     "name": "stderr",
     "output_type": "stream",
     "text": [
      "c:\\Jibran Data\\LUMS\\Sem 7\\ATML\\PA1\\fast-style-transfer\\stylize_image.py:9: UserWarning: 'has_cuda' is deprecated, please use 'torch.backends.cuda.is_built()'\n",
      "  device = {torch.has_cuda: \"cuda\", torch.has_mps: \"mps\"}.get(True, \"cpu\")\n",
      "c:\\Jibran Data\\LUMS\\Sem 7\\ATML\\PA1\\fast-style-transfer\\stylize_image.py:9: UserWarning: 'has_mps' is deprecated, please use 'torch.backends.mps.is_built()'\n",
      "  device = {torch.has_cuda: \"cuda\", torch.has_mps: \"mps\"}.get(True, \"cpu\")\n"
     ]
    },
    {
     "name": "stdout",
     "output_type": "stream",
     "text": [
      "image saved successfully at styled_output.png\n"
     ]
    },
    {
     "name": "stderr",
     "output_type": "stream",
     "text": [
      "c:\\Jibran Data\\LUMS\\Sem 7\\ATML\\PA1\\fast-style-transfer\\stylize_image.py:9: UserWarning: 'has_cuda' is deprecated, please use 'torch.backends.cuda.is_built()'\n",
      "  device = {torch.has_cuda: \"cuda\", torch.has_mps: \"mps\"}.get(True, \"cpu\")\n",
      "c:\\Jibran Data\\LUMS\\Sem 7\\ATML\\PA1\\fast-style-transfer\\stylize_image.py:9: UserWarning: 'has_mps' is deprecated, please use 'torch.backends.mps.is_built()'\n",
      "  device = {torch.has_cuda: \"cuda\", torch.has_mps: \"mps\"}.get(True, \"cpu\")\n"
     ]
    },
    {
     "name": "stdout",
     "output_type": "stream",
     "text": [
      "image saved successfully at styled_output.png\n"
     ]
    },
    {
     "name": "stderr",
     "output_type": "stream",
     "text": [
      "c:\\Jibran Data\\LUMS\\Sem 7\\ATML\\PA1\\fast-style-transfer\\stylize_image.py:9: UserWarning: 'has_cuda' is deprecated, please use 'torch.backends.cuda.is_built()'\n",
      "  device = {torch.has_cuda: \"cuda\", torch.has_mps: \"mps\"}.get(True, \"cpu\")\n",
      "c:\\Jibran Data\\LUMS\\Sem 7\\ATML\\PA1\\fast-style-transfer\\stylize_image.py:9: UserWarning: 'has_mps' is deprecated, please use 'torch.backends.mps.is_built()'\n",
      "  device = {torch.has_cuda: \"cuda\", torch.has_mps: \"mps\"}.get(True, \"cpu\")\n"
     ]
    },
    {
     "data": {
      "application/vnd.jupyter.widget-view+json": {
       "model_id": "3e06a02e4823412fbda5a5f6026b03a2",
       "version_major": 2,
       "version_minor": 0
      },
      "text/plain": [
       "Class 'deer':   0%|          | 0/10 [00:00<?, ?it/s]"
      ]
     },
     "metadata": {},
     "output_type": "display_data"
    },
    {
     "name": "stdout",
     "output_type": "stream",
     "text": [
      "image saved successfully at styled_output.png\n"
     ]
    },
    {
     "name": "stderr",
     "output_type": "stream",
     "text": [
      "c:\\Jibran Data\\LUMS\\Sem 7\\ATML\\PA1\\fast-style-transfer\\stylize_image.py:9: UserWarning: 'has_cuda' is deprecated, please use 'torch.backends.cuda.is_built()'\n",
      "  device = {torch.has_cuda: \"cuda\", torch.has_mps: \"mps\"}.get(True, \"cpu\")\n",
      "c:\\Jibran Data\\LUMS\\Sem 7\\ATML\\PA1\\fast-style-transfer\\stylize_image.py:9: UserWarning: 'has_mps' is deprecated, please use 'torch.backends.mps.is_built()'\n",
      "  device = {torch.has_cuda: \"cuda\", torch.has_mps: \"mps\"}.get(True, \"cpu\")\n"
     ]
    },
    {
     "name": "stdout",
     "output_type": "stream",
     "text": [
      "image saved successfully at styled_output.png\n"
     ]
    },
    {
     "name": "stderr",
     "output_type": "stream",
     "text": [
      "c:\\Jibran Data\\LUMS\\Sem 7\\ATML\\PA1\\fast-style-transfer\\stylize_image.py:9: UserWarning: 'has_cuda' is deprecated, please use 'torch.backends.cuda.is_built()'\n",
      "  device = {torch.has_cuda: \"cuda\", torch.has_mps: \"mps\"}.get(True, \"cpu\")\n",
      "c:\\Jibran Data\\LUMS\\Sem 7\\ATML\\PA1\\fast-style-transfer\\stylize_image.py:9: UserWarning: 'has_mps' is deprecated, please use 'torch.backends.mps.is_built()'\n",
      "  device = {torch.has_cuda: \"cuda\", torch.has_mps: \"mps\"}.get(True, \"cpu\")\n"
     ]
    },
    {
     "name": "stdout",
     "output_type": "stream",
     "text": [
      "image saved successfully at styled_output.png\n"
     ]
    },
    {
     "name": "stderr",
     "output_type": "stream",
     "text": [
      "c:\\Jibran Data\\LUMS\\Sem 7\\ATML\\PA1\\fast-style-transfer\\stylize_image.py:9: UserWarning: 'has_cuda' is deprecated, please use 'torch.backends.cuda.is_built()'\n",
      "  device = {torch.has_cuda: \"cuda\", torch.has_mps: \"mps\"}.get(True, \"cpu\")\n",
      "c:\\Jibran Data\\LUMS\\Sem 7\\ATML\\PA1\\fast-style-transfer\\stylize_image.py:9: UserWarning: 'has_mps' is deprecated, please use 'torch.backends.mps.is_built()'\n",
      "  device = {torch.has_cuda: \"cuda\", torch.has_mps: \"mps\"}.get(True, \"cpu\")\n"
     ]
    },
    {
     "name": "stdout",
     "output_type": "stream",
     "text": [
      "image saved successfully at styled_output.png\n"
     ]
    },
    {
     "name": "stderr",
     "output_type": "stream",
     "text": [
      "c:\\Jibran Data\\LUMS\\Sem 7\\ATML\\PA1\\fast-style-transfer\\stylize_image.py:9: UserWarning: 'has_cuda' is deprecated, please use 'torch.backends.cuda.is_built()'\n",
      "  device = {torch.has_cuda: \"cuda\", torch.has_mps: \"mps\"}.get(True, \"cpu\")\n",
      "c:\\Jibran Data\\LUMS\\Sem 7\\ATML\\PA1\\fast-style-transfer\\stylize_image.py:9: UserWarning: 'has_mps' is deprecated, please use 'torch.backends.mps.is_built()'\n",
      "  device = {torch.has_cuda: \"cuda\", torch.has_mps: \"mps\"}.get(True, \"cpu\")\n"
     ]
    },
    {
     "name": "stdout",
     "output_type": "stream",
     "text": [
      "image saved successfully at styled_output.png\n"
     ]
    },
    {
     "name": "stderr",
     "output_type": "stream",
     "text": [
      "c:\\Jibran Data\\LUMS\\Sem 7\\ATML\\PA1\\fast-style-transfer\\stylize_image.py:9: UserWarning: 'has_cuda' is deprecated, please use 'torch.backends.cuda.is_built()'\n",
      "  device = {torch.has_cuda: \"cuda\", torch.has_mps: \"mps\"}.get(True, \"cpu\")\n",
      "c:\\Jibran Data\\LUMS\\Sem 7\\ATML\\PA1\\fast-style-transfer\\stylize_image.py:9: UserWarning: 'has_mps' is deprecated, please use 'torch.backends.mps.is_built()'\n",
      "  device = {torch.has_cuda: \"cuda\", torch.has_mps: \"mps\"}.get(True, \"cpu\")\n"
     ]
    },
    {
     "name": "stdout",
     "output_type": "stream",
     "text": [
      "image saved successfully at styled_output.png\n"
     ]
    },
    {
     "name": "stderr",
     "output_type": "stream",
     "text": [
      "c:\\Jibran Data\\LUMS\\Sem 7\\ATML\\PA1\\fast-style-transfer\\stylize_image.py:9: UserWarning: 'has_cuda' is deprecated, please use 'torch.backends.cuda.is_built()'\n",
      "  device = {torch.has_cuda: \"cuda\", torch.has_mps: \"mps\"}.get(True, \"cpu\")\n",
      "c:\\Jibran Data\\LUMS\\Sem 7\\ATML\\PA1\\fast-style-transfer\\stylize_image.py:9: UserWarning: 'has_mps' is deprecated, please use 'torch.backends.mps.is_built()'\n",
      "  device = {torch.has_cuda: \"cuda\", torch.has_mps: \"mps\"}.get(True, \"cpu\")\n"
     ]
    },
    {
     "name": "stdout",
     "output_type": "stream",
     "text": [
      "image saved successfully at styled_output.png\n"
     ]
    },
    {
     "name": "stderr",
     "output_type": "stream",
     "text": [
      "c:\\Jibran Data\\LUMS\\Sem 7\\ATML\\PA1\\fast-style-transfer\\stylize_image.py:9: UserWarning: 'has_cuda' is deprecated, please use 'torch.backends.cuda.is_built()'\n",
      "  device = {torch.has_cuda: \"cuda\", torch.has_mps: \"mps\"}.get(True, \"cpu\")\n",
      "c:\\Jibran Data\\LUMS\\Sem 7\\ATML\\PA1\\fast-style-transfer\\stylize_image.py:9: UserWarning: 'has_mps' is deprecated, please use 'torch.backends.mps.is_built()'\n",
      "  device = {torch.has_cuda: \"cuda\", torch.has_mps: \"mps\"}.get(True, \"cpu\")\n"
     ]
    },
    {
     "name": "stdout",
     "output_type": "stream",
     "text": [
      "image saved successfully at styled_output.png\n"
     ]
    },
    {
     "name": "stderr",
     "output_type": "stream",
     "text": [
      "c:\\Jibran Data\\LUMS\\Sem 7\\ATML\\PA1\\fast-style-transfer\\stylize_image.py:9: UserWarning: 'has_cuda' is deprecated, please use 'torch.backends.cuda.is_built()'\n",
      "  device = {torch.has_cuda: \"cuda\", torch.has_mps: \"mps\"}.get(True, \"cpu\")\n",
      "c:\\Jibran Data\\LUMS\\Sem 7\\ATML\\PA1\\fast-style-transfer\\stylize_image.py:9: UserWarning: 'has_mps' is deprecated, please use 'torch.backends.mps.is_built()'\n",
      "  device = {torch.has_cuda: \"cuda\", torch.has_mps: \"mps\"}.get(True, \"cpu\")\n"
     ]
    },
    {
     "name": "stdout",
     "output_type": "stream",
     "text": [
      "image saved successfully at styled_output.png\n"
     ]
    },
    {
     "name": "stderr",
     "output_type": "stream",
     "text": [
      "c:\\Jibran Data\\LUMS\\Sem 7\\ATML\\PA1\\fast-style-transfer\\stylize_image.py:9: UserWarning: 'has_cuda' is deprecated, please use 'torch.backends.cuda.is_built()'\n",
      "  device = {torch.has_cuda: \"cuda\", torch.has_mps: \"mps\"}.get(True, \"cpu\")\n",
      "c:\\Jibran Data\\LUMS\\Sem 7\\ATML\\PA1\\fast-style-transfer\\stylize_image.py:9: UserWarning: 'has_mps' is deprecated, please use 'torch.backends.mps.is_built()'\n",
      "  device = {torch.has_cuda: \"cuda\", torch.has_mps: \"mps\"}.get(True, \"cpu\")\n"
     ]
    },
    {
     "name": "stdout",
     "output_type": "stream",
     "text": [
      "image saved successfully at styled_output.png\n"
     ]
    },
    {
     "name": "stderr",
     "output_type": "stream",
     "text": [
      "c:\\Jibran Data\\LUMS\\Sem 7\\ATML\\PA1\\fast-style-transfer\\stylize_image.py:9: UserWarning: 'has_cuda' is deprecated, please use 'torch.backends.cuda.is_built()'\n",
      "  device = {torch.has_cuda: \"cuda\", torch.has_mps: \"mps\"}.get(True, \"cpu\")\n",
      "c:\\Jibran Data\\LUMS\\Sem 7\\ATML\\PA1\\fast-style-transfer\\stylize_image.py:9: UserWarning: 'has_mps' is deprecated, please use 'torch.backends.mps.is_built()'\n",
      "  device = {torch.has_cuda: \"cuda\", torch.has_mps: \"mps\"}.get(True, \"cpu\")\n"
     ]
    },
    {
     "name": "stdout",
     "output_type": "stream",
     "text": [
      "image saved successfully at styled_output.png\n"
     ]
    },
    {
     "name": "stderr",
     "output_type": "stream",
     "text": [
      "c:\\Jibran Data\\LUMS\\Sem 7\\ATML\\PA1\\fast-style-transfer\\stylize_image.py:9: UserWarning: 'has_cuda' is deprecated, please use 'torch.backends.cuda.is_built()'\n",
      "  device = {torch.has_cuda: \"cuda\", torch.has_mps: \"mps\"}.get(True, \"cpu\")\n",
      "c:\\Jibran Data\\LUMS\\Sem 7\\ATML\\PA1\\fast-style-transfer\\stylize_image.py:9: UserWarning: 'has_mps' is deprecated, please use 'torch.backends.mps.is_built()'\n",
      "  device = {torch.has_cuda: \"cuda\", torch.has_mps: \"mps\"}.get(True, \"cpu\")\n"
     ]
    },
    {
     "name": "stdout",
     "output_type": "stream",
     "text": [
      "image saved successfully at styled_output.png\n"
     ]
    },
    {
     "name": "stderr",
     "output_type": "stream",
     "text": [
      "c:\\Jibran Data\\LUMS\\Sem 7\\ATML\\PA1\\fast-style-transfer\\stylize_image.py:9: UserWarning: 'has_cuda' is deprecated, please use 'torch.backends.cuda.is_built()'\n",
      "  device = {torch.has_cuda: \"cuda\", torch.has_mps: \"mps\"}.get(True, \"cpu\")\n",
      "c:\\Jibran Data\\LUMS\\Sem 7\\ATML\\PA1\\fast-style-transfer\\stylize_image.py:9: UserWarning: 'has_mps' is deprecated, please use 'torch.backends.mps.is_built()'\n",
      "  device = {torch.has_cuda: \"cuda\", torch.has_mps: \"mps\"}.get(True, \"cpu\")\n"
     ]
    },
    {
     "name": "stdout",
     "output_type": "stream",
     "text": [
      "image saved successfully at styled_output.png\n"
     ]
    },
    {
     "name": "stderr",
     "output_type": "stream",
     "text": [
      "c:\\Jibran Data\\LUMS\\Sem 7\\ATML\\PA1\\fast-style-transfer\\stylize_image.py:9: UserWarning: 'has_cuda' is deprecated, please use 'torch.backends.cuda.is_built()'\n",
      "  device = {torch.has_cuda: \"cuda\", torch.has_mps: \"mps\"}.get(True, \"cpu\")\n",
      "c:\\Jibran Data\\LUMS\\Sem 7\\ATML\\PA1\\fast-style-transfer\\stylize_image.py:9: UserWarning: 'has_mps' is deprecated, please use 'torch.backends.mps.is_built()'\n",
      "  device = {torch.has_cuda: \"cuda\", torch.has_mps: \"mps\"}.get(True, \"cpu\")\n"
     ]
    },
    {
     "name": "stdout",
     "output_type": "stream",
     "text": [
      "image saved successfully at styled_output.png\n"
     ]
    },
    {
     "name": "stderr",
     "output_type": "stream",
     "text": [
      "c:\\Jibran Data\\LUMS\\Sem 7\\ATML\\PA1\\fast-style-transfer\\stylize_image.py:9: UserWarning: 'has_cuda' is deprecated, please use 'torch.backends.cuda.is_built()'\n",
      "  device = {torch.has_cuda: \"cuda\", torch.has_mps: \"mps\"}.get(True, \"cpu\")\n",
      "c:\\Jibran Data\\LUMS\\Sem 7\\ATML\\PA1\\fast-style-transfer\\stylize_image.py:9: UserWarning: 'has_mps' is deprecated, please use 'torch.backends.mps.is_built()'\n",
      "  device = {torch.has_cuda: \"cuda\", torch.has_mps: \"mps\"}.get(True, \"cpu\")\n"
     ]
    },
    {
     "name": "stdout",
     "output_type": "stream",
     "text": [
      "image saved successfully at styled_output.png\n"
     ]
    },
    {
     "name": "stderr",
     "output_type": "stream",
     "text": [
      "c:\\Jibran Data\\LUMS\\Sem 7\\ATML\\PA1\\fast-style-transfer\\stylize_image.py:9: UserWarning: 'has_cuda' is deprecated, please use 'torch.backends.cuda.is_built()'\n",
      "  device = {torch.has_cuda: \"cuda\", torch.has_mps: \"mps\"}.get(True, \"cpu\")\n",
      "c:\\Jibran Data\\LUMS\\Sem 7\\ATML\\PA1\\fast-style-transfer\\stylize_image.py:9: UserWarning: 'has_mps' is deprecated, please use 'torch.backends.mps.is_built()'\n",
      "  device = {torch.has_cuda: \"cuda\", torch.has_mps: \"mps\"}.get(True, \"cpu\")\n"
     ]
    },
    {
     "name": "stdout",
     "output_type": "stream",
     "text": [
      "image saved successfully at styled_output.png\n"
     ]
    },
    {
     "name": "stderr",
     "output_type": "stream",
     "text": [
      "c:\\Jibran Data\\LUMS\\Sem 7\\ATML\\PA1\\fast-style-transfer\\stylize_image.py:9: UserWarning: 'has_cuda' is deprecated, please use 'torch.backends.cuda.is_built()'\n",
      "  device = {torch.has_cuda: \"cuda\", torch.has_mps: \"mps\"}.get(True, \"cpu\")\n",
      "c:\\Jibran Data\\LUMS\\Sem 7\\ATML\\PA1\\fast-style-transfer\\stylize_image.py:9: UserWarning: 'has_mps' is deprecated, please use 'torch.backends.mps.is_built()'\n",
      "  device = {torch.has_cuda: \"cuda\", torch.has_mps: \"mps\"}.get(True, \"cpu\")\n"
     ]
    },
    {
     "name": "stdout",
     "output_type": "stream",
     "text": [
      "image saved successfully at styled_output.png\n"
     ]
    },
    {
     "name": "stderr",
     "output_type": "stream",
     "text": [
      "c:\\Jibran Data\\LUMS\\Sem 7\\ATML\\PA1\\fast-style-transfer\\stylize_image.py:9: UserWarning: 'has_cuda' is deprecated, please use 'torch.backends.cuda.is_built()'\n",
      "  device = {torch.has_cuda: \"cuda\", torch.has_mps: \"mps\"}.get(True, \"cpu\")\n",
      "c:\\Jibran Data\\LUMS\\Sem 7\\ATML\\PA1\\fast-style-transfer\\stylize_image.py:9: UserWarning: 'has_mps' is deprecated, please use 'torch.backends.mps.is_built()'\n",
      "  device = {torch.has_cuda: \"cuda\", torch.has_mps: \"mps\"}.get(True, \"cpu\")\n"
     ]
    },
    {
     "name": "stdout",
     "output_type": "stream",
     "text": [
      "image saved successfully at styled_output.png\n"
     ]
    },
    {
     "name": "stderr",
     "output_type": "stream",
     "text": [
      "c:\\Jibran Data\\LUMS\\Sem 7\\ATML\\PA1\\fast-style-transfer\\stylize_image.py:9: UserWarning: 'has_cuda' is deprecated, please use 'torch.backends.cuda.is_built()'\n",
      "  device = {torch.has_cuda: \"cuda\", torch.has_mps: \"mps\"}.get(True, \"cpu\")\n",
      "c:\\Jibran Data\\LUMS\\Sem 7\\ATML\\PA1\\fast-style-transfer\\stylize_image.py:9: UserWarning: 'has_mps' is deprecated, please use 'torch.backends.mps.is_built()'\n",
      "  device = {torch.has_cuda: \"cuda\", torch.has_mps: \"mps\"}.get(True, \"cpu\")\n"
     ]
    },
    {
     "name": "stdout",
     "output_type": "stream",
     "text": [
      "image saved successfully at styled_output.png\n"
     ]
    },
    {
     "name": "stderr",
     "output_type": "stream",
     "text": [
      "c:\\Jibran Data\\LUMS\\Sem 7\\ATML\\PA1\\fast-style-transfer\\stylize_image.py:9: UserWarning: 'has_cuda' is deprecated, please use 'torch.backends.cuda.is_built()'\n",
      "  device = {torch.has_cuda: \"cuda\", torch.has_mps: \"mps\"}.get(True, \"cpu\")\n",
      "c:\\Jibran Data\\LUMS\\Sem 7\\ATML\\PA1\\fast-style-transfer\\stylize_image.py:9: UserWarning: 'has_mps' is deprecated, please use 'torch.backends.mps.is_built()'\n",
      "  device = {torch.has_cuda: \"cuda\", torch.has_mps: \"mps\"}.get(True, \"cpu\")\n"
     ]
    },
    {
     "name": "stdout",
     "output_type": "stream",
     "text": [
      "image saved successfully at styled_output.png\n"
     ]
    },
    {
     "name": "stderr",
     "output_type": "stream",
     "text": [
      "c:\\Jibran Data\\LUMS\\Sem 7\\ATML\\PA1\\fast-style-transfer\\stylize_image.py:9: UserWarning: 'has_cuda' is deprecated, please use 'torch.backends.cuda.is_built()'\n",
      "  device = {torch.has_cuda: \"cuda\", torch.has_mps: \"mps\"}.get(True, \"cpu\")\n",
      "c:\\Jibran Data\\LUMS\\Sem 7\\ATML\\PA1\\fast-style-transfer\\stylize_image.py:9: UserWarning: 'has_mps' is deprecated, please use 'torch.backends.mps.is_built()'\n",
      "  device = {torch.has_cuda: \"cuda\", torch.has_mps: \"mps\"}.get(True, \"cpu\")\n"
     ]
    },
    {
     "name": "stdout",
     "output_type": "stream",
     "text": [
      "image saved successfully at styled_output.png\n"
     ]
    },
    {
     "name": "stderr",
     "output_type": "stream",
     "text": [
      "c:\\Jibran Data\\LUMS\\Sem 7\\ATML\\PA1\\fast-style-transfer\\stylize_image.py:9: UserWarning: 'has_cuda' is deprecated, please use 'torch.backends.cuda.is_built()'\n",
      "  device = {torch.has_cuda: \"cuda\", torch.has_mps: \"mps\"}.get(True, \"cpu\")\n",
      "c:\\Jibran Data\\LUMS\\Sem 7\\ATML\\PA1\\fast-style-transfer\\stylize_image.py:9: UserWarning: 'has_mps' is deprecated, please use 'torch.backends.mps.is_built()'\n",
      "  device = {torch.has_cuda: \"cuda\", torch.has_mps: \"mps\"}.get(True, \"cpu\")\n"
     ]
    },
    {
     "name": "stdout",
     "output_type": "stream",
     "text": [
      "image saved successfully at styled_output.png\n"
     ]
    },
    {
     "name": "stderr",
     "output_type": "stream",
     "text": [
      "c:\\Jibran Data\\LUMS\\Sem 7\\ATML\\PA1\\fast-style-transfer\\stylize_image.py:9: UserWarning: 'has_cuda' is deprecated, please use 'torch.backends.cuda.is_built()'\n",
      "  device = {torch.has_cuda: \"cuda\", torch.has_mps: \"mps\"}.get(True, \"cpu\")\n",
      "c:\\Jibran Data\\LUMS\\Sem 7\\ATML\\PA1\\fast-style-transfer\\stylize_image.py:9: UserWarning: 'has_mps' is deprecated, please use 'torch.backends.mps.is_built()'\n",
      "  device = {torch.has_cuda: \"cuda\", torch.has_mps: \"mps\"}.get(True, \"cpu\")\n"
     ]
    },
    {
     "name": "stdout",
     "output_type": "stream",
     "text": [
      "image saved successfully at styled_output.png\n"
     ]
    },
    {
     "name": "stderr",
     "output_type": "stream",
     "text": [
      "c:\\Jibran Data\\LUMS\\Sem 7\\ATML\\PA1\\fast-style-transfer\\stylize_image.py:9: UserWarning: 'has_cuda' is deprecated, please use 'torch.backends.cuda.is_built()'\n",
      "  device = {torch.has_cuda: \"cuda\", torch.has_mps: \"mps\"}.get(True, \"cpu\")\n",
      "c:\\Jibran Data\\LUMS\\Sem 7\\ATML\\PA1\\fast-style-transfer\\stylize_image.py:9: UserWarning: 'has_mps' is deprecated, please use 'torch.backends.mps.is_built()'\n",
      "  device = {torch.has_cuda: \"cuda\", torch.has_mps: \"mps\"}.get(True, \"cpu\")\n"
     ]
    },
    {
     "name": "stdout",
     "output_type": "stream",
     "text": [
      "image saved successfully at styled_output.png\n"
     ]
    },
    {
     "name": "stderr",
     "output_type": "stream",
     "text": [
      "c:\\Jibran Data\\LUMS\\Sem 7\\ATML\\PA1\\fast-style-transfer\\stylize_image.py:9: UserWarning: 'has_cuda' is deprecated, please use 'torch.backends.cuda.is_built()'\n",
      "  device = {torch.has_cuda: \"cuda\", torch.has_mps: \"mps\"}.get(True, \"cpu\")\n",
      "c:\\Jibran Data\\LUMS\\Sem 7\\ATML\\PA1\\fast-style-transfer\\stylize_image.py:9: UserWarning: 'has_mps' is deprecated, please use 'torch.backends.mps.is_built()'\n",
      "  device = {torch.has_cuda: \"cuda\", torch.has_mps: \"mps\"}.get(True, \"cpu\")\n"
     ]
    },
    {
     "name": "stdout",
     "output_type": "stream",
     "text": [
      "image saved successfully at styled_output.png\n"
     ]
    },
    {
     "name": "stderr",
     "output_type": "stream",
     "text": [
      "c:\\Jibran Data\\LUMS\\Sem 7\\ATML\\PA1\\fast-style-transfer\\stylize_image.py:9: UserWarning: 'has_cuda' is deprecated, please use 'torch.backends.cuda.is_built()'\n",
      "  device = {torch.has_cuda: \"cuda\", torch.has_mps: \"mps\"}.get(True, \"cpu\")\n",
      "c:\\Jibran Data\\LUMS\\Sem 7\\ATML\\PA1\\fast-style-transfer\\stylize_image.py:9: UserWarning: 'has_mps' is deprecated, please use 'torch.backends.mps.is_built()'\n",
      "  device = {torch.has_cuda: \"cuda\", torch.has_mps: \"mps\"}.get(True, \"cpu\")\n"
     ]
    },
    {
     "name": "stdout",
     "output_type": "stream",
     "text": [
      "image saved successfully at styled_output.png\n"
     ]
    },
    {
     "name": "stderr",
     "output_type": "stream",
     "text": [
      "c:\\Jibran Data\\LUMS\\Sem 7\\ATML\\PA1\\fast-style-transfer\\stylize_image.py:9: UserWarning: 'has_cuda' is deprecated, please use 'torch.backends.cuda.is_built()'\n",
      "  device = {torch.has_cuda: \"cuda\", torch.has_mps: \"mps\"}.get(True, \"cpu\")\n",
      "c:\\Jibran Data\\LUMS\\Sem 7\\ATML\\PA1\\fast-style-transfer\\stylize_image.py:9: UserWarning: 'has_mps' is deprecated, please use 'torch.backends.mps.is_built()'\n",
      "  device = {torch.has_cuda: \"cuda\", torch.has_mps: \"mps\"}.get(True, \"cpu\")\n"
     ]
    },
    {
     "name": "stdout",
     "output_type": "stream",
     "text": [
      "image saved successfully at styled_output.png\n"
     ]
    },
    {
     "name": "stderr",
     "output_type": "stream",
     "text": [
      "c:\\Jibran Data\\LUMS\\Sem 7\\ATML\\PA1\\fast-style-transfer\\stylize_image.py:9: UserWarning: 'has_cuda' is deprecated, please use 'torch.backends.cuda.is_built()'\n",
      "  device = {torch.has_cuda: \"cuda\", torch.has_mps: \"mps\"}.get(True, \"cpu\")\n",
      "c:\\Jibran Data\\LUMS\\Sem 7\\ATML\\PA1\\fast-style-transfer\\stylize_image.py:9: UserWarning: 'has_mps' is deprecated, please use 'torch.backends.mps.is_built()'\n",
      "  device = {torch.has_cuda: \"cuda\", torch.has_mps: \"mps\"}.get(True, \"cpu\")\n"
     ]
    },
    {
     "name": "stdout",
     "output_type": "stream",
     "text": [
      "image saved successfully at styled_output.png\n"
     ]
    },
    {
     "name": "stderr",
     "output_type": "stream",
     "text": [
      "c:\\Jibran Data\\LUMS\\Sem 7\\ATML\\PA1\\fast-style-transfer\\stylize_image.py:9: UserWarning: 'has_cuda' is deprecated, please use 'torch.backends.cuda.is_built()'\n",
      "  device = {torch.has_cuda: \"cuda\", torch.has_mps: \"mps\"}.get(True, \"cpu\")\n",
      "c:\\Jibran Data\\LUMS\\Sem 7\\ATML\\PA1\\fast-style-transfer\\stylize_image.py:9: UserWarning: 'has_mps' is deprecated, please use 'torch.backends.mps.is_built()'\n",
      "  device = {torch.has_cuda: \"cuda\", torch.has_mps: \"mps\"}.get(True, \"cpu\")\n"
     ]
    },
    {
     "name": "stdout",
     "output_type": "stream",
     "text": [
      "image saved successfully at styled_output.png\n"
     ]
    },
    {
     "name": "stderr",
     "output_type": "stream",
     "text": [
      "c:\\Jibran Data\\LUMS\\Sem 7\\ATML\\PA1\\fast-style-transfer\\stylize_image.py:9: UserWarning: 'has_cuda' is deprecated, please use 'torch.backends.cuda.is_built()'\n",
      "  device = {torch.has_cuda: \"cuda\", torch.has_mps: \"mps\"}.get(True, \"cpu\")\n",
      "c:\\Jibran Data\\LUMS\\Sem 7\\ATML\\PA1\\fast-style-transfer\\stylize_image.py:9: UserWarning: 'has_mps' is deprecated, please use 'torch.backends.mps.is_built()'\n",
      "  device = {torch.has_cuda: \"cuda\", torch.has_mps: \"mps\"}.get(True, \"cpu\")\n"
     ]
    },
    {
     "name": "stdout",
     "output_type": "stream",
     "text": [
      "image saved successfully at styled_output.png\n"
     ]
    },
    {
     "name": "stderr",
     "output_type": "stream",
     "text": [
      "c:\\Jibran Data\\LUMS\\Sem 7\\ATML\\PA1\\fast-style-transfer\\stylize_image.py:9: UserWarning: 'has_cuda' is deprecated, please use 'torch.backends.cuda.is_built()'\n",
      "  device = {torch.has_cuda: \"cuda\", torch.has_mps: \"mps\"}.get(True, \"cpu\")\n",
      "c:\\Jibran Data\\LUMS\\Sem 7\\ATML\\PA1\\fast-style-transfer\\stylize_image.py:9: UserWarning: 'has_mps' is deprecated, please use 'torch.backends.mps.is_built()'\n",
      "  device = {torch.has_cuda: \"cuda\", torch.has_mps: \"mps\"}.get(True, \"cpu\")\n"
     ]
    },
    {
     "name": "stdout",
     "output_type": "stream",
     "text": [
      "image saved successfully at styled_output.png\n"
     ]
    },
    {
     "name": "stderr",
     "output_type": "stream",
     "text": [
      "c:\\Jibran Data\\LUMS\\Sem 7\\ATML\\PA1\\fast-style-transfer\\stylize_image.py:9: UserWarning: 'has_cuda' is deprecated, please use 'torch.backends.cuda.is_built()'\n",
      "  device = {torch.has_cuda: \"cuda\", torch.has_mps: \"mps\"}.get(True, \"cpu\")\n",
      "c:\\Jibran Data\\LUMS\\Sem 7\\ATML\\PA1\\fast-style-transfer\\stylize_image.py:9: UserWarning: 'has_mps' is deprecated, please use 'torch.backends.mps.is_built()'\n",
      "  device = {torch.has_cuda: \"cuda\", torch.has_mps: \"mps\"}.get(True, \"cpu\")\n"
     ]
    },
    {
     "name": "stdout",
     "output_type": "stream",
     "text": [
      "image saved successfully at styled_output.png\n"
     ]
    },
    {
     "name": "stderr",
     "output_type": "stream",
     "text": [
      "c:\\Jibran Data\\LUMS\\Sem 7\\ATML\\PA1\\fast-style-transfer\\stylize_image.py:9: UserWarning: 'has_cuda' is deprecated, please use 'torch.backends.cuda.is_built()'\n",
      "  device = {torch.has_cuda: \"cuda\", torch.has_mps: \"mps\"}.get(True, \"cpu\")\n",
      "c:\\Jibran Data\\LUMS\\Sem 7\\ATML\\PA1\\fast-style-transfer\\stylize_image.py:9: UserWarning: 'has_mps' is deprecated, please use 'torch.backends.mps.is_built()'\n",
      "  device = {torch.has_cuda: \"cuda\", torch.has_mps: \"mps\"}.get(True, \"cpu\")\n"
     ]
    },
    {
     "name": "stdout",
     "output_type": "stream",
     "text": [
      "image saved successfully at styled_output.png\n"
     ]
    },
    {
     "name": "stderr",
     "output_type": "stream",
     "text": [
      "c:\\Jibran Data\\LUMS\\Sem 7\\ATML\\PA1\\fast-style-transfer\\stylize_image.py:9: UserWarning: 'has_cuda' is deprecated, please use 'torch.backends.cuda.is_built()'\n",
      "  device = {torch.has_cuda: \"cuda\", torch.has_mps: \"mps\"}.get(True, \"cpu\")\n",
      "c:\\Jibran Data\\LUMS\\Sem 7\\ATML\\PA1\\fast-style-transfer\\stylize_image.py:9: UserWarning: 'has_mps' is deprecated, please use 'torch.backends.mps.is_built()'\n",
      "  device = {torch.has_cuda: \"cuda\", torch.has_mps: \"mps\"}.get(True, \"cpu\")\n"
     ]
    },
    {
     "name": "stdout",
     "output_type": "stream",
     "text": [
      "image saved successfully at styled_output.png\n"
     ]
    },
    {
     "name": "stderr",
     "output_type": "stream",
     "text": [
      "c:\\Jibran Data\\LUMS\\Sem 7\\ATML\\PA1\\fast-style-transfer\\stylize_image.py:9: UserWarning: 'has_cuda' is deprecated, please use 'torch.backends.cuda.is_built()'\n",
      "  device = {torch.has_cuda: \"cuda\", torch.has_mps: \"mps\"}.get(True, \"cpu\")\n",
      "c:\\Jibran Data\\LUMS\\Sem 7\\ATML\\PA1\\fast-style-transfer\\stylize_image.py:9: UserWarning: 'has_mps' is deprecated, please use 'torch.backends.mps.is_built()'\n",
      "  device = {torch.has_cuda: \"cuda\", torch.has_mps: \"mps\"}.get(True, \"cpu\")\n"
     ]
    },
    {
     "name": "stdout",
     "output_type": "stream",
     "text": [
      "image saved successfully at styled_output.png\n"
     ]
    },
    {
     "name": "stderr",
     "output_type": "stream",
     "text": [
      "c:\\Jibran Data\\LUMS\\Sem 7\\ATML\\PA1\\fast-style-transfer\\stylize_image.py:9: UserWarning: 'has_cuda' is deprecated, please use 'torch.backends.cuda.is_built()'\n",
      "  device = {torch.has_cuda: \"cuda\", torch.has_mps: \"mps\"}.get(True, \"cpu\")\n",
      "c:\\Jibran Data\\LUMS\\Sem 7\\ATML\\PA1\\fast-style-transfer\\stylize_image.py:9: UserWarning: 'has_mps' is deprecated, please use 'torch.backends.mps.is_built()'\n",
      "  device = {torch.has_cuda: \"cuda\", torch.has_mps: \"mps\"}.get(True, \"cpu\")\n"
     ]
    },
    {
     "name": "stdout",
     "output_type": "stream",
     "text": [
      "image saved successfully at styled_output.png\n"
     ]
    },
    {
     "name": "stderr",
     "output_type": "stream",
     "text": [
      "c:\\Jibran Data\\LUMS\\Sem 7\\ATML\\PA1\\fast-style-transfer\\stylize_image.py:9: UserWarning: 'has_cuda' is deprecated, please use 'torch.backends.cuda.is_built()'\n",
      "  device = {torch.has_cuda: \"cuda\", torch.has_mps: \"mps\"}.get(True, \"cpu\")\n",
      "c:\\Jibran Data\\LUMS\\Sem 7\\ATML\\PA1\\fast-style-transfer\\stylize_image.py:9: UserWarning: 'has_mps' is deprecated, please use 'torch.backends.mps.is_built()'\n",
      "  device = {torch.has_cuda: \"cuda\", torch.has_mps: \"mps\"}.get(True, \"cpu\")\n"
     ]
    },
    {
     "name": "stdout",
     "output_type": "stream",
     "text": [
      "image saved successfully at styled_output.png\n"
     ]
    },
    {
     "name": "stderr",
     "output_type": "stream",
     "text": [
      "c:\\Jibran Data\\LUMS\\Sem 7\\ATML\\PA1\\fast-style-transfer\\stylize_image.py:9: UserWarning: 'has_cuda' is deprecated, please use 'torch.backends.cuda.is_built()'\n",
      "  device = {torch.has_cuda: \"cuda\", torch.has_mps: \"mps\"}.get(True, \"cpu\")\n",
      "c:\\Jibran Data\\LUMS\\Sem 7\\ATML\\PA1\\fast-style-transfer\\stylize_image.py:9: UserWarning: 'has_mps' is deprecated, please use 'torch.backends.mps.is_built()'\n",
      "  device = {torch.has_cuda: \"cuda\", torch.has_mps: \"mps\"}.get(True, \"cpu\")\n"
     ]
    },
    {
     "name": "stdout",
     "output_type": "stream",
     "text": [
      "image saved successfully at styled_output.png\n"
     ]
    },
    {
     "name": "stderr",
     "output_type": "stream",
     "text": [
      "c:\\Jibran Data\\LUMS\\Sem 7\\ATML\\PA1\\fast-style-transfer\\stylize_image.py:9: UserWarning: 'has_cuda' is deprecated, please use 'torch.backends.cuda.is_built()'\n",
      "  device = {torch.has_cuda: \"cuda\", torch.has_mps: \"mps\"}.get(True, \"cpu\")\n",
      "c:\\Jibran Data\\LUMS\\Sem 7\\ATML\\PA1\\fast-style-transfer\\stylize_image.py:9: UserWarning: 'has_mps' is deprecated, please use 'torch.backends.mps.is_built()'\n",
      "  device = {torch.has_cuda: \"cuda\", torch.has_mps: \"mps\"}.get(True, \"cpu\")\n"
     ]
    },
    {
     "name": "stdout",
     "output_type": "stream",
     "text": [
      "image saved successfully at styled_output.png\n"
     ]
    },
    {
     "name": "stderr",
     "output_type": "stream",
     "text": [
      "c:\\Jibran Data\\LUMS\\Sem 7\\ATML\\PA1\\fast-style-transfer\\stylize_image.py:9: UserWarning: 'has_cuda' is deprecated, please use 'torch.backends.cuda.is_built()'\n",
      "  device = {torch.has_cuda: \"cuda\", torch.has_mps: \"mps\"}.get(True, \"cpu\")\n",
      "c:\\Jibran Data\\LUMS\\Sem 7\\ATML\\PA1\\fast-style-transfer\\stylize_image.py:9: UserWarning: 'has_mps' is deprecated, please use 'torch.backends.mps.is_built()'\n",
      "  device = {torch.has_cuda: \"cuda\", torch.has_mps: \"mps\"}.get(True, \"cpu\")\n"
     ]
    },
    {
     "name": "stdout",
     "output_type": "stream",
     "text": [
      "image saved successfully at styled_output.png\n"
     ]
    },
    {
     "name": "stderr",
     "output_type": "stream",
     "text": [
      "c:\\Jibran Data\\LUMS\\Sem 7\\ATML\\PA1\\fast-style-transfer\\stylize_image.py:9: UserWarning: 'has_cuda' is deprecated, please use 'torch.backends.cuda.is_built()'\n",
      "  device = {torch.has_cuda: \"cuda\", torch.has_mps: \"mps\"}.get(True, \"cpu\")\n",
      "c:\\Jibran Data\\LUMS\\Sem 7\\ATML\\PA1\\fast-style-transfer\\stylize_image.py:9: UserWarning: 'has_mps' is deprecated, please use 'torch.backends.mps.is_built()'\n",
      "  device = {torch.has_cuda: \"cuda\", torch.has_mps: \"mps\"}.get(True, \"cpu\")\n"
     ]
    },
    {
     "data": {
      "application/vnd.jupyter.widget-view+json": {
       "model_id": "c4db0bfd39a842d5851dca526a6b08bd",
       "version_major": 2,
       "version_minor": 0
      },
      "text/plain": [
       "Class 'dog':   0%|          | 0/10 [00:00<?, ?it/s]"
      ]
     },
     "metadata": {},
     "output_type": "display_data"
    },
    {
     "name": "stdout",
     "output_type": "stream",
     "text": [
      "image saved successfully at styled_output.png\n"
     ]
    },
    {
     "name": "stderr",
     "output_type": "stream",
     "text": [
      "c:\\Jibran Data\\LUMS\\Sem 7\\ATML\\PA1\\fast-style-transfer\\stylize_image.py:9: UserWarning: 'has_cuda' is deprecated, please use 'torch.backends.cuda.is_built()'\n",
      "  device = {torch.has_cuda: \"cuda\", torch.has_mps: \"mps\"}.get(True, \"cpu\")\n",
      "c:\\Jibran Data\\LUMS\\Sem 7\\ATML\\PA1\\fast-style-transfer\\stylize_image.py:9: UserWarning: 'has_mps' is deprecated, please use 'torch.backends.mps.is_built()'\n",
      "  device = {torch.has_cuda: \"cuda\", torch.has_mps: \"mps\"}.get(True, \"cpu\")\n"
     ]
    },
    {
     "name": "stdout",
     "output_type": "stream",
     "text": [
      "image saved successfully at styled_output.png\n"
     ]
    },
    {
     "name": "stderr",
     "output_type": "stream",
     "text": [
      "c:\\Jibran Data\\LUMS\\Sem 7\\ATML\\PA1\\fast-style-transfer\\stylize_image.py:9: UserWarning: 'has_cuda' is deprecated, please use 'torch.backends.cuda.is_built()'\n",
      "  device = {torch.has_cuda: \"cuda\", torch.has_mps: \"mps\"}.get(True, \"cpu\")\n",
      "c:\\Jibran Data\\LUMS\\Sem 7\\ATML\\PA1\\fast-style-transfer\\stylize_image.py:9: UserWarning: 'has_mps' is deprecated, please use 'torch.backends.mps.is_built()'\n",
      "  device = {torch.has_cuda: \"cuda\", torch.has_mps: \"mps\"}.get(True, \"cpu\")\n"
     ]
    },
    {
     "name": "stdout",
     "output_type": "stream",
     "text": [
      "image saved successfully at styled_output.png\n"
     ]
    },
    {
     "name": "stderr",
     "output_type": "stream",
     "text": [
      "c:\\Jibran Data\\LUMS\\Sem 7\\ATML\\PA1\\fast-style-transfer\\stylize_image.py:9: UserWarning: 'has_cuda' is deprecated, please use 'torch.backends.cuda.is_built()'\n",
      "  device = {torch.has_cuda: \"cuda\", torch.has_mps: \"mps\"}.get(True, \"cpu\")\n",
      "c:\\Jibran Data\\LUMS\\Sem 7\\ATML\\PA1\\fast-style-transfer\\stylize_image.py:9: UserWarning: 'has_mps' is deprecated, please use 'torch.backends.mps.is_built()'\n",
      "  device = {torch.has_cuda: \"cuda\", torch.has_mps: \"mps\"}.get(True, \"cpu\")\n"
     ]
    },
    {
     "name": "stdout",
     "output_type": "stream",
     "text": [
      "image saved successfully at styled_output.png\n"
     ]
    },
    {
     "name": "stderr",
     "output_type": "stream",
     "text": [
      "c:\\Jibran Data\\LUMS\\Sem 7\\ATML\\PA1\\fast-style-transfer\\stylize_image.py:9: UserWarning: 'has_cuda' is deprecated, please use 'torch.backends.cuda.is_built()'\n",
      "  device = {torch.has_cuda: \"cuda\", torch.has_mps: \"mps\"}.get(True, \"cpu\")\n",
      "c:\\Jibran Data\\LUMS\\Sem 7\\ATML\\PA1\\fast-style-transfer\\stylize_image.py:9: UserWarning: 'has_mps' is deprecated, please use 'torch.backends.mps.is_built()'\n",
      "  device = {torch.has_cuda: \"cuda\", torch.has_mps: \"mps\"}.get(True, \"cpu\")\n"
     ]
    },
    {
     "name": "stdout",
     "output_type": "stream",
     "text": [
      "image saved successfully at styled_output.png\n"
     ]
    },
    {
     "name": "stderr",
     "output_type": "stream",
     "text": [
      "c:\\Jibran Data\\LUMS\\Sem 7\\ATML\\PA1\\fast-style-transfer\\stylize_image.py:9: UserWarning: 'has_cuda' is deprecated, please use 'torch.backends.cuda.is_built()'\n",
      "  device = {torch.has_cuda: \"cuda\", torch.has_mps: \"mps\"}.get(True, \"cpu\")\n",
      "c:\\Jibran Data\\LUMS\\Sem 7\\ATML\\PA1\\fast-style-transfer\\stylize_image.py:9: UserWarning: 'has_mps' is deprecated, please use 'torch.backends.mps.is_built()'\n",
      "  device = {torch.has_cuda: \"cuda\", torch.has_mps: \"mps\"}.get(True, \"cpu\")\n"
     ]
    },
    {
     "name": "stdout",
     "output_type": "stream",
     "text": [
      "image saved successfully at styled_output.png\n"
     ]
    },
    {
     "name": "stderr",
     "output_type": "stream",
     "text": [
      "c:\\Jibran Data\\LUMS\\Sem 7\\ATML\\PA1\\fast-style-transfer\\stylize_image.py:9: UserWarning: 'has_cuda' is deprecated, please use 'torch.backends.cuda.is_built()'\n",
      "  device = {torch.has_cuda: \"cuda\", torch.has_mps: \"mps\"}.get(True, \"cpu\")\n",
      "c:\\Jibran Data\\LUMS\\Sem 7\\ATML\\PA1\\fast-style-transfer\\stylize_image.py:9: UserWarning: 'has_mps' is deprecated, please use 'torch.backends.mps.is_built()'\n",
      "  device = {torch.has_cuda: \"cuda\", torch.has_mps: \"mps\"}.get(True, \"cpu\")\n"
     ]
    },
    {
     "name": "stdout",
     "output_type": "stream",
     "text": [
      "image saved successfully at styled_output.png\n"
     ]
    },
    {
     "name": "stderr",
     "output_type": "stream",
     "text": [
      "c:\\Jibran Data\\LUMS\\Sem 7\\ATML\\PA1\\fast-style-transfer\\stylize_image.py:9: UserWarning: 'has_cuda' is deprecated, please use 'torch.backends.cuda.is_built()'\n",
      "  device = {torch.has_cuda: \"cuda\", torch.has_mps: \"mps\"}.get(True, \"cpu\")\n",
      "c:\\Jibran Data\\LUMS\\Sem 7\\ATML\\PA1\\fast-style-transfer\\stylize_image.py:9: UserWarning: 'has_mps' is deprecated, please use 'torch.backends.mps.is_built()'\n",
      "  device = {torch.has_cuda: \"cuda\", torch.has_mps: \"mps\"}.get(True, \"cpu\")\n"
     ]
    },
    {
     "name": "stdout",
     "output_type": "stream",
     "text": [
      "image saved successfully at styled_output.png\n"
     ]
    },
    {
     "name": "stderr",
     "output_type": "stream",
     "text": [
      "c:\\Jibran Data\\LUMS\\Sem 7\\ATML\\PA1\\fast-style-transfer\\stylize_image.py:9: UserWarning: 'has_cuda' is deprecated, please use 'torch.backends.cuda.is_built()'\n",
      "  device = {torch.has_cuda: \"cuda\", torch.has_mps: \"mps\"}.get(True, \"cpu\")\n",
      "c:\\Jibran Data\\LUMS\\Sem 7\\ATML\\PA1\\fast-style-transfer\\stylize_image.py:9: UserWarning: 'has_mps' is deprecated, please use 'torch.backends.mps.is_built()'\n",
      "  device = {torch.has_cuda: \"cuda\", torch.has_mps: \"mps\"}.get(True, \"cpu\")\n"
     ]
    },
    {
     "name": "stdout",
     "output_type": "stream",
     "text": [
      "image saved successfully at styled_output.png\n"
     ]
    },
    {
     "name": "stderr",
     "output_type": "stream",
     "text": [
      "c:\\Jibran Data\\LUMS\\Sem 7\\ATML\\PA1\\fast-style-transfer\\stylize_image.py:9: UserWarning: 'has_cuda' is deprecated, please use 'torch.backends.cuda.is_built()'\n",
      "  device = {torch.has_cuda: \"cuda\", torch.has_mps: \"mps\"}.get(True, \"cpu\")\n",
      "c:\\Jibran Data\\LUMS\\Sem 7\\ATML\\PA1\\fast-style-transfer\\stylize_image.py:9: UserWarning: 'has_mps' is deprecated, please use 'torch.backends.mps.is_built()'\n",
      "  device = {torch.has_cuda: \"cuda\", torch.has_mps: \"mps\"}.get(True, \"cpu\")\n"
     ]
    },
    {
     "name": "stdout",
     "output_type": "stream",
     "text": [
      "image saved successfully at styled_output.png\n"
     ]
    },
    {
     "name": "stderr",
     "output_type": "stream",
     "text": [
      "c:\\Jibran Data\\LUMS\\Sem 7\\ATML\\PA1\\fast-style-transfer\\stylize_image.py:9: UserWarning: 'has_cuda' is deprecated, please use 'torch.backends.cuda.is_built()'\n",
      "  device = {torch.has_cuda: \"cuda\", torch.has_mps: \"mps\"}.get(True, \"cpu\")\n",
      "c:\\Jibran Data\\LUMS\\Sem 7\\ATML\\PA1\\fast-style-transfer\\stylize_image.py:9: UserWarning: 'has_mps' is deprecated, please use 'torch.backends.mps.is_built()'\n",
      "  device = {torch.has_cuda: \"cuda\", torch.has_mps: \"mps\"}.get(True, \"cpu\")\n"
     ]
    },
    {
     "name": "stdout",
     "output_type": "stream",
     "text": [
      "image saved successfully at styled_output.png\n"
     ]
    },
    {
     "name": "stderr",
     "output_type": "stream",
     "text": [
      "c:\\Jibran Data\\LUMS\\Sem 7\\ATML\\PA1\\fast-style-transfer\\stylize_image.py:9: UserWarning: 'has_cuda' is deprecated, please use 'torch.backends.cuda.is_built()'\n",
      "  device = {torch.has_cuda: \"cuda\", torch.has_mps: \"mps\"}.get(True, \"cpu\")\n",
      "c:\\Jibran Data\\LUMS\\Sem 7\\ATML\\PA1\\fast-style-transfer\\stylize_image.py:9: UserWarning: 'has_mps' is deprecated, please use 'torch.backends.mps.is_built()'\n",
      "  device = {torch.has_cuda: \"cuda\", torch.has_mps: \"mps\"}.get(True, \"cpu\")\n"
     ]
    },
    {
     "name": "stdout",
     "output_type": "stream",
     "text": [
      "image saved successfully at styled_output.png\n"
     ]
    },
    {
     "name": "stderr",
     "output_type": "stream",
     "text": [
      "c:\\Jibran Data\\LUMS\\Sem 7\\ATML\\PA1\\fast-style-transfer\\stylize_image.py:9: UserWarning: 'has_cuda' is deprecated, please use 'torch.backends.cuda.is_built()'\n",
      "  device = {torch.has_cuda: \"cuda\", torch.has_mps: \"mps\"}.get(True, \"cpu\")\n",
      "c:\\Jibran Data\\LUMS\\Sem 7\\ATML\\PA1\\fast-style-transfer\\stylize_image.py:9: UserWarning: 'has_mps' is deprecated, please use 'torch.backends.mps.is_built()'\n",
      "  device = {torch.has_cuda: \"cuda\", torch.has_mps: \"mps\"}.get(True, \"cpu\")\n"
     ]
    },
    {
     "name": "stdout",
     "output_type": "stream",
     "text": [
      "image saved successfully at styled_output.png\n"
     ]
    },
    {
     "name": "stderr",
     "output_type": "stream",
     "text": [
      "c:\\Jibran Data\\LUMS\\Sem 7\\ATML\\PA1\\fast-style-transfer\\stylize_image.py:9: UserWarning: 'has_cuda' is deprecated, please use 'torch.backends.cuda.is_built()'\n",
      "  device = {torch.has_cuda: \"cuda\", torch.has_mps: \"mps\"}.get(True, \"cpu\")\n",
      "c:\\Jibran Data\\LUMS\\Sem 7\\ATML\\PA1\\fast-style-transfer\\stylize_image.py:9: UserWarning: 'has_mps' is deprecated, please use 'torch.backends.mps.is_built()'\n",
      "  device = {torch.has_cuda: \"cuda\", torch.has_mps: \"mps\"}.get(True, \"cpu\")\n"
     ]
    },
    {
     "name": "stdout",
     "output_type": "stream",
     "text": [
      "image saved successfully at styled_output.png\n"
     ]
    },
    {
     "name": "stderr",
     "output_type": "stream",
     "text": [
      "c:\\Jibran Data\\LUMS\\Sem 7\\ATML\\PA1\\fast-style-transfer\\stylize_image.py:9: UserWarning: 'has_cuda' is deprecated, please use 'torch.backends.cuda.is_built()'\n",
      "  device = {torch.has_cuda: \"cuda\", torch.has_mps: \"mps\"}.get(True, \"cpu\")\n",
      "c:\\Jibran Data\\LUMS\\Sem 7\\ATML\\PA1\\fast-style-transfer\\stylize_image.py:9: UserWarning: 'has_mps' is deprecated, please use 'torch.backends.mps.is_built()'\n",
      "  device = {torch.has_cuda: \"cuda\", torch.has_mps: \"mps\"}.get(True, \"cpu\")\n"
     ]
    },
    {
     "name": "stdout",
     "output_type": "stream",
     "text": [
      "image saved successfully at styled_output.png\n"
     ]
    },
    {
     "name": "stderr",
     "output_type": "stream",
     "text": [
      "c:\\Jibran Data\\LUMS\\Sem 7\\ATML\\PA1\\fast-style-transfer\\stylize_image.py:9: UserWarning: 'has_cuda' is deprecated, please use 'torch.backends.cuda.is_built()'\n",
      "  device = {torch.has_cuda: \"cuda\", torch.has_mps: \"mps\"}.get(True, \"cpu\")\n",
      "c:\\Jibran Data\\LUMS\\Sem 7\\ATML\\PA1\\fast-style-transfer\\stylize_image.py:9: UserWarning: 'has_mps' is deprecated, please use 'torch.backends.mps.is_built()'\n",
      "  device = {torch.has_cuda: \"cuda\", torch.has_mps: \"mps\"}.get(True, \"cpu\")\n"
     ]
    },
    {
     "name": "stdout",
     "output_type": "stream",
     "text": [
      "image saved successfully at styled_output.png\n"
     ]
    },
    {
     "name": "stderr",
     "output_type": "stream",
     "text": [
      "c:\\Jibran Data\\LUMS\\Sem 7\\ATML\\PA1\\fast-style-transfer\\stylize_image.py:9: UserWarning: 'has_cuda' is deprecated, please use 'torch.backends.cuda.is_built()'\n",
      "  device = {torch.has_cuda: \"cuda\", torch.has_mps: \"mps\"}.get(True, \"cpu\")\n",
      "c:\\Jibran Data\\LUMS\\Sem 7\\ATML\\PA1\\fast-style-transfer\\stylize_image.py:9: UserWarning: 'has_mps' is deprecated, please use 'torch.backends.mps.is_built()'\n",
      "  device = {torch.has_cuda: \"cuda\", torch.has_mps: \"mps\"}.get(True, \"cpu\")\n"
     ]
    },
    {
     "name": "stdout",
     "output_type": "stream",
     "text": [
      "image saved successfully at styled_output.png\n"
     ]
    },
    {
     "name": "stderr",
     "output_type": "stream",
     "text": [
      "c:\\Jibran Data\\LUMS\\Sem 7\\ATML\\PA1\\fast-style-transfer\\stylize_image.py:9: UserWarning: 'has_cuda' is deprecated, please use 'torch.backends.cuda.is_built()'\n",
      "  device = {torch.has_cuda: \"cuda\", torch.has_mps: \"mps\"}.get(True, \"cpu\")\n",
      "c:\\Jibran Data\\LUMS\\Sem 7\\ATML\\PA1\\fast-style-transfer\\stylize_image.py:9: UserWarning: 'has_mps' is deprecated, please use 'torch.backends.mps.is_built()'\n",
      "  device = {torch.has_cuda: \"cuda\", torch.has_mps: \"mps\"}.get(True, \"cpu\")\n"
     ]
    },
    {
     "name": "stdout",
     "output_type": "stream",
     "text": [
      "image saved successfully at styled_output.png\n"
     ]
    },
    {
     "name": "stderr",
     "output_type": "stream",
     "text": [
      "c:\\Jibran Data\\LUMS\\Sem 7\\ATML\\PA1\\fast-style-transfer\\stylize_image.py:9: UserWarning: 'has_cuda' is deprecated, please use 'torch.backends.cuda.is_built()'\n",
      "  device = {torch.has_cuda: \"cuda\", torch.has_mps: \"mps\"}.get(True, \"cpu\")\n",
      "c:\\Jibran Data\\LUMS\\Sem 7\\ATML\\PA1\\fast-style-transfer\\stylize_image.py:9: UserWarning: 'has_mps' is deprecated, please use 'torch.backends.mps.is_built()'\n",
      "  device = {torch.has_cuda: \"cuda\", torch.has_mps: \"mps\"}.get(True, \"cpu\")\n"
     ]
    },
    {
     "name": "stdout",
     "output_type": "stream",
     "text": [
      "image saved successfully at styled_output.png\n"
     ]
    },
    {
     "name": "stderr",
     "output_type": "stream",
     "text": [
      "c:\\Jibran Data\\LUMS\\Sem 7\\ATML\\PA1\\fast-style-transfer\\stylize_image.py:9: UserWarning: 'has_cuda' is deprecated, please use 'torch.backends.cuda.is_built()'\n",
      "  device = {torch.has_cuda: \"cuda\", torch.has_mps: \"mps\"}.get(True, \"cpu\")\n",
      "c:\\Jibran Data\\LUMS\\Sem 7\\ATML\\PA1\\fast-style-transfer\\stylize_image.py:9: UserWarning: 'has_mps' is deprecated, please use 'torch.backends.mps.is_built()'\n",
      "  device = {torch.has_cuda: \"cuda\", torch.has_mps: \"mps\"}.get(True, \"cpu\")\n"
     ]
    },
    {
     "name": "stdout",
     "output_type": "stream",
     "text": [
      "image saved successfully at styled_output.png\n"
     ]
    },
    {
     "name": "stderr",
     "output_type": "stream",
     "text": [
      "c:\\Jibran Data\\LUMS\\Sem 7\\ATML\\PA1\\fast-style-transfer\\stylize_image.py:9: UserWarning: 'has_cuda' is deprecated, please use 'torch.backends.cuda.is_built()'\n",
      "  device = {torch.has_cuda: \"cuda\", torch.has_mps: \"mps\"}.get(True, \"cpu\")\n",
      "c:\\Jibran Data\\LUMS\\Sem 7\\ATML\\PA1\\fast-style-transfer\\stylize_image.py:9: UserWarning: 'has_mps' is deprecated, please use 'torch.backends.mps.is_built()'\n",
      "  device = {torch.has_cuda: \"cuda\", torch.has_mps: \"mps\"}.get(True, \"cpu\")\n"
     ]
    },
    {
     "name": "stdout",
     "output_type": "stream",
     "text": [
      "image saved successfully at styled_output.png\n"
     ]
    },
    {
     "name": "stderr",
     "output_type": "stream",
     "text": [
      "c:\\Jibran Data\\LUMS\\Sem 7\\ATML\\PA1\\fast-style-transfer\\stylize_image.py:9: UserWarning: 'has_cuda' is deprecated, please use 'torch.backends.cuda.is_built()'\n",
      "  device = {torch.has_cuda: \"cuda\", torch.has_mps: \"mps\"}.get(True, \"cpu\")\n",
      "c:\\Jibran Data\\LUMS\\Sem 7\\ATML\\PA1\\fast-style-transfer\\stylize_image.py:9: UserWarning: 'has_mps' is deprecated, please use 'torch.backends.mps.is_built()'\n",
      "  device = {torch.has_cuda: \"cuda\", torch.has_mps: \"mps\"}.get(True, \"cpu\")\n"
     ]
    },
    {
     "name": "stdout",
     "output_type": "stream",
     "text": [
      "image saved successfully at styled_output.png\n"
     ]
    },
    {
     "name": "stderr",
     "output_type": "stream",
     "text": [
      "c:\\Jibran Data\\LUMS\\Sem 7\\ATML\\PA1\\fast-style-transfer\\stylize_image.py:9: UserWarning: 'has_cuda' is deprecated, please use 'torch.backends.cuda.is_built()'\n",
      "  device = {torch.has_cuda: \"cuda\", torch.has_mps: \"mps\"}.get(True, \"cpu\")\n",
      "c:\\Jibran Data\\LUMS\\Sem 7\\ATML\\PA1\\fast-style-transfer\\stylize_image.py:9: UserWarning: 'has_mps' is deprecated, please use 'torch.backends.mps.is_built()'\n",
      "  device = {torch.has_cuda: \"cuda\", torch.has_mps: \"mps\"}.get(True, \"cpu\")\n"
     ]
    },
    {
     "name": "stdout",
     "output_type": "stream",
     "text": [
      "image saved successfully at styled_output.png\n"
     ]
    },
    {
     "name": "stderr",
     "output_type": "stream",
     "text": [
      "c:\\Jibran Data\\LUMS\\Sem 7\\ATML\\PA1\\fast-style-transfer\\stylize_image.py:9: UserWarning: 'has_cuda' is deprecated, please use 'torch.backends.cuda.is_built()'\n",
      "  device = {torch.has_cuda: \"cuda\", torch.has_mps: \"mps\"}.get(True, \"cpu\")\n",
      "c:\\Jibran Data\\LUMS\\Sem 7\\ATML\\PA1\\fast-style-transfer\\stylize_image.py:9: UserWarning: 'has_mps' is deprecated, please use 'torch.backends.mps.is_built()'\n",
      "  device = {torch.has_cuda: \"cuda\", torch.has_mps: \"mps\"}.get(True, \"cpu\")\n"
     ]
    },
    {
     "name": "stdout",
     "output_type": "stream",
     "text": [
      "image saved successfully at styled_output.png\n"
     ]
    },
    {
     "name": "stderr",
     "output_type": "stream",
     "text": [
      "c:\\Jibran Data\\LUMS\\Sem 7\\ATML\\PA1\\fast-style-transfer\\stylize_image.py:9: UserWarning: 'has_cuda' is deprecated, please use 'torch.backends.cuda.is_built()'\n",
      "  device = {torch.has_cuda: \"cuda\", torch.has_mps: \"mps\"}.get(True, \"cpu\")\n",
      "c:\\Jibran Data\\LUMS\\Sem 7\\ATML\\PA1\\fast-style-transfer\\stylize_image.py:9: UserWarning: 'has_mps' is deprecated, please use 'torch.backends.mps.is_built()'\n",
      "  device = {torch.has_cuda: \"cuda\", torch.has_mps: \"mps\"}.get(True, \"cpu\")\n"
     ]
    },
    {
     "name": "stdout",
     "output_type": "stream",
     "text": [
      "image saved successfully at styled_output.png\n"
     ]
    },
    {
     "name": "stderr",
     "output_type": "stream",
     "text": [
      "c:\\Jibran Data\\LUMS\\Sem 7\\ATML\\PA1\\fast-style-transfer\\stylize_image.py:9: UserWarning: 'has_cuda' is deprecated, please use 'torch.backends.cuda.is_built()'\n",
      "  device = {torch.has_cuda: \"cuda\", torch.has_mps: \"mps\"}.get(True, \"cpu\")\n",
      "c:\\Jibran Data\\LUMS\\Sem 7\\ATML\\PA1\\fast-style-transfer\\stylize_image.py:9: UserWarning: 'has_mps' is deprecated, please use 'torch.backends.mps.is_built()'\n",
      "  device = {torch.has_cuda: \"cuda\", torch.has_mps: \"mps\"}.get(True, \"cpu\")\n"
     ]
    },
    {
     "name": "stdout",
     "output_type": "stream",
     "text": [
      "image saved successfully at styled_output.png\n"
     ]
    },
    {
     "name": "stderr",
     "output_type": "stream",
     "text": [
      "c:\\Jibran Data\\LUMS\\Sem 7\\ATML\\PA1\\fast-style-transfer\\stylize_image.py:9: UserWarning: 'has_cuda' is deprecated, please use 'torch.backends.cuda.is_built()'\n",
      "  device = {torch.has_cuda: \"cuda\", torch.has_mps: \"mps\"}.get(True, \"cpu\")\n",
      "c:\\Jibran Data\\LUMS\\Sem 7\\ATML\\PA1\\fast-style-transfer\\stylize_image.py:9: UserWarning: 'has_mps' is deprecated, please use 'torch.backends.mps.is_built()'\n",
      "  device = {torch.has_cuda: \"cuda\", torch.has_mps: \"mps\"}.get(True, \"cpu\")\n"
     ]
    },
    {
     "name": "stdout",
     "output_type": "stream",
     "text": [
      "image saved successfully at styled_output.png\n"
     ]
    },
    {
     "name": "stderr",
     "output_type": "stream",
     "text": [
      "c:\\Jibran Data\\LUMS\\Sem 7\\ATML\\PA1\\fast-style-transfer\\stylize_image.py:9: UserWarning: 'has_cuda' is deprecated, please use 'torch.backends.cuda.is_built()'\n",
      "  device = {torch.has_cuda: \"cuda\", torch.has_mps: \"mps\"}.get(True, \"cpu\")\n",
      "c:\\Jibran Data\\LUMS\\Sem 7\\ATML\\PA1\\fast-style-transfer\\stylize_image.py:9: UserWarning: 'has_mps' is deprecated, please use 'torch.backends.mps.is_built()'\n",
      "  device = {torch.has_cuda: \"cuda\", torch.has_mps: \"mps\"}.get(True, \"cpu\")\n"
     ]
    },
    {
     "name": "stdout",
     "output_type": "stream",
     "text": [
      "image saved successfully at styled_output.png\n"
     ]
    },
    {
     "name": "stderr",
     "output_type": "stream",
     "text": [
      "c:\\Jibran Data\\LUMS\\Sem 7\\ATML\\PA1\\fast-style-transfer\\stylize_image.py:9: UserWarning: 'has_cuda' is deprecated, please use 'torch.backends.cuda.is_built()'\n",
      "  device = {torch.has_cuda: \"cuda\", torch.has_mps: \"mps\"}.get(True, \"cpu\")\n",
      "c:\\Jibran Data\\LUMS\\Sem 7\\ATML\\PA1\\fast-style-transfer\\stylize_image.py:9: UserWarning: 'has_mps' is deprecated, please use 'torch.backends.mps.is_built()'\n",
      "  device = {torch.has_cuda: \"cuda\", torch.has_mps: \"mps\"}.get(True, \"cpu\")\n"
     ]
    },
    {
     "name": "stdout",
     "output_type": "stream",
     "text": [
      "image saved successfully at styled_output.png\n"
     ]
    },
    {
     "name": "stderr",
     "output_type": "stream",
     "text": [
      "c:\\Jibran Data\\LUMS\\Sem 7\\ATML\\PA1\\fast-style-transfer\\stylize_image.py:9: UserWarning: 'has_cuda' is deprecated, please use 'torch.backends.cuda.is_built()'\n",
      "  device = {torch.has_cuda: \"cuda\", torch.has_mps: \"mps\"}.get(True, \"cpu\")\n",
      "c:\\Jibran Data\\LUMS\\Sem 7\\ATML\\PA1\\fast-style-transfer\\stylize_image.py:9: UserWarning: 'has_mps' is deprecated, please use 'torch.backends.mps.is_built()'\n",
      "  device = {torch.has_cuda: \"cuda\", torch.has_mps: \"mps\"}.get(True, \"cpu\")\n"
     ]
    },
    {
     "name": "stdout",
     "output_type": "stream",
     "text": [
      "image saved successfully at styled_output.png\n"
     ]
    },
    {
     "name": "stderr",
     "output_type": "stream",
     "text": [
      "c:\\Jibran Data\\LUMS\\Sem 7\\ATML\\PA1\\fast-style-transfer\\stylize_image.py:9: UserWarning: 'has_cuda' is deprecated, please use 'torch.backends.cuda.is_built()'\n",
      "  device = {torch.has_cuda: \"cuda\", torch.has_mps: \"mps\"}.get(True, \"cpu\")\n",
      "c:\\Jibran Data\\LUMS\\Sem 7\\ATML\\PA1\\fast-style-transfer\\stylize_image.py:9: UserWarning: 'has_mps' is deprecated, please use 'torch.backends.mps.is_built()'\n",
      "  device = {torch.has_cuda: \"cuda\", torch.has_mps: \"mps\"}.get(True, \"cpu\")\n"
     ]
    },
    {
     "name": "stdout",
     "output_type": "stream",
     "text": [
      "image saved successfully at styled_output.png\n"
     ]
    },
    {
     "name": "stderr",
     "output_type": "stream",
     "text": [
      "c:\\Jibran Data\\LUMS\\Sem 7\\ATML\\PA1\\fast-style-transfer\\stylize_image.py:9: UserWarning: 'has_cuda' is deprecated, please use 'torch.backends.cuda.is_built()'\n",
      "  device = {torch.has_cuda: \"cuda\", torch.has_mps: \"mps\"}.get(True, \"cpu\")\n",
      "c:\\Jibran Data\\LUMS\\Sem 7\\ATML\\PA1\\fast-style-transfer\\stylize_image.py:9: UserWarning: 'has_mps' is deprecated, please use 'torch.backends.mps.is_built()'\n",
      "  device = {torch.has_cuda: \"cuda\", torch.has_mps: \"mps\"}.get(True, \"cpu\")\n"
     ]
    },
    {
     "name": "stdout",
     "output_type": "stream",
     "text": [
      "image saved successfully at styled_output.png\n"
     ]
    },
    {
     "name": "stderr",
     "output_type": "stream",
     "text": [
      "c:\\Jibran Data\\LUMS\\Sem 7\\ATML\\PA1\\fast-style-transfer\\stylize_image.py:9: UserWarning: 'has_cuda' is deprecated, please use 'torch.backends.cuda.is_built()'\n",
      "  device = {torch.has_cuda: \"cuda\", torch.has_mps: \"mps\"}.get(True, \"cpu\")\n",
      "c:\\Jibran Data\\LUMS\\Sem 7\\ATML\\PA1\\fast-style-transfer\\stylize_image.py:9: UserWarning: 'has_mps' is deprecated, please use 'torch.backends.mps.is_built()'\n",
      "  device = {torch.has_cuda: \"cuda\", torch.has_mps: \"mps\"}.get(True, \"cpu\")\n"
     ]
    },
    {
     "name": "stdout",
     "output_type": "stream",
     "text": [
      "image saved successfully at styled_output.png\n"
     ]
    },
    {
     "name": "stderr",
     "output_type": "stream",
     "text": [
      "c:\\Jibran Data\\LUMS\\Sem 7\\ATML\\PA1\\fast-style-transfer\\stylize_image.py:9: UserWarning: 'has_cuda' is deprecated, please use 'torch.backends.cuda.is_built()'\n",
      "  device = {torch.has_cuda: \"cuda\", torch.has_mps: \"mps\"}.get(True, \"cpu\")\n",
      "c:\\Jibran Data\\LUMS\\Sem 7\\ATML\\PA1\\fast-style-transfer\\stylize_image.py:9: UserWarning: 'has_mps' is deprecated, please use 'torch.backends.mps.is_built()'\n",
      "  device = {torch.has_cuda: \"cuda\", torch.has_mps: \"mps\"}.get(True, \"cpu\")\n"
     ]
    },
    {
     "name": "stdout",
     "output_type": "stream",
     "text": [
      "image saved successfully at styled_output.png\n"
     ]
    },
    {
     "name": "stderr",
     "output_type": "stream",
     "text": [
      "c:\\Jibran Data\\LUMS\\Sem 7\\ATML\\PA1\\fast-style-transfer\\stylize_image.py:9: UserWarning: 'has_cuda' is deprecated, please use 'torch.backends.cuda.is_built()'\n",
      "  device = {torch.has_cuda: \"cuda\", torch.has_mps: \"mps\"}.get(True, \"cpu\")\n",
      "c:\\Jibran Data\\LUMS\\Sem 7\\ATML\\PA1\\fast-style-transfer\\stylize_image.py:9: UserWarning: 'has_mps' is deprecated, please use 'torch.backends.mps.is_built()'\n",
      "  device = {torch.has_cuda: \"cuda\", torch.has_mps: \"mps\"}.get(True, \"cpu\")\n"
     ]
    },
    {
     "name": "stdout",
     "output_type": "stream",
     "text": [
      "image saved successfully at styled_output.png\n"
     ]
    },
    {
     "name": "stderr",
     "output_type": "stream",
     "text": [
      "c:\\Jibran Data\\LUMS\\Sem 7\\ATML\\PA1\\fast-style-transfer\\stylize_image.py:9: UserWarning: 'has_cuda' is deprecated, please use 'torch.backends.cuda.is_built()'\n",
      "  device = {torch.has_cuda: \"cuda\", torch.has_mps: \"mps\"}.get(True, \"cpu\")\n",
      "c:\\Jibran Data\\LUMS\\Sem 7\\ATML\\PA1\\fast-style-transfer\\stylize_image.py:9: UserWarning: 'has_mps' is deprecated, please use 'torch.backends.mps.is_built()'\n",
      "  device = {torch.has_cuda: \"cuda\", torch.has_mps: \"mps\"}.get(True, \"cpu\")\n"
     ]
    },
    {
     "name": "stdout",
     "output_type": "stream",
     "text": [
      "image saved successfully at styled_output.png\n"
     ]
    },
    {
     "name": "stderr",
     "output_type": "stream",
     "text": [
      "c:\\Jibran Data\\LUMS\\Sem 7\\ATML\\PA1\\fast-style-transfer\\stylize_image.py:9: UserWarning: 'has_cuda' is deprecated, please use 'torch.backends.cuda.is_built()'\n",
      "  device = {torch.has_cuda: \"cuda\", torch.has_mps: \"mps\"}.get(True, \"cpu\")\n",
      "c:\\Jibran Data\\LUMS\\Sem 7\\ATML\\PA1\\fast-style-transfer\\stylize_image.py:9: UserWarning: 'has_mps' is deprecated, please use 'torch.backends.mps.is_built()'\n",
      "  device = {torch.has_cuda: \"cuda\", torch.has_mps: \"mps\"}.get(True, \"cpu\")\n"
     ]
    },
    {
     "name": "stdout",
     "output_type": "stream",
     "text": [
      "image saved successfully at styled_output.png\n"
     ]
    },
    {
     "name": "stderr",
     "output_type": "stream",
     "text": [
      "c:\\Jibran Data\\LUMS\\Sem 7\\ATML\\PA1\\fast-style-transfer\\stylize_image.py:9: UserWarning: 'has_cuda' is deprecated, please use 'torch.backends.cuda.is_built()'\n",
      "  device = {torch.has_cuda: \"cuda\", torch.has_mps: \"mps\"}.get(True, \"cpu\")\n",
      "c:\\Jibran Data\\LUMS\\Sem 7\\ATML\\PA1\\fast-style-transfer\\stylize_image.py:9: UserWarning: 'has_mps' is deprecated, please use 'torch.backends.mps.is_built()'\n",
      "  device = {torch.has_cuda: \"cuda\", torch.has_mps: \"mps\"}.get(True, \"cpu\")\n"
     ]
    },
    {
     "name": "stdout",
     "output_type": "stream",
     "text": [
      "image saved successfully at styled_output.png\n"
     ]
    },
    {
     "name": "stderr",
     "output_type": "stream",
     "text": [
      "c:\\Jibran Data\\LUMS\\Sem 7\\ATML\\PA1\\fast-style-transfer\\stylize_image.py:9: UserWarning: 'has_cuda' is deprecated, please use 'torch.backends.cuda.is_built()'\n",
      "  device = {torch.has_cuda: \"cuda\", torch.has_mps: \"mps\"}.get(True, \"cpu\")\n",
      "c:\\Jibran Data\\LUMS\\Sem 7\\ATML\\PA1\\fast-style-transfer\\stylize_image.py:9: UserWarning: 'has_mps' is deprecated, please use 'torch.backends.mps.is_built()'\n",
      "  device = {torch.has_cuda: \"cuda\", torch.has_mps: \"mps\"}.get(True, \"cpu\")\n"
     ]
    },
    {
     "name": "stdout",
     "output_type": "stream",
     "text": [
      "image saved successfully at styled_output.png\n"
     ]
    },
    {
     "name": "stderr",
     "output_type": "stream",
     "text": [
      "c:\\Jibran Data\\LUMS\\Sem 7\\ATML\\PA1\\fast-style-transfer\\stylize_image.py:9: UserWarning: 'has_cuda' is deprecated, please use 'torch.backends.cuda.is_built()'\n",
      "  device = {torch.has_cuda: \"cuda\", torch.has_mps: \"mps\"}.get(True, \"cpu\")\n",
      "c:\\Jibran Data\\LUMS\\Sem 7\\ATML\\PA1\\fast-style-transfer\\stylize_image.py:9: UserWarning: 'has_mps' is deprecated, please use 'torch.backends.mps.is_built()'\n",
      "  device = {torch.has_cuda: \"cuda\", torch.has_mps: \"mps\"}.get(True, \"cpu\")\n"
     ]
    },
    {
     "name": "stdout",
     "output_type": "stream",
     "text": [
      "image saved successfully at styled_output.png\n"
     ]
    },
    {
     "name": "stderr",
     "output_type": "stream",
     "text": [
      "c:\\Jibran Data\\LUMS\\Sem 7\\ATML\\PA1\\fast-style-transfer\\stylize_image.py:9: UserWarning: 'has_cuda' is deprecated, please use 'torch.backends.cuda.is_built()'\n",
      "  device = {torch.has_cuda: \"cuda\", torch.has_mps: \"mps\"}.get(True, \"cpu\")\n",
      "c:\\Jibran Data\\LUMS\\Sem 7\\ATML\\PA1\\fast-style-transfer\\stylize_image.py:9: UserWarning: 'has_mps' is deprecated, please use 'torch.backends.mps.is_built()'\n",
      "  device = {torch.has_cuda: \"cuda\", torch.has_mps: \"mps\"}.get(True, \"cpu\")\n"
     ]
    },
    {
     "data": {
      "application/vnd.jupyter.widget-view+json": {
       "model_id": "c220dcd0664246018c128bc6968f572b",
       "version_major": 2,
       "version_minor": 0
      },
      "text/plain": [
       "Class 'horse':   0%|          | 0/10 [00:00<?, ?it/s]"
      ]
     },
     "metadata": {},
     "output_type": "display_data"
    },
    {
     "name": "stdout",
     "output_type": "stream",
     "text": [
      "image saved successfully at styled_output.png\n"
     ]
    },
    {
     "name": "stderr",
     "output_type": "stream",
     "text": [
      "c:\\Jibran Data\\LUMS\\Sem 7\\ATML\\PA1\\fast-style-transfer\\stylize_image.py:9: UserWarning: 'has_cuda' is deprecated, please use 'torch.backends.cuda.is_built()'\n",
      "  device = {torch.has_cuda: \"cuda\", torch.has_mps: \"mps\"}.get(True, \"cpu\")\n",
      "c:\\Jibran Data\\LUMS\\Sem 7\\ATML\\PA1\\fast-style-transfer\\stylize_image.py:9: UserWarning: 'has_mps' is deprecated, please use 'torch.backends.mps.is_built()'\n",
      "  device = {torch.has_cuda: \"cuda\", torch.has_mps: \"mps\"}.get(True, \"cpu\")\n"
     ]
    },
    {
     "name": "stdout",
     "output_type": "stream",
     "text": [
      "image saved successfully at styled_output.png\n"
     ]
    },
    {
     "name": "stderr",
     "output_type": "stream",
     "text": [
      "c:\\Jibran Data\\LUMS\\Sem 7\\ATML\\PA1\\fast-style-transfer\\stylize_image.py:9: UserWarning: 'has_cuda' is deprecated, please use 'torch.backends.cuda.is_built()'\n",
      "  device = {torch.has_cuda: \"cuda\", torch.has_mps: \"mps\"}.get(True, \"cpu\")\n",
      "c:\\Jibran Data\\LUMS\\Sem 7\\ATML\\PA1\\fast-style-transfer\\stylize_image.py:9: UserWarning: 'has_mps' is deprecated, please use 'torch.backends.mps.is_built()'\n",
      "  device = {torch.has_cuda: \"cuda\", torch.has_mps: \"mps\"}.get(True, \"cpu\")\n"
     ]
    },
    {
     "name": "stdout",
     "output_type": "stream",
     "text": [
      "image saved successfully at styled_output.png\n"
     ]
    },
    {
     "name": "stderr",
     "output_type": "stream",
     "text": [
      "c:\\Jibran Data\\LUMS\\Sem 7\\ATML\\PA1\\fast-style-transfer\\stylize_image.py:9: UserWarning: 'has_cuda' is deprecated, please use 'torch.backends.cuda.is_built()'\n",
      "  device = {torch.has_cuda: \"cuda\", torch.has_mps: \"mps\"}.get(True, \"cpu\")\n",
      "c:\\Jibran Data\\LUMS\\Sem 7\\ATML\\PA1\\fast-style-transfer\\stylize_image.py:9: UserWarning: 'has_mps' is deprecated, please use 'torch.backends.mps.is_built()'\n",
      "  device = {torch.has_cuda: \"cuda\", torch.has_mps: \"mps\"}.get(True, \"cpu\")\n"
     ]
    },
    {
     "name": "stdout",
     "output_type": "stream",
     "text": [
      "image saved successfully at styled_output.png\n"
     ]
    },
    {
     "name": "stderr",
     "output_type": "stream",
     "text": [
      "c:\\Jibran Data\\LUMS\\Sem 7\\ATML\\PA1\\fast-style-transfer\\stylize_image.py:9: UserWarning: 'has_cuda' is deprecated, please use 'torch.backends.cuda.is_built()'\n",
      "  device = {torch.has_cuda: \"cuda\", torch.has_mps: \"mps\"}.get(True, \"cpu\")\n",
      "c:\\Jibran Data\\LUMS\\Sem 7\\ATML\\PA1\\fast-style-transfer\\stylize_image.py:9: UserWarning: 'has_mps' is deprecated, please use 'torch.backends.mps.is_built()'\n",
      "  device = {torch.has_cuda: \"cuda\", torch.has_mps: \"mps\"}.get(True, \"cpu\")\n"
     ]
    },
    {
     "name": "stdout",
     "output_type": "stream",
     "text": [
      "image saved successfully at styled_output.png\n"
     ]
    },
    {
     "name": "stderr",
     "output_type": "stream",
     "text": [
      "c:\\Jibran Data\\LUMS\\Sem 7\\ATML\\PA1\\fast-style-transfer\\stylize_image.py:9: UserWarning: 'has_cuda' is deprecated, please use 'torch.backends.cuda.is_built()'\n",
      "  device = {torch.has_cuda: \"cuda\", torch.has_mps: \"mps\"}.get(True, \"cpu\")\n",
      "c:\\Jibran Data\\LUMS\\Sem 7\\ATML\\PA1\\fast-style-transfer\\stylize_image.py:9: UserWarning: 'has_mps' is deprecated, please use 'torch.backends.mps.is_built()'\n",
      "  device = {torch.has_cuda: \"cuda\", torch.has_mps: \"mps\"}.get(True, \"cpu\")\n"
     ]
    },
    {
     "name": "stdout",
     "output_type": "stream",
     "text": [
      "image saved successfully at styled_output.png"
     ]
    },
    {
     "name": "stderr",
     "output_type": "stream",
     "text": [
      "c:\\Jibran Data\\LUMS\\Sem 7\\ATML\\PA1\\fast-style-transfer\\stylize_image.py:9: UserWarning: 'has_cuda' is deprecated, please use 'torch.backends.cuda.is_built()'\n",
      "  device = {torch.has_cuda: \"cuda\", torch.has_mps: \"mps\"}.get(True, \"cpu\")\n",
      "c:\\Jibran Data\\LUMS\\Sem 7\\ATML\\PA1\\fast-style-transfer\\stylize_image.py:9: UserWarning: 'has_mps' is deprecated, please use 'torch.backends.mps.is_built()'\n",
      "  device = {torch.has_cuda: \"cuda\", torch.has_mps: \"mps\"}.get(True, \"cpu\")\n"
     ]
    },
    {
     "name": "stdout",
     "output_type": "stream",
     "text": [
      "\n",
      "image saved successfully at styled_output.png\n"
     ]
    },
    {
     "name": "stderr",
     "output_type": "stream",
     "text": [
      "c:\\Jibran Data\\LUMS\\Sem 7\\ATML\\PA1\\fast-style-transfer\\stylize_image.py:9: UserWarning: 'has_cuda' is deprecated, please use 'torch.backends.cuda.is_built()'\n",
      "  device = {torch.has_cuda: \"cuda\", torch.has_mps: \"mps\"}.get(True, \"cpu\")\n",
      "c:\\Jibran Data\\LUMS\\Sem 7\\ATML\\PA1\\fast-style-transfer\\stylize_image.py:9: UserWarning: 'has_mps' is deprecated, please use 'torch.backends.mps.is_built()'\n",
      "  device = {torch.has_cuda: \"cuda\", torch.has_mps: \"mps\"}.get(True, \"cpu\")\n"
     ]
    },
    {
     "name": "stdout",
     "output_type": "stream",
     "text": [
      "image saved successfully at styled_output.png\n"
     ]
    },
    {
     "name": "stderr",
     "output_type": "stream",
     "text": [
      "c:\\Jibran Data\\LUMS\\Sem 7\\ATML\\PA1\\fast-style-transfer\\stylize_image.py:9: UserWarning: 'has_cuda' is deprecated, please use 'torch.backends.cuda.is_built()'\n",
      "  device = {torch.has_cuda: \"cuda\", torch.has_mps: \"mps\"}.get(True, \"cpu\")\n",
      "c:\\Jibran Data\\LUMS\\Sem 7\\ATML\\PA1\\fast-style-transfer\\stylize_image.py:9: UserWarning: 'has_mps' is deprecated, please use 'torch.backends.mps.is_built()'\n",
      "  device = {torch.has_cuda: \"cuda\", torch.has_mps: \"mps\"}.get(True, \"cpu\")\n"
     ]
    },
    {
     "name": "stdout",
     "output_type": "stream",
     "text": [
      "image saved successfully at styled_output.png\n"
     ]
    },
    {
     "name": "stderr",
     "output_type": "stream",
     "text": [
      "c:\\Jibran Data\\LUMS\\Sem 7\\ATML\\PA1\\fast-style-transfer\\stylize_image.py:9: UserWarning: 'has_cuda' is deprecated, please use 'torch.backends.cuda.is_built()'\n",
      "  device = {torch.has_cuda: \"cuda\", torch.has_mps: \"mps\"}.get(True, \"cpu\")\n",
      "c:\\Jibran Data\\LUMS\\Sem 7\\ATML\\PA1\\fast-style-transfer\\stylize_image.py:9: UserWarning: 'has_mps' is deprecated, please use 'torch.backends.mps.is_built()'\n",
      "  device = {torch.has_cuda: \"cuda\", torch.has_mps: \"mps\"}.get(True, \"cpu\")\n"
     ]
    },
    {
     "name": "stdout",
     "output_type": "stream",
     "text": [
      "image saved successfully at styled_output.png\n"
     ]
    },
    {
     "name": "stderr",
     "output_type": "stream",
     "text": [
      "c:\\Jibran Data\\LUMS\\Sem 7\\ATML\\PA1\\fast-style-transfer\\stylize_image.py:9: UserWarning: 'has_cuda' is deprecated, please use 'torch.backends.cuda.is_built()'\n",
      "  device = {torch.has_cuda: \"cuda\", torch.has_mps: \"mps\"}.get(True, \"cpu\")\n",
      "c:\\Jibran Data\\LUMS\\Sem 7\\ATML\\PA1\\fast-style-transfer\\stylize_image.py:9: UserWarning: 'has_mps' is deprecated, please use 'torch.backends.mps.is_built()'\n",
      "  device = {torch.has_cuda: \"cuda\", torch.has_mps: \"mps\"}.get(True, \"cpu\")\n"
     ]
    },
    {
     "name": "stdout",
     "output_type": "stream",
     "text": [
      "image saved successfully at styled_output.png\n"
     ]
    },
    {
     "name": "stderr",
     "output_type": "stream",
     "text": [
      "c:\\Jibran Data\\LUMS\\Sem 7\\ATML\\PA1\\fast-style-transfer\\stylize_image.py:9: UserWarning: 'has_cuda' is deprecated, please use 'torch.backends.cuda.is_built()'\n",
      "  device = {torch.has_cuda: \"cuda\", torch.has_mps: \"mps\"}.get(True, \"cpu\")\n",
      "c:\\Jibran Data\\LUMS\\Sem 7\\ATML\\PA1\\fast-style-transfer\\stylize_image.py:9: UserWarning: 'has_mps' is deprecated, please use 'torch.backends.mps.is_built()'\n",
      "  device = {torch.has_cuda: \"cuda\", torch.has_mps: \"mps\"}.get(True, \"cpu\")\n"
     ]
    },
    {
     "name": "stdout",
     "output_type": "stream",
     "text": [
      "image saved successfully at styled_output.png\n"
     ]
    },
    {
     "name": "stderr",
     "output_type": "stream",
     "text": [
      "c:\\Jibran Data\\LUMS\\Sem 7\\ATML\\PA1\\fast-style-transfer\\stylize_image.py:9: UserWarning: 'has_cuda' is deprecated, please use 'torch.backends.cuda.is_built()'\n",
      "  device = {torch.has_cuda: \"cuda\", torch.has_mps: \"mps\"}.get(True, \"cpu\")\n",
      "c:\\Jibran Data\\LUMS\\Sem 7\\ATML\\PA1\\fast-style-transfer\\stylize_image.py:9: UserWarning: 'has_mps' is deprecated, please use 'torch.backends.mps.is_built()'\n",
      "  device = {torch.has_cuda: \"cuda\", torch.has_mps: \"mps\"}.get(True, \"cpu\")\n"
     ]
    },
    {
     "name": "stdout",
     "output_type": "stream",
     "text": [
      "image saved successfully at styled_output.png\n"
     ]
    },
    {
     "name": "stderr",
     "output_type": "stream",
     "text": [
      "c:\\Jibran Data\\LUMS\\Sem 7\\ATML\\PA1\\fast-style-transfer\\stylize_image.py:9: UserWarning: 'has_cuda' is deprecated, please use 'torch.backends.cuda.is_built()'\n",
      "  device = {torch.has_cuda: \"cuda\", torch.has_mps: \"mps\"}.get(True, \"cpu\")\n",
      "c:\\Jibran Data\\LUMS\\Sem 7\\ATML\\PA1\\fast-style-transfer\\stylize_image.py:9: UserWarning: 'has_mps' is deprecated, please use 'torch.backends.mps.is_built()'\n",
      "  device = {torch.has_cuda: \"cuda\", torch.has_mps: \"mps\"}.get(True, \"cpu\")\n"
     ]
    },
    {
     "name": "stdout",
     "output_type": "stream",
     "text": [
      "image saved successfully at styled_output.png\n"
     ]
    },
    {
     "name": "stderr",
     "output_type": "stream",
     "text": [
      "c:\\Jibran Data\\LUMS\\Sem 7\\ATML\\PA1\\fast-style-transfer\\stylize_image.py:9: UserWarning: 'has_cuda' is deprecated, please use 'torch.backends.cuda.is_built()'\n",
      "  device = {torch.has_cuda: \"cuda\", torch.has_mps: \"mps\"}.get(True, \"cpu\")\n",
      "c:\\Jibran Data\\LUMS\\Sem 7\\ATML\\PA1\\fast-style-transfer\\stylize_image.py:9: UserWarning: 'has_mps' is deprecated, please use 'torch.backends.mps.is_built()'\n",
      "  device = {torch.has_cuda: \"cuda\", torch.has_mps: \"mps\"}.get(True, \"cpu\")\n"
     ]
    },
    {
     "name": "stdout",
     "output_type": "stream",
     "text": [
      "image saved successfully at styled_output.png\n"
     ]
    },
    {
     "name": "stderr",
     "output_type": "stream",
     "text": [
      "c:\\Jibran Data\\LUMS\\Sem 7\\ATML\\PA1\\fast-style-transfer\\stylize_image.py:9: UserWarning: 'has_cuda' is deprecated, please use 'torch.backends.cuda.is_built()'\n",
      "  device = {torch.has_cuda: \"cuda\", torch.has_mps: \"mps\"}.get(True, \"cpu\")\n",
      "c:\\Jibran Data\\LUMS\\Sem 7\\ATML\\PA1\\fast-style-transfer\\stylize_image.py:9: UserWarning: 'has_mps' is deprecated, please use 'torch.backends.mps.is_built()'\n",
      "  device = {torch.has_cuda: \"cuda\", torch.has_mps: \"mps\"}.get(True, \"cpu\")\n"
     ]
    },
    {
     "name": "stdout",
     "output_type": "stream",
     "text": [
      "image saved successfully at styled_output.png\n"
     ]
    },
    {
     "name": "stderr",
     "output_type": "stream",
     "text": [
      "c:\\Jibran Data\\LUMS\\Sem 7\\ATML\\PA1\\fast-style-transfer\\stylize_image.py:9: UserWarning: 'has_cuda' is deprecated, please use 'torch.backends.cuda.is_built()'\n",
      "  device = {torch.has_cuda: \"cuda\", torch.has_mps: \"mps\"}.get(True, \"cpu\")\n",
      "c:\\Jibran Data\\LUMS\\Sem 7\\ATML\\PA1\\fast-style-transfer\\stylize_image.py:9: UserWarning: 'has_mps' is deprecated, please use 'torch.backends.mps.is_built()'\n",
      "  device = {torch.has_cuda: \"cuda\", torch.has_mps: \"mps\"}.get(True, \"cpu\")\n"
     ]
    },
    {
     "name": "stdout",
     "output_type": "stream",
     "text": [
      "image saved successfully at styled_output.png\n"
     ]
    },
    {
     "name": "stderr",
     "output_type": "stream",
     "text": [
      "c:\\Jibran Data\\LUMS\\Sem 7\\ATML\\PA1\\fast-style-transfer\\stylize_image.py:9: UserWarning: 'has_cuda' is deprecated, please use 'torch.backends.cuda.is_built()'\n",
      "  device = {torch.has_cuda: \"cuda\", torch.has_mps: \"mps\"}.get(True, \"cpu\")\n",
      "c:\\Jibran Data\\LUMS\\Sem 7\\ATML\\PA1\\fast-style-transfer\\stylize_image.py:9: UserWarning: 'has_mps' is deprecated, please use 'torch.backends.mps.is_built()'\n",
      "  device = {torch.has_cuda: \"cuda\", torch.has_mps: \"mps\"}.get(True, \"cpu\")\n"
     ]
    },
    {
     "name": "stdout",
     "output_type": "stream",
     "text": [
      "image saved successfully at styled_output.png\n"
     ]
    },
    {
     "name": "stderr",
     "output_type": "stream",
     "text": [
      "c:\\Jibran Data\\LUMS\\Sem 7\\ATML\\PA1\\fast-style-transfer\\stylize_image.py:9: UserWarning: 'has_cuda' is deprecated, please use 'torch.backends.cuda.is_built()'\n",
      "  device = {torch.has_cuda: \"cuda\", torch.has_mps: \"mps\"}.get(True, \"cpu\")\n",
      "c:\\Jibran Data\\LUMS\\Sem 7\\ATML\\PA1\\fast-style-transfer\\stylize_image.py:9: UserWarning: 'has_mps' is deprecated, please use 'torch.backends.mps.is_built()'\n",
      "  device = {torch.has_cuda: \"cuda\", torch.has_mps: \"mps\"}.get(True, \"cpu\")\n"
     ]
    },
    {
     "name": "stdout",
     "output_type": "stream",
     "text": [
      "image saved successfully at styled_output.png\n"
     ]
    },
    {
     "name": "stderr",
     "output_type": "stream",
     "text": [
      "c:\\Jibran Data\\LUMS\\Sem 7\\ATML\\PA1\\fast-style-transfer\\stylize_image.py:9: UserWarning: 'has_cuda' is deprecated, please use 'torch.backends.cuda.is_built()'\n",
      "  device = {torch.has_cuda: \"cuda\", torch.has_mps: \"mps\"}.get(True, \"cpu\")\n",
      "c:\\Jibran Data\\LUMS\\Sem 7\\ATML\\PA1\\fast-style-transfer\\stylize_image.py:9: UserWarning: 'has_mps' is deprecated, please use 'torch.backends.mps.is_built()'\n",
      "  device = {torch.has_cuda: \"cuda\", torch.has_mps: \"mps\"}.get(True, \"cpu\")\n"
     ]
    },
    {
     "name": "stdout",
     "output_type": "stream",
     "text": [
      "image saved successfully at styled_output.png\n"
     ]
    },
    {
     "name": "stderr",
     "output_type": "stream",
     "text": [
      "c:\\Jibran Data\\LUMS\\Sem 7\\ATML\\PA1\\fast-style-transfer\\stylize_image.py:9: UserWarning: 'has_cuda' is deprecated, please use 'torch.backends.cuda.is_built()'\n",
      "  device = {torch.has_cuda: \"cuda\", torch.has_mps: \"mps\"}.get(True, \"cpu\")\n",
      "c:\\Jibran Data\\LUMS\\Sem 7\\ATML\\PA1\\fast-style-transfer\\stylize_image.py:9: UserWarning: 'has_mps' is deprecated, please use 'torch.backends.mps.is_built()'\n",
      "  device = {torch.has_cuda: \"cuda\", torch.has_mps: \"mps\"}.get(True, \"cpu\")\n"
     ]
    },
    {
     "name": "stdout",
     "output_type": "stream",
     "text": [
      "image saved successfully at styled_output.png\n"
     ]
    },
    {
     "name": "stderr",
     "output_type": "stream",
     "text": [
      "c:\\Jibran Data\\LUMS\\Sem 7\\ATML\\PA1\\fast-style-transfer\\stylize_image.py:9: UserWarning: 'has_cuda' is deprecated, please use 'torch.backends.cuda.is_built()'\n",
      "  device = {torch.has_cuda: \"cuda\", torch.has_mps: \"mps\"}.get(True, \"cpu\")\n",
      "c:\\Jibran Data\\LUMS\\Sem 7\\ATML\\PA1\\fast-style-transfer\\stylize_image.py:9: UserWarning: 'has_mps' is deprecated, please use 'torch.backends.mps.is_built()'\n",
      "  device = {torch.has_cuda: \"cuda\", torch.has_mps: \"mps\"}.get(True, \"cpu\")\n"
     ]
    },
    {
     "name": "stdout",
     "output_type": "stream",
     "text": [
      "image saved successfully at styled_output.png\n"
     ]
    },
    {
     "name": "stderr",
     "output_type": "stream",
     "text": [
      "c:\\Jibran Data\\LUMS\\Sem 7\\ATML\\PA1\\fast-style-transfer\\stylize_image.py:9: UserWarning: 'has_cuda' is deprecated, please use 'torch.backends.cuda.is_built()'\n",
      "  device = {torch.has_cuda: \"cuda\", torch.has_mps: \"mps\"}.get(True, \"cpu\")\n",
      "c:\\Jibran Data\\LUMS\\Sem 7\\ATML\\PA1\\fast-style-transfer\\stylize_image.py:9: UserWarning: 'has_mps' is deprecated, please use 'torch.backends.mps.is_built()'\n",
      "  device = {torch.has_cuda: \"cuda\", torch.has_mps: \"mps\"}.get(True, \"cpu\")\n"
     ]
    },
    {
     "name": "stdout",
     "output_type": "stream",
     "text": [
      "image saved successfully at styled_output.png\n"
     ]
    },
    {
     "name": "stderr",
     "output_type": "stream",
     "text": [
      "c:\\Jibran Data\\LUMS\\Sem 7\\ATML\\PA1\\fast-style-transfer\\stylize_image.py:9: UserWarning: 'has_cuda' is deprecated, please use 'torch.backends.cuda.is_built()'\n",
      "  device = {torch.has_cuda: \"cuda\", torch.has_mps: \"mps\"}.get(True, \"cpu\")\n",
      "c:\\Jibran Data\\LUMS\\Sem 7\\ATML\\PA1\\fast-style-transfer\\stylize_image.py:9: UserWarning: 'has_mps' is deprecated, please use 'torch.backends.mps.is_built()'\n",
      "  device = {torch.has_cuda: \"cuda\", torch.has_mps: \"mps\"}.get(True, \"cpu\")\n"
     ]
    },
    {
     "name": "stdout",
     "output_type": "stream",
     "text": [
      "image saved successfully at styled_output.png\n"
     ]
    },
    {
     "name": "stderr",
     "output_type": "stream",
     "text": [
      "c:\\Jibran Data\\LUMS\\Sem 7\\ATML\\PA1\\fast-style-transfer\\stylize_image.py:9: UserWarning: 'has_cuda' is deprecated, please use 'torch.backends.cuda.is_built()'\n",
      "  device = {torch.has_cuda: \"cuda\", torch.has_mps: \"mps\"}.get(True, \"cpu\")\n",
      "c:\\Jibran Data\\LUMS\\Sem 7\\ATML\\PA1\\fast-style-transfer\\stylize_image.py:9: UserWarning: 'has_mps' is deprecated, please use 'torch.backends.mps.is_built()'\n",
      "  device = {torch.has_cuda: \"cuda\", torch.has_mps: \"mps\"}.get(True, \"cpu\")\n"
     ]
    },
    {
     "name": "stdout",
     "output_type": "stream",
     "text": [
      "image saved successfully at styled_output.png\n"
     ]
    },
    {
     "name": "stderr",
     "output_type": "stream",
     "text": [
      "c:\\Jibran Data\\LUMS\\Sem 7\\ATML\\PA1\\fast-style-transfer\\stylize_image.py:9: UserWarning: 'has_cuda' is deprecated, please use 'torch.backends.cuda.is_built()'\n",
      "  device = {torch.has_cuda: \"cuda\", torch.has_mps: \"mps\"}.get(True, \"cpu\")\n",
      "c:\\Jibran Data\\LUMS\\Sem 7\\ATML\\PA1\\fast-style-transfer\\stylize_image.py:9: UserWarning: 'has_mps' is deprecated, please use 'torch.backends.mps.is_built()'\n",
      "  device = {torch.has_cuda: \"cuda\", torch.has_mps: \"mps\"}.get(True, \"cpu\")\n"
     ]
    },
    {
     "name": "stdout",
     "output_type": "stream",
     "text": [
      "image saved successfully at styled_output.png\n"
     ]
    },
    {
     "name": "stderr",
     "output_type": "stream",
     "text": [
      "c:\\Jibran Data\\LUMS\\Sem 7\\ATML\\PA1\\fast-style-transfer\\stylize_image.py:9: UserWarning: 'has_cuda' is deprecated, please use 'torch.backends.cuda.is_built()'\n",
      "  device = {torch.has_cuda: \"cuda\", torch.has_mps: \"mps\"}.get(True, \"cpu\")\n",
      "c:\\Jibran Data\\LUMS\\Sem 7\\ATML\\PA1\\fast-style-transfer\\stylize_image.py:9: UserWarning: 'has_mps' is deprecated, please use 'torch.backends.mps.is_built()'\n",
      "  device = {torch.has_cuda: \"cuda\", torch.has_mps: \"mps\"}.get(True, \"cpu\")\n"
     ]
    },
    {
     "name": "stdout",
     "output_type": "stream",
     "text": [
      "image saved successfully at styled_output.png\n"
     ]
    },
    {
     "name": "stderr",
     "output_type": "stream",
     "text": [
      "c:\\Jibran Data\\LUMS\\Sem 7\\ATML\\PA1\\fast-style-transfer\\stylize_image.py:9: UserWarning: 'has_cuda' is deprecated, please use 'torch.backends.cuda.is_built()'\n",
      "  device = {torch.has_cuda: \"cuda\", torch.has_mps: \"mps\"}.get(True, \"cpu\")\n",
      "c:\\Jibran Data\\LUMS\\Sem 7\\ATML\\PA1\\fast-style-transfer\\stylize_image.py:9: UserWarning: 'has_mps' is deprecated, please use 'torch.backends.mps.is_built()'\n",
      "  device = {torch.has_cuda: \"cuda\", torch.has_mps: \"mps\"}.get(True, \"cpu\")\n"
     ]
    },
    {
     "name": "stdout",
     "output_type": "stream",
     "text": [
      "image saved successfully at styled_output.png\n"
     ]
    },
    {
     "name": "stderr",
     "output_type": "stream",
     "text": [
      "c:\\Jibran Data\\LUMS\\Sem 7\\ATML\\PA1\\fast-style-transfer\\stylize_image.py:9: UserWarning: 'has_cuda' is deprecated, please use 'torch.backends.cuda.is_built()'\n",
      "  device = {torch.has_cuda: \"cuda\", torch.has_mps: \"mps\"}.get(True, \"cpu\")\n",
      "c:\\Jibran Data\\LUMS\\Sem 7\\ATML\\PA1\\fast-style-transfer\\stylize_image.py:9: UserWarning: 'has_mps' is deprecated, please use 'torch.backends.mps.is_built()'\n",
      "  device = {torch.has_cuda: \"cuda\", torch.has_mps: \"mps\"}.get(True, \"cpu\")\n"
     ]
    },
    {
     "name": "stdout",
     "output_type": "stream",
     "text": [
      "image saved successfully at styled_output.png\n"
     ]
    },
    {
     "name": "stderr",
     "output_type": "stream",
     "text": [
      "c:\\Jibran Data\\LUMS\\Sem 7\\ATML\\PA1\\fast-style-transfer\\stylize_image.py:9: UserWarning: 'has_cuda' is deprecated, please use 'torch.backends.cuda.is_built()'\n",
      "  device = {torch.has_cuda: \"cuda\", torch.has_mps: \"mps\"}.get(True, \"cpu\")\n",
      "c:\\Jibran Data\\LUMS\\Sem 7\\ATML\\PA1\\fast-style-transfer\\stylize_image.py:9: UserWarning: 'has_mps' is deprecated, please use 'torch.backends.mps.is_built()'\n",
      "  device = {torch.has_cuda: \"cuda\", torch.has_mps: \"mps\"}.get(True, \"cpu\")\n"
     ]
    },
    {
     "name": "stdout",
     "output_type": "stream",
     "text": [
      "image saved successfully at styled_output.png\n"
     ]
    },
    {
     "name": "stderr",
     "output_type": "stream",
     "text": [
      "c:\\Jibran Data\\LUMS\\Sem 7\\ATML\\PA1\\fast-style-transfer\\stylize_image.py:9: UserWarning: 'has_cuda' is deprecated, please use 'torch.backends.cuda.is_built()'\n",
      "  device = {torch.has_cuda: \"cuda\", torch.has_mps: \"mps\"}.get(True, \"cpu\")\n",
      "c:\\Jibran Data\\LUMS\\Sem 7\\ATML\\PA1\\fast-style-transfer\\stylize_image.py:9: UserWarning: 'has_mps' is deprecated, please use 'torch.backends.mps.is_built()'\n",
      "  device = {torch.has_cuda: \"cuda\", torch.has_mps: \"mps\"}.get(True, \"cpu\")\n"
     ]
    },
    {
     "name": "stdout",
     "output_type": "stream",
     "text": [
      "image saved successfully at styled_output.png\n"
     ]
    },
    {
     "name": "stderr",
     "output_type": "stream",
     "text": [
      "c:\\Jibran Data\\LUMS\\Sem 7\\ATML\\PA1\\fast-style-transfer\\stylize_image.py:9: UserWarning: 'has_cuda' is deprecated, please use 'torch.backends.cuda.is_built()'\n",
      "  device = {torch.has_cuda: \"cuda\", torch.has_mps: \"mps\"}.get(True, \"cpu\")\n",
      "c:\\Jibran Data\\LUMS\\Sem 7\\ATML\\PA1\\fast-style-transfer\\stylize_image.py:9: UserWarning: 'has_mps' is deprecated, please use 'torch.backends.mps.is_built()'\n",
      "  device = {torch.has_cuda: \"cuda\", torch.has_mps: \"mps\"}.get(True, \"cpu\")\n"
     ]
    },
    {
     "name": "stdout",
     "output_type": "stream",
     "text": [
      "image saved successfully at styled_output.png\n"
     ]
    },
    {
     "name": "stderr",
     "output_type": "stream",
     "text": [
      "c:\\Jibran Data\\LUMS\\Sem 7\\ATML\\PA1\\fast-style-transfer\\stylize_image.py:9: UserWarning: 'has_cuda' is deprecated, please use 'torch.backends.cuda.is_built()'\n",
      "  device = {torch.has_cuda: \"cuda\", torch.has_mps: \"mps\"}.get(True, \"cpu\")\n",
      "c:\\Jibran Data\\LUMS\\Sem 7\\ATML\\PA1\\fast-style-transfer\\stylize_image.py:9: UserWarning: 'has_mps' is deprecated, please use 'torch.backends.mps.is_built()'\n",
      "  device = {torch.has_cuda: \"cuda\", torch.has_mps: \"mps\"}.get(True, \"cpu\")\n"
     ]
    },
    {
     "name": "stdout",
     "output_type": "stream",
     "text": [
      "image saved successfully at styled_output.png\n"
     ]
    },
    {
     "name": "stderr",
     "output_type": "stream",
     "text": [
      "c:\\Jibran Data\\LUMS\\Sem 7\\ATML\\PA1\\fast-style-transfer\\stylize_image.py:9: UserWarning: 'has_cuda' is deprecated, please use 'torch.backends.cuda.is_built()'\n",
      "  device = {torch.has_cuda: \"cuda\", torch.has_mps: \"mps\"}.get(True, \"cpu\")\n",
      "c:\\Jibran Data\\LUMS\\Sem 7\\ATML\\PA1\\fast-style-transfer\\stylize_image.py:9: UserWarning: 'has_mps' is deprecated, please use 'torch.backends.mps.is_built()'\n",
      "  device = {torch.has_cuda: \"cuda\", torch.has_mps: \"mps\"}.get(True, \"cpu\")\n"
     ]
    },
    {
     "name": "stdout",
     "output_type": "stream",
     "text": [
      "image saved successfully at styled_output.png\n"
     ]
    },
    {
     "name": "stderr",
     "output_type": "stream",
     "text": [
      "c:\\Jibran Data\\LUMS\\Sem 7\\ATML\\PA1\\fast-style-transfer\\stylize_image.py:9: UserWarning: 'has_cuda' is deprecated, please use 'torch.backends.cuda.is_built()'\n",
      "  device = {torch.has_cuda: \"cuda\", torch.has_mps: \"mps\"}.get(True, \"cpu\")\n",
      "c:\\Jibran Data\\LUMS\\Sem 7\\ATML\\PA1\\fast-style-transfer\\stylize_image.py:9: UserWarning: 'has_mps' is deprecated, please use 'torch.backends.mps.is_built()'\n",
      "  device = {torch.has_cuda: \"cuda\", torch.has_mps: \"mps\"}.get(True, \"cpu\")\n"
     ]
    },
    {
     "name": "stdout",
     "output_type": "stream",
     "text": [
      "image saved successfully at styled_output.png\n"
     ]
    },
    {
     "name": "stderr",
     "output_type": "stream",
     "text": [
      "c:\\Jibran Data\\LUMS\\Sem 7\\ATML\\PA1\\fast-style-transfer\\stylize_image.py:9: UserWarning: 'has_cuda' is deprecated, please use 'torch.backends.cuda.is_built()'\n",
      "  device = {torch.has_cuda: \"cuda\", torch.has_mps: \"mps\"}.get(True, \"cpu\")\n",
      "c:\\Jibran Data\\LUMS\\Sem 7\\ATML\\PA1\\fast-style-transfer\\stylize_image.py:9: UserWarning: 'has_mps' is deprecated, please use 'torch.backends.mps.is_built()'\n",
      "  device = {torch.has_cuda: \"cuda\", torch.has_mps: \"mps\"}.get(True, \"cpu\")\n"
     ]
    },
    {
     "name": "stdout",
     "output_type": "stream",
     "text": [
      "image saved successfully at styled_output.png\n"
     ]
    },
    {
     "name": "stderr",
     "output_type": "stream",
     "text": [
      "c:\\Jibran Data\\LUMS\\Sem 7\\ATML\\PA1\\fast-style-transfer\\stylize_image.py:9: UserWarning: 'has_cuda' is deprecated, please use 'torch.backends.cuda.is_built()'\n",
      "  device = {torch.has_cuda: \"cuda\", torch.has_mps: \"mps\"}.get(True, \"cpu\")\n",
      "c:\\Jibran Data\\LUMS\\Sem 7\\ATML\\PA1\\fast-style-transfer\\stylize_image.py:9: UserWarning: 'has_mps' is deprecated, please use 'torch.backends.mps.is_built()'\n",
      "  device = {torch.has_cuda: \"cuda\", torch.has_mps: \"mps\"}.get(True, \"cpu\")\n"
     ]
    },
    {
     "name": "stdout",
     "output_type": "stream",
     "text": [
      "image saved successfully at styled_output.png\n"
     ]
    },
    {
     "name": "stderr",
     "output_type": "stream",
     "text": [
      "c:\\Jibran Data\\LUMS\\Sem 7\\ATML\\PA1\\fast-style-transfer\\stylize_image.py:9: UserWarning: 'has_cuda' is deprecated, please use 'torch.backends.cuda.is_built()'\n",
      "  device = {torch.has_cuda: \"cuda\", torch.has_mps: \"mps\"}.get(True, \"cpu\")\n",
      "c:\\Jibran Data\\LUMS\\Sem 7\\ATML\\PA1\\fast-style-transfer\\stylize_image.py:9: UserWarning: 'has_mps' is deprecated, please use 'torch.backends.mps.is_built()'\n",
      "  device = {torch.has_cuda: \"cuda\", torch.has_mps: \"mps\"}.get(True, \"cpu\")\n"
     ]
    },
    {
     "name": "stdout",
     "output_type": "stream",
     "text": [
      "image saved successfully at styled_output.png\n"
     ]
    },
    {
     "name": "stderr",
     "output_type": "stream",
     "text": [
      "c:\\Jibran Data\\LUMS\\Sem 7\\ATML\\PA1\\fast-style-transfer\\stylize_image.py:9: UserWarning: 'has_cuda' is deprecated, please use 'torch.backends.cuda.is_built()'\n",
      "  device = {torch.has_cuda: \"cuda\", torch.has_mps: \"mps\"}.get(True, \"cpu\")\n",
      "c:\\Jibran Data\\LUMS\\Sem 7\\ATML\\PA1\\fast-style-transfer\\stylize_image.py:9: UserWarning: 'has_mps' is deprecated, please use 'torch.backends.mps.is_built()'\n",
      "  device = {torch.has_cuda: \"cuda\", torch.has_mps: \"mps\"}.get(True, \"cpu\")\n"
     ]
    },
    {
     "name": "stdout",
     "output_type": "stream",
     "text": [
      "image saved successfully at styled_output.png\n"
     ]
    },
    {
     "name": "stderr",
     "output_type": "stream",
     "text": [
      "c:\\Jibran Data\\LUMS\\Sem 7\\ATML\\PA1\\fast-style-transfer\\stylize_image.py:9: UserWarning: 'has_cuda' is deprecated, please use 'torch.backends.cuda.is_built()'\n",
      "  device = {torch.has_cuda: \"cuda\", torch.has_mps: \"mps\"}.get(True, \"cpu\")\n",
      "c:\\Jibran Data\\LUMS\\Sem 7\\ATML\\PA1\\fast-style-transfer\\stylize_image.py:9: UserWarning: 'has_mps' is deprecated, please use 'torch.backends.mps.is_built()'\n",
      "  device = {torch.has_cuda: \"cuda\", torch.has_mps: \"mps\"}.get(True, \"cpu\")\n"
     ]
    },
    {
     "name": "stdout",
     "output_type": "stream",
     "text": [
      "image saved successfully at styled_output.png\n"
     ]
    },
    {
     "name": "stderr",
     "output_type": "stream",
     "text": [
      "c:\\Jibran Data\\LUMS\\Sem 7\\ATML\\PA1\\fast-style-transfer\\stylize_image.py:9: UserWarning: 'has_cuda' is deprecated, please use 'torch.backends.cuda.is_built()'\n",
      "  device = {torch.has_cuda: \"cuda\", torch.has_mps: \"mps\"}.get(True, \"cpu\")\n",
      "c:\\Jibran Data\\LUMS\\Sem 7\\ATML\\PA1\\fast-style-transfer\\stylize_image.py:9: UserWarning: 'has_mps' is deprecated, please use 'torch.backends.mps.is_built()'\n",
      "  device = {torch.has_cuda: \"cuda\", torch.has_mps: \"mps\"}.get(True, \"cpu\")\n"
     ]
    },
    {
     "data": {
      "application/vnd.jupyter.widget-view+json": {
       "model_id": "c642eaff7f8543cba602c07fb54e1905",
       "version_major": 2,
       "version_minor": 0
      },
      "text/plain": [
       "Class 'monkey':   0%|          | 0/10 [00:00<?, ?it/s]"
      ]
     },
     "metadata": {},
     "output_type": "display_data"
    },
    {
     "name": "stdout",
     "output_type": "stream",
     "text": [
      "image saved successfully at styled_output.png\n"
     ]
    },
    {
     "name": "stderr",
     "output_type": "stream",
     "text": [
      "c:\\Jibran Data\\LUMS\\Sem 7\\ATML\\PA1\\fast-style-transfer\\stylize_image.py:9: UserWarning: 'has_cuda' is deprecated, please use 'torch.backends.cuda.is_built()'\n",
      "  device = {torch.has_cuda: \"cuda\", torch.has_mps: \"mps\"}.get(True, \"cpu\")\n",
      "c:\\Jibran Data\\LUMS\\Sem 7\\ATML\\PA1\\fast-style-transfer\\stylize_image.py:9: UserWarning: 'has_mps' is deprecated, please use 'torch.backends.mps.is_built()'\n",
      "  device = {torch.has_cuda: \"cuda\", torch.has_mps: \"mps\"}.get(True, \"cpu\")\n"
     ]
    },
    {
     "name": "stdout",
     "output_type": "stream",
     "text": [
      "image saved successfully at styled_output.png\n"
     ]
    },
    {
     "name": "stderr",
     "output_type": "stream",
     "text": [
      "c:\\Jibran Data\\LUMS\\Sem 7\\ATML\\PA1\\fast-style-transfer\\stylize_image.py:9: UserWarning: 'has_cuda' is deprecated, please use 'torch.backends.cuda.is_built()'\n",
      "  device = {torch.has_cuda: \"cuda\", torch.has_mps: \"mps\"}.get(True, \"cpu\")\n",
      "c:\\Jibran Data\\LUMS\\Sem 7\\ATML\\PA1\\fast-style-transfer\\stylize_image.py:9: UserWarning: 'has_mps' is deprecated, please use 'torch.backends.mps.is_built()'\n",
      "  device = {torch.has_cuda: \"cuda\", torch.has_mps: \"mps\"}.get(True, \"cpu\")\n"
     ]
    },
    {
     "name": "stdout",
     "output_type": "stream",
     "text": [
      "image saved successfully at styled_output.png\n"
     ]
    },
    {
     "name": "stderr",
     "output_type": "stream",
     "text": [
      "c:\\Jibran Data\\LUMS\\Sem 7\\ATML\\PA1\\fast-style-transfer\\stylize_image.py:9: UserWarning: 'has_cuda' is deprecated, please use 'torch.backends.cuda.is_built()'\n",
      "  device = {torch.has_cuda: \"cuda\", torch.has_mps: \"mps\"}.get(True, \"cpu\")\n",
      "c:\\Jibran Data\\LUMS\\Sem 7\\ATML\\PA1\\fast-style-transfer\\stylize_image.py:9: UserWarning: 'has_mps' is deprecated, please use 'torch.backends.mps.is_built()'\n",
      "  device = {torch.has_cuda: \"cuda\", torch.has_mps: \"mps\"}.get(True, \"cpu\")\n"
     ]
    },
    {
     "name": "stdout",
     "output_type": "stream",
     "text": [
      "image saved successfully at styled_output.png\n"
     ]
    },
    {
     "name": "stderr",
     "output_type": "stream",
     "text": [
      "c:\\Jibran Data\\LUMS\\Sem 7\\ATML\\PA1\\fast-style-transfer\\stylize_image.py:9: UserWarning: 'has_cuda' is deprecated, please use 'torch.backends.cuda.is_built()'\n",
      "  device = {torch.has_cuda: \"cuda\", torch.has_mps: \"mps\"}.get(True, \"cpu\")\n",
      "c:\\Jibran Data\\LUMS\\Sem 7\\ATML\\PA1\\fast-style-transfer\\stylize_image.py:9: UserWarning: 'has_mps' is deprecated, please use 'torch.backends.mps.is_built()'\n",
      "  device = {torch.has_cuda: \"cuda\", torch.has_mps: \"mps\"}.get(True, \"cpu\")\n"
     ]
    },
    {
     "name": "stdout",
     "output_type": "stream",
     "text": [
      "image saved successfully at styled_output.png\n"
     ]
    },
    {
     "name": "stderr",
     "output_type": "stream",
     "text": [
      "c:\\Jibran Data\\LUMS\\Sem 7\\ATML\\PA1\\fast-style-transfer\\stylize_image.py:9: UserWarning: 'has_cuda' is deprecated, please use 'torch.backends.cuda.is_built()'\n",
      "  device = {torch.has_cuda: \"cuda\", torch.has_mps: \"mps\"}.get(True, \"cpu\")\n",
      "c:\\Jibran Data\\LUMS\\Sem 7\\ATML\\PA1\\fast-style-transfer\\stylize_image.py:9: UserWarning: 'has_mps' is deprecated, please use 'torch.backends.mps.is_built()'\n",
      "  device = {torch.has_cuda: \"cuda\", torch.has_mps: \"mps\"}.get(True, \"cpu\")\n"
     ]
    },
    {
     "name": "stdout",
     "output_type": "stream",
     "text": [
      "image saved successfully at styled_output.png\n"
     ]
    },
    {
     "name": "stderr",
     "output_type": "stream",
     "text": [
      "c:\\Jibran Data\\LUMS\\Sem 7\\ATML\\PA1\\fast-style-transfer\\stylize_image.py:9: UserWarning: 'has_cuda' is deprecated, please use 'torch.backends.cuda.is_built()'\n",
      "  device = {torch.has_cuda: \"cuda\", torch.has_mps: \"mps\"}.get(True, \"cpu\")\n",
      "c:\\Jibran Data\\LUMS\\Sem 7\\ATML\\PA1\\fast-style-transfer\\stylize_image.py:9: UserWarning: 'has_mps' is deprecated, please use 'torch.backends.mps.is_built()'\n",
      "  device = {torch.has_cuda: \"cuda\", torch.has_mps: \"mps\"}.get(True, \"cpu\")\n"
     ]
    },
    {
     "name": "stdout",
     "output_type": "stream",
     "text": [
      "image saved successfully at styled_output.png\n"
     ]
    },
    {
     "name": "stderr",
     "output_type": "stream",
     "text": [
      "c:\\Jibran Data\\LUMS\\Sem 7\\ATML\\PA1\\fast-style-transfer\\stylize_image.py:9: UserWarning: 'has_cuda' is deprecated, please use 'torch.backends.cuda.is_built()'\n",
      "  device = {torch.has_cuda: \"cuda\", torch.has_mps: \"mps\"}.get(True, \"cpu\")\n",
      "c:\\Jibran Data\\LUMS\\Sem 7\\ATML\\PA1\\fast-style-transfer\\stylize_image.py:9: UserWarning: 'has_mps' is deprecated, please use 'torch.backends.mps.is_built()'\n",
      "  device = {torch.has_cuda: \"cuda\", torch.has_mps: \"mps\"}.get(True, \"cpu\")\n"
     ]
    },
    {
     "name": "stdout",
     "output_type": "stream",
     "text": [
      "image saved successfully at styled_output.png\n"
     ]
    },
    {
     "name": "stderr",
     "output_type": "stream",
     "text": [
      "c:\\Jibran Data\\LUMS\\Sem 7\\ATML\\PA1\\fast-style-transfer\\stylize_image.py:9: UserWarning: 'has_cuda' is deprecated, please use 'torch.backends.cuda.is_built()'\n",
      "  device = {torch.has_cuda: \"cuda\", torch.has_mps: \"mps\"}.get(True, \"cpu\")\n",
      "c:\\Jibran Data\\LUMS\\Sem 7\\ATML\\PA1\\fast-style-transfer\\stylize_image.py:9: UserWarning: 'has_mps' is deprecated, please use 'torch.backends.mps.is_built()'\n",
      "  device = {torch.has_cuda: \"cuda\", torch.has_mps: \"mps\"}.get(True, \"cpu\")\n"
     ]
    },
    {
     "name": "stdout",
     "output_type": "stream",
     "text": [
      "image saved successfully at styled_output.png\n"
     ]
    },
    {
     "name": "stderr",
     "output_type": "stream",
     "text": [
      "c:\\Jibran Data\\LUMS\\Sem 7\\ATML\\PA1\\fast-style-transfer\\stylize_image.py:9: UserWarning: 'has_cuda' is deprecated, please use 'torch.backends.cuda.is_built()'\n",
      "  device = {torch.has_cuda: \"cuda\", torch.has_mps: \"mps\"}.get(True, \"cpu\")\n",
      "c:\\Jibran Data\\LUMS\\Sem 7\\ATML\\PA1\\fast-style-transfer\\stylize_image.py:9: UserWarning: 'has_mps' is deprecated, please use 'torch.backends.mps.is_built()'\n",
      "  device = {torch.has_cuda: \"cuda\", torch.has_mps: \"mps\"}.get(True, \"cpu\")\n"
     ]
    },
    {
     "name": "stdout",
     "output_type": "stream",
     "text": [
      "image saved successfully at styled_output.png\n"
     ]
    },
    {
     "name": "stderr",
     "output_type": "stream",
     "text": [
      "c:\\Jibran Data\\LUMS\\Sem 7\\ATML\\PA1\\fast-style-transfer\\stylize_image.py:9: UserWarning: 'has_cuda' is deprecated, please use 'torch.backends.cuda.is_built()'\n",
      "  device = {torch.has_cuda: \"cuda\", torch.has_mps: \"mps\"}.get(True, \"cpu\")\n",
      "c:\\Jibran Data\\LUMS\\Sem 7\\ATML\\PA1\\fast-style-transfer\\stylize_image.py:9: UserWarning: 'has_mps' is deprecated, please use 'torch.backends.mps.is_built()'\n",
      "  device = {torch.has_cuda: \"cuda\", torch.has_mps: \"mps\"}.get(True, \"cpu\")\n"
     ]
    },
    {
     "name": "stdout",
     "output_type": "stream",
     "text": [
      "image saved successfully at styled_output.png\n"
     ]
    },
    {
     "name": "stderr",
     "output_type": "stream",
     "text": [
      "c:\\Jibran Data\\LUMS\\Sem 7\\ATML\\PA1\\fast-style-transfer\\stylize_image.py:9: UserWarning: 'has_cuda' is deprecated, please use 'torch.backends.cuda.is_built()'\n",
      "  device = {torch.has_cuda: \"cuda\", torch.has_mps: \"mps\"}.get(True, \"cpu\")\n",
      "c:\\Jibran Data\\LUMS\\Sem 7\\ATML\\PA1\\fast-style-transfer\\stylize_image.py:9: UserWarning: 'has_mps' is deprecated, please use 'torch.backends.mps.is_built()'\n",
      "  device = {torch.has_cuda: \"cuda\", torch.has_mps: \"mps\"}.get(True, \"cpu\")\n"
     ]
    },
    {
     "name": "stdout",
     "output_type": "stream",
     "text": [
      "image saved successfully at styled_output.png\n"
     ]
    },
    {
     "name": "stderr",
     "output_type": "stream",
     "text": [
      "c:\\Jibran Data\\LUMS\\Sem 7\\ATML\\PA1\\fast-style-transfer\\stylize_image.py:9: UserWarning: 'has_cuda' is deprecated, please use 'torch.backends.cuda.is_built()'\n",
      "  device = {torch.has_cuda: \"cuda\", torch.has_mps: \"mps\"}.get(True, \"cpu\")\n",
      "c:\\Jibran Data\\LUMS\\Sem 7\\ATML\\PA1\\fast-style-transfer\\stylize_image.py:9: UserWarning: 'has_mps' is deprecated, please use 'torch.backends.mps.is_built()'\n",
      "  device = {torch.has_cuda: \"cuda\", torch.has_mps: \"mps\"}.get(True, \"cpu\")\n"
     ]
    },
    {
     "name": "stdout",
     "output_type": "stream",
     "text": [
      "image saved successfully at styled_output.png\n"
     ]
    },
    {
     "name": "stderr",
     "output_type": "stream",
     "text": [
      "c:\\Jibran Data\\LUMS\\Sem 7\\ATML\\PA1\\fast-style-transfer\\stylize_image.py:9: UserWarning: 'has_cuda' is deprecated, please use 'torch.backends.cuda.is_built()'\n",
      "  device = {torch.has_cuda: \"cuda\", torch.has_mps: \"mps\"}.get(True, \"cpu\")\n",
      "c:\\Jibran Data\\LUMS\\Sem 7\\ATML\\PA1\\fast-style-transfer\\stylize_image.py:9: UserWarning: 'has_mps' is deprecated, please use 'torch.backends.mps.is_built()'\n",
      "  device = {torch.has_cuda: \"cuda\", torch.has_mps: \"mps\"}.get(True, \"cpu\")\n"
     ]
    },
    {
     "name": "stdout",
     "output_type": "stream",
     "text": [
      "image saved successfully at styled_output.png\n"
     ]
    },
    {
     "name": "stderr",
     "output_type": "stream",
     "text": [
      "c:\\Jibran Data\\LUMS\\Sem 7\\ATML\\PA1\\fast-style-transfer\\stylize_image.py:9: UserWarning: 'has_cuda' is deprecated, please use 'torch.backends.cuda.is_built()'\n",
      "  device = {torch.has_cuda: \"cuda\", torch.has_mps: \"mps\"}.get(True, \"cpu\")\n",
      "c:\\Jibran Data\\LUMS\\Sem 7\\ATML\\PA1\\fast-style-transfer\\stylize_image.py:9: UserWarning: 'has_mps' is deprecated, please use 'torch.backends.mps.is_built()'\n",
      "  device = {torch.has_cuda: \"cuda\", torch.has_mps: \"mps\"}.get(True, \"cpu\")\n"
     ]
    },
    {
     "name": "stdout",
     "output_type": "stream",
     "text": [
      "image saved successfully at styled_output.png\n"
     ]
    },
    {
     "name": "stderr",
     "output_type": "stream",
     "text": [
      "c:\\Jibran Data\\LUMS\\Sem 7\\ATML\\PA1\\fast-style-transfer\\stylize_image.py:9: UserWarning: 'has_cuda' is deprecated, please use 'torch.backends.cuda.is_built()'\n",
      "  device = {torch.has_cuda: \"cuda\", torch.has_mps: \"mps\"}.get(True, \"cpu\")\n",
      "c:\\Jibran Data\\LUMS\\Sem 7\\ATML\\PA1\\fast-style-transfer\\stylize_image.py:9: UserWarning: 'has_mps' is deprecated, please use 'torch.backends.mps.is_built()'\n",
      "  device = {torch.has_cuda: \"cuda\", torch.has_mps: \"mps\"}.get(True, \"cpu\")\n"
     ]
    },
    {
     "name": "stdout",
     "output_type": "stream",
     "text": [
      "image saved successfully at styled_output.png\n"
     ]
    },
    {
     "name": "stderr",
     "output_type": "stream",
     "text": [
      "c:\\Jibran Data\\LUMS\\Sem 7\\ATML\\PA1\\fast-style-transfer\\stylize_image.py:9: UserWarning: 'has_cuda' is deprecated, please use 'torch.backends.cuda.is_built()'\n",
      "  device = {torch.has_cuda: \"cuda\", torch.has_mps: \"mps\"}.get(True, \"cpu\")\n",
      "c:\\Jibran Data\\LUMS\\Sem 7\\ATML\\PA1\\fast-style-transfer\\stylize_image.py:9: UserWarning: 'has_mps' is deprecated, please use 'torch.backends.mps.is_built()'\n",
      "  device = {torch.has_cuda: \"cuda\", torch.has_mps: \"mps\"}.get(True, \"cpu\")\n"
     ]
    },
    {
     "name": "stdout",
     "output_type": "stream",
     "text": [
      "image saved successfully at styled_output.png\n"
     ]
    },
    {
     "name": "stderr",
     "output_type": "stream",
     "text": [
      "c:\\Jibran Data\\LUMS\\Sem 7\\ATML\\PA1\\fast-style-transfer\\stylize_image.py:9: UserWarning: 'has_cuda' is deprecated, please use 'torch.backends.cuda.is_built()'\n",
      "  device = {torch.has_cuda: \"cuda\", torch.has_mps: \"mps\"}.get(True, \"cpu\")\n",
      "c:\\Jibran Data\\LUMS\\Sem 7\\ATML\\PA1\\fast-style-transfer\\stylize_image.py:9: UserWarning: 'has_mps' is deprecated, please use 'torch.backends.mps.is_built()'\n",
      "  device = {torch.has_cuda: \"cuda\", torch.has_mps: \"mps\"}.get(True, \"cpu\")\n"
     ]
    },
    {
     "name": "stdout",
     "output_type": "stream",
     "text": [
      "image saved successfully at styled_output.png\n"
     ]
    },
    {
     "name": "stderr",
     "output_type": "stream",
     "text": [
      "c:\\Jibran Data\\LUMS\\Sem 7\\ATML\\PA1\\fast-style-transfer\\stylize_image.py:9: UserWarning: 'has_cuda' is deprecated, please use 'torch.backends.cuda.is_built()'\n",
      "  device = {torch.has_cuda: \"cuda\", torch.has_mps: \"mps\"}.get(True, \"cpu\")\n",
      "c:\\Jibran Data\\LUMS\\Sem 7\\ATML\\PA1\\fast-style-transfer\\stylize_image.py:9: UserWarning: 'has_mps' is deprecated, please use 'torch.backends.mps.is_built()'\n",
      "  device = {torch.has_cuda: \"cuda\", torch.has_mps: \"mps\"}.get(True, \"cpu\")\n"
     ]
    },
    {
     "name": "stdout",
     "output_type": "stream",
     "text": [
      "image saved successfully at styled_output.png\n"
     ]
    },
    {
     "name": "stderr",
     "output_type": "stream",
     "text": [
      "c:\\Jibran Data\\LUMS\\Sem 7\\ATML\\PA1\\fast-style-transfer\\stylize_image.py:9: UserWarning: 'has_cuda' is deprecated, please use 'torch.backends.cuda.is_built()'\n",
      "  device = {torch.has_cuda: \"cuda\", torch.has_mps: \"mps\"}.get(True, \"cpu\")\n",
      "c:\\Jibran Data\\LUMS\\Sem 7\\ATML\\PA1\\fast-style-transfer\\stylize_image.py:9: UserWarning: 'has_mps' is deprecated, please use 'torch.backends.mps.is_built()'\n",
      "  device = {torch.has_cuda: \"cuda\", torch.has_mps: \"mps\"}.get(True, \"cpu\")\n"
     ]
    },
    {
     "name": "stdout",
     "output_type": "stream",
     "text": [
      "image saved successfully at styled_output.png\n"
     ]
    },
    {
     "name": "stderr",
     "output_type": "stream",
     "text": [
      "c:\\Jibran Data\\LUMS\\Sem 7\\ATML\\PA1\\fast-style-transfer\\stylize_image.py:9: UserWarning: 'has_cuda' is deprecated, please use 'torch.backends.cuda.is_built()'\n",
      "  device = {torch.has_cuda: \"cuda\", torch.has_mps: \"mps\"}.get(True, \"cpu\")\n",
      "c:\\Jibran Data\\LUMS\\Sem 7\\ATML\\PA1\\fast-style-transfer\\stylize_image.py:9: UserWarning: 'has_mps' is deprecated, please use 'torch.backends.mps.is_built()'\n",
      "  device = {torch.has_cuda: \"cuda\", torch.has_mps: \"mps\"}.get(True, \"cpu\")\n"
     ]
    },
    {
     "name": "stdout",
     "output_type": "stream",
     "text": [
      "image saved successfully at styled_output.png\n"
     ]
    },
    {
     "name": "stderr",
     "output_type": "stream",
     "text": [
      "c:\\Jibran Data\\LUMS\\Sem 7\\ATML\\PA1\\fast-style-transfer\\stylize_image.py:9: UserWarning: 'has_cuda' is deprecated, please use 'torch.backends.cuda.is_built()'\n",
      "  device = {torch.has_cuda: \"cuda\", torch.has_mps: \"mps\"}.get(True, \"cpu\")\n",
      "c:\\Jibran Data\\LUMS\\Sem 7\\ATML\\PA1\\fast-style-transfer\\stylize_image.py:9: UserWarning: 'has_mps' is deprecated, please use 'torch.backends.mps.is_built()'\n",
      "  device = {torch.has_cuda: \"cuda\", torch.has_mps: \"mps\"}.get(True, \"cpu\")\n"
     ]
    },
    {
     "name": "stdout",
     "output_type": "stream",
     "text": [
      "image saved successfully at styled_output.png\n"
     ]
    },
    {
     "name": "stderr",
     "output_type": "stream",
     "text": [
      "c:\\Jibran Data\\LUMS\\Sem 7\\ATML\\PA1\\fast-style-transfer\\stylize_image.py:9: UserWarning: 'has_cuda' is deprecated, please use 'torch.backends.cuda.is_built()'\n",
      "  device = {torch.has_cuda: \"cuda\", torch.has_mps: \"mps\"}.get(True, \"cpu\")\n",
      "c:\\Jibran Data\\LUMS\\Sem 7\\ATML\\PA1\\fast-style-transfer\\stylize_image.py:9: UserWarning: 'has_mps' is deprecated, please use 'torch.backends.mps.is_built()'\n",
      "  device = {torch.has_cuda: \"cuda\", torch.has_mps: \"mps\"}.get(True, \"cpu\")\n"
     ]
    },
    {
     "name": "stdout",
     "output_type": "stream",
     "text": [
      "image saved successfully at styled_output.png\n"
     ]
    },
    {
     "name": "stderr",
     "output_type": "stream",
     "text": [
      "c:\\Jibran Data\\LUMS\\Sem 7\\ATML\\PA1\\fast-style-transfer\\stylize_image.py:9: UserWarning: 'has_cuda' is deprecated, please use 'torch.backends.cuda.is_built()'\n",
      "  device = {torch.has_cuda: \"cuda\", torch.has_mps: \"mps\"}.get(True, \"cpu\")\n",
      "c:\\Jibran Data\\LUMS\\Sem 7\\ATML\\PA1\\fast-style-transfer\\stylize_image.py:9: UserWarning: 'has_mps' is deprecated, please use 'torch.backends.mps.is_built()'\n",
      "  device = {torch.has_cuda: \"cuda\", torch.has_mps: \"mps\"}.get(True, \"cpu\")\n"
     ]
    },
    {
     "name": "stdout",
     "output_type": "stream",
     "text": [
      "image saved successfully at styled_output.png\n"
     ]
    },
    {
     "name": "stderr",
     "output_type": "stream",
     "text": [
      "c:\\Jibran Data\\LUMS\\Sem 7\\ATML\\PA1\\fast-style-transfer\\stylize_image.py:9: UserWarning: 'has_cuda' is deprecated, please use 'torch.backends.cuda.is_built()'\n",
      "  device = {torch.has_cuda: \"cuda\", torch.has_mps: \"mps\"}.get(True, \"cpu\")\n",
      "c:\\Jibran Data\\LUMS\\Sem 7\\ATML\\PA1\\fast-style-transfer\\stylize_image.py:9: UserWarning: 'has_mps' is deprecated, please use 'torch.backends.mps.is_built()'\n",
      "  device = {torch.has_cuda: \"cuda\", torch.has_mps: \"mps\"}.get(True, \"cpu\")\n"
     ]
    },
    {
     "name": "stdout",
     "output_type": "stream",
     "text": [
      "image saved successfully at styled_output.png\n"
     ]
    },
    {
     "name": "stderr",
     "output_type": "stream",
     "text": [
      "c:\\Jibran Data\\LUMS\\Sem 7\\ATML\\PA1\\fast-style-transfer\\stylize_image.py:9: UserWarning: 'has_cuda' is deprecated, please use 'torch.backends.cuda.is_built()'\n",
      "  device = {torch.has_cuda: \"cuda\", torch.has_mps: \"mps\"}.get(True, \"cpu\")\n",
      "c:\\Jibran Data\\LUMS\\Sem 7\\ATML\\PA1\\fast-style-transfer\\stylize_image.py:9: UserWarning: 'has_mps' is deprecated, please use 'torch.backends.mps.is_built()'\n",
      "  device = {torch.has_cuda: \"cuda\", torch.has_mps: \"mps\"}.get(True, \"cpu\")\n"
     ]
    },
    {
     "name": "stdout",
     "output_type": "stream",
     "text": [
      "image saved successfully at styled_output.png\n"
     ]
    },
    {
     "name": "stderr",
     "output_type": "stream",
     "text": [
      "c:\\Jibran Data\\LUMS\\Sem 7\\ATML\\PA1\\fast-style-transfer\\stylize_image.py:9: UserWarning: 'has_cuda' is deprecated, please use 'torch.backends.cuda.is_built()'\n",
      "  device = {torch.has_cuda: \"cuda\", torch.has_mps: \"mps\"}.get(True, \"cpu\")\n",
      "c:\\Jibran Data\\LUMS\\Sem 7\\ATML\\PA1\\fast-style-transfer\\stylize_image.py:9: UserWarning: 'has_mps' is deprecated, please use 'torch.backends.mps.is_built()'\n",
      "  device = {torch.has_cuda: \"cuda\", torch.has_mps: \"mps\"}.get(True, \"cpu\")\n"
     ]
    },
    {
     "name": "stdout",
     "output_type": "stream",
     "text": [
      "image saved successfully at styled_output.png\n"
     ]
    },
    {
     "name": "stderr",
     "output_type": "stream",
     "text": [
      "c:\\Jibran Data\\LUMS\\Sem 7\\ATML\\PA1\\fast-style-transfer\\stylize_image.py:9: UserWarning: 'has_cuda' is deprecated, please use 'torch.backends.cuda.is_built()'\n",
      "  device = {torch.has_cuda: \"cuda\", torch.has_mps: \"mps\"}.get(True, \"cpu\")\n",
      "c:\\Jibran Data\\LUMS\\Sem 7\\ATML\\PA1\\fast-style-transfer\\stylize_image.py:9: UserWarning: 'has_mps' is deprecated, please use 'torch.backends.mps.is_built()'\n",
      "  device = {torch.has_cuda: \"cuda\", torch.has_mps: \"mps\"}.get(True, \"cpu\")\n"
     ]
    },
    {
     "name": "stdout",
     "output_type": "stream",
     "text": [
      "image saved successfully at styled_output.png\n"
     ]
    },
    {
     "name": "stderr",
     "output_type": "stream",
     "text": [
      "c:\\Jibran Data\\LUMS\\Sem 7\\ATML\\PA1\\fast-style-transfer\\stylize_image.py:9: UserWarning: 'has_cuda' is deprecated, please use 'torch.backends.cuda.is_built()'\n",
      "  device = {torch.has_cuda: \"cuda\", torch.has_mps: \"mps\"}.get(True, \"cpu\")\n",
      "c:\\Jibran Data\\LUMS\\Sem 7\\ATML\\PA1\\fast-style-transfer\\stylize_image.py:9: UserWarning: 'has_mps' is deprecated, please use 'torch.backends.mps.is_built()'\n",
      "  device = {torch.has_cuda: \"cuda\", torch.has_mps: \"mps\"}.get(True, \"cpu\")\n"
     ]
    },
    {
     "name": "stdout",
     "output_type": "stream",
     "text": [
      "image saved successfully at styled_output.png\n"
     ]
    },
    {
     "name": "stderr",
     "output_type": "stream",
     "text": [
      "c:\\Jibran Data\\LUMS\\Sem 7\\ATML\\PA1\\fast-style-transfer\\stylize_image.py:9: UserWarning: 'has_cuda' is deprecated, please use 'torch.backends.cuda.is_built()'\n",
      "  device = {torch.has_cuda: \"cuda\", torch.has_mps: \"mps\"}.get(True, \"cpu\")\n",
      "c:\\Jibran Data\\LUMS\\Sem 7\\ATML\\PA1\\fast-style-transfer\\stylize_image.py:9: UserWarning: 'has_mps' is deprecated, please use 'torch.backends.mps.is_built()'\n",
      "  device = {torch.has_cuda: \"cuda\", torch.has_mps: \"mps\"}.get(True, \"cpu\")\n"
     ]
    },
    {
     "name": "stdout",
     "output_type": "stream",
     "text": [
      "image saved successfully at styled_output.png\n"
     ]
    },
    {
     "name": "stderr",
     "output_type": "stream",
     "text": [
      "c:\\Jibran Data\\LUMS\\Sem 7\\ATML\\PA1\\fast-style-transfer\\stylize_image.py:9: UserWarning: 'has_cuda' is deprecated, please use 'torch.backends.cuda.is_built()'\n",
      "  device = {torch.has_cuda: \"cuda\", torch.has_mps: \"mps\"}.get(True, \"cpu\")\n",
      "c:\\Jibran Data\\LUMS\\Sem 7\\ATML\\PA1\\fast-style-transfer\\stylize_image.py:9: UserWarning: 'has_mps' is deprecated, please use 'torch.backends.mps.is_built()'\n",
      "  device = {torch.has_cuda: \"cuda\", torch.has_mps: \"mps\"}.get(True, \"cpu\")\n"
     ]
    },
    {
     "name": "stdout",
     "output_type": "stream",
     "text": [
      "image saved successfully at styled_output.png\n"
     ]
    },
    {
     "name": "stderr",
     "output_type": "stream",
     "text": [
      "c:\\Jibran Data\\LUMS\\Sem 7\\ATML\\PA1\\fast-style-transfer\\stylize_image.py:9: UserWarning: 'has_cuda' is deprecated, please use 'torch.backends.cuda.is_built()'\n",
      "  device = {torch.has_cuda: \"cuda\", torch.has_mps: \"mps\"}.get(True, \"cpu\")\n",
      "c:\\Jibran Data\\LUMS\\Sem 7\\ATML\\PA1\\fast-style-transfer\\stylize_image.py:9: UserWarning: 'has_mps' is deprecated, please use 'torch.backends.mps.is_built()'\n",
      "  device = {torch.has_cuda: \"cuda\", torch.has_mps: \"mps\"}.get(True, \"cpu\")\n"
     ]
    },
    {
     "name": "stdout",
     "output_type": "stream",
     "text": [
      "image saved successfully at styled_output.png\n"
     ]
    },
    {
     "name": "stderr",
     "output_type": "stream",
     "text": [
      "c:\\Jibran Data\\LUMS\\Sem 7\\ATML\\PA1\\fast-style-transfer\\stylize_image.py:9: UserWarning: 'has_cuda' is deprecated, please use 'torch.backends.cuda.is_built()'\n",
      "  device = {torch.has_cuda: \"cuda\", torch.has_mps: \"mps\"}.get(True, \"cpu\")\n",
      "c:\\Jibran Data\\LUMS\\Sem 7\\ATML\\PA1\\fast-style-transfer\\stylize_image.py:9: UserWarning: 'has_mps' is deprecated, please use 'torch.backends.mps.is_built()'\n",
      "  device = {torch.has_cuda: \"cuda\", torch.has_mps: \"mps\"}.get(True, \"cpu\")\n"
     ]
    },
    {
     "name": "stdout",
     "output_type": "stream",
     "text": [
      "image saved successfully at styled_output.png\n"
     ]
    },
    {
     "name": "stderr",
     "output_type": "stream",
     "text": [
      "c:\\Jibran Data\\LUMS\\Sem 7\\ATML\\PA1\\fast-style-transfer\\stylize_image.py:9: UserWarning: 'has_cuda' is deprecated, please use 'torch.backends.cuda.is_built()'\n",
      "  device = {torch.has_cuda: \"cuda\", torch.has_mps: \"mps\"}.get(True, \"cpu\")\n",
      "c:\\Jibran Data\\LUMS\\Sem 7\\ATML\\PA1\\fast-style-transfer\\stylize_image.py:9: UserWarning: 'has_mps' is deprecated, please use 'torch.backends.mps.is_built()'\n",
      "  device = {torch.has_cuda: \"cuda\", torch.has_mps: \"mps\"}.get(True, \"cpu\")\n"
     ]
    },
    {
     "name": "stdout",
     "output_type": "stream",
     "text": [
      "image saved successfully at styled_output.png\n"
     ]
    },
    {
     "name": "stderr",
     "output_type": "stream",
     "text": [
      "c:\\Jibran Data\\LUMS\\Sem 7\\ATML\\PA1\\fast-style-transfer\\stylize_image.py:9: UserWarning: 'has_cuda' is deprecated, please use 'torch.backends.cuda.is_built()'\n",
      "  device = {torch.has_cuda: \"cuda\", torch.has_mps: \"mps\"}.get(True, \"cpu\")\n",
      "c:\\Jibran Data\\LUMS\\Sem 7\\ATML\\PA1\\fast-style-transfer\\stylize_image.py:9: UserWarning: 'has_mps' is deprecated, please use 'torch.backends.mps.is_built()'\n",
      "  device = {torch.has_cuda: \"cuda\", torch.has_mps: \"mps\"}.get(True, \"cpu\")\n"
     ]
    },
    {
     "name": "stdout",
     "output_type": "stream",
     "text": [
      "image saved successfully at styled_output.png\n"
     ]
    },
    {
     "name": "stderr",
     "output_type": "stream",
     "text": [
      "c:\\Jibran Data\\LUMS\\Sem 7\\ATML\\PA1\\fast-style-transfer\\stylize_image.py:9: UserWarning: 'has_cuda' is deprecated, please use 'torch.backends.cuda.is_built()'\n",
      "  device = {torch.has_cuda: \"cuda\", torch.has_mps: \"mps\"}.get(True, \"cpu\")\n",
      "c:\\Jibran Data\\LUMS\\Sem 7\\ATML\\PA1\\fast-style-transfer\\stylize_image.py:9: UserWarning: 'has_mps' is deprecated, please use 'torch.backends.mps.is_built()'\n",
      "  device = {torch.has_cuda: \"cuda\", torch.has_mps: \"mps\"}.get(True, \"cpu\")\n"
     ]
    },
    {
     "name": "stdout",
     "output_type": "stream",
     "text": [
      "image saved successfully at styled_output.png\n"
     ]
    },
    {
     "name": "stderr",
     "output_type": "stream",
     "text": [
      "c:\\Jibran Data\\LUMS\\Sem 7\\ATML\\PA1\\fast-style-transfer\\stylize_image.py:9: UserWarning: 'has_cuda' is deprecated, please use 'torch.backends.cuda.is_built()'\n",
      "  device = {torch.has_cuda: \"cuda\", torch.has_mps: \"mps\"}.get(True, \"cpu\")\n",
      "c:\\Jibran Data\\LUMS\\Sem 7\\ATML\\PA1\\fast-style-transfer\\stylize_image.py:9: UserWarning: 'has_mps' is deprecated, please use 'torch.backends.mps.is_built()'\n",
      "  device = {torch.has_cuda: \"cuda\", torch.has_mps: \"mps\"}.get(True, \"cpu\")\n"
     ]
    },
    {
     "name": "stdout",
     "output_type": "stream",
     "text": [
      "image saved successfully at styled_output.png\n"
     ]
    },
    {
     "name": "stderr",
     "output_type": "stream",
     "text": [
      "c:\\Jibran Data\\LUMS\\Sem 7\\ATML\\PA1\\fast-style-transfer\\stylize_image.py:9: UserWarning: 'has_cuda' is deprecated, please use 'torch.backends.cuda.is_built()'\n",
      "  device = {torch.has_cuda: \"cuda\", torch.has_mps: \"mps\"}.get(True, \"cpu\")\n",
      "c:\\Jibran Data\\LUMS\\Sem 7\\ATML\\PA1\\fast-style-transfer\\stylize_image.py:9: UserWarning: 'has_mps' is deprecated, please use 'torch.backends.mps.is_built()'\n",
      "  device = {torch.has_cuda: \"cuda\", torch.has_mps: \"mps\"}.get(True, \"cpu\")\n"
     ]
    },
    {
     "name": "stdout",
     "output_type": "stream",
     "text": [
      "image saved successfully at styled_output.png\n"
     ]
    },
    {
     "name": "stderr",
     "output_type": "stream",
     "text": [
      "c:\\Jibran Data\\LUMS\\Sem 7\\ATML\\PA1\\fast-style-transfer\\stylize_image.py:9: UserWarning: 'has_cuda' is deprecated, please use 'torch.backends.cuda.is_built()'\n",
      "  device = {torch.has_cuda: \"cuda\", torch.has_mps: \"mps\"}.get(True, \"cpu\")\n",
      "c:\\Jibran Data\\LUMS\\Sem 7\\ATML\\PA1\\fast-style-transfer\\stylize_image.py:9: UserWarning: 'has_mps' is deprecated, please use 'torch.backends.mps.is_built()'\n",
      "  device = {torch.has_cuda: \"cuda\", torch.has_mps: \"mps\"}.get(True, \"cpu\")\n"
     ]
    },
    {
     "name": "stdout",
     "output_type": "stream",
     "text": [
      "image saved successfully at styled_output.png\n"
     ]
    },
    {
     "name": "stderr",
     "output_type": "stream",
     "text": [
      "c:\\Jibran Data\\LUMS\\Sem 7\\ATML\\PA1\\fast-style-transfer\\stylize_image.py:9: UserWarning: 'has_cuda' is deprecated, please use 'torch.backends.cuda.is_built()'\n",
      "  device = {torch.has_cuda: \"cuda\", torch.has_mps: \"mps\"}.get(True, \"cpu\")\n",
      "c:\\Jibran Data\\LUMS\\Sem 7\\ATML\\PA1\\fast-style-transfer\\stylize_image.py:9: UserWarning: 'has_mps' is deprecated, please use 'torch.backends.mps.is_built()'\n",
      "  device = {torch.has_cuda: \"cuda\", torch.has_mps: \"mps\"}.get(True, \"cpu\")\n"
     ]
    },
    {
     "name": "stdout",
     "output_type": "stream",
     "text": [
      "image saved successfully at styled_output.png\n"
     ]
    },
    {
     "name": "stderr",
     "output_type": "stream",
     "text": [
      "c:\\Jibran Data\\LUMS\\Sem 7\\ATML\\PA1\\fast-style-transfer\\stylize_image.py:9: UserWarning: 'has_cuda' is deprecated, please use 'torch.backends.cuda.is_built()'\n",
      "  device = {torch.has_cuda: \"cuda\", torch.has_mps: \"mps\"}.get(True, \"cpu\")\n",
      "c:\\Jibran Data\\LUMS\\Sem 7\\ATML\\PA1\\fast-style-transfer\\stylize_image.py:9: UserWarning: 'has_mps' is deprecated, please use 'torch.backends.mps.is_built()'\n",
      "  device = {torch.has_cuda: \"cuda\", torch.has_mps: \"mps\"}.get(True, \"cpu\")\n"
     ]
    },
    {
     "data": {
      "application/vnd.jupyter.widget-view+json": {
       "model_id": "0e75bb1cd4874048b760ef3567cec21a",
       "version_major": 2,
       "version_minor": 0
      },
      "text/plain": [
       "Class 'ship':   0%|          | 0/10 [00:00<?, ?it/s]"
      ]
     },
     "metadata": {},
     "output_type": "display_data"
    },
    {
     "name": "stdout",
     "output_type": "stream",
     "text": [
      "image saved successfully at styled_output.png\n"
     ]
    },
    {
     "name": "stderr",
     "output_type": "stream",
     "text": [
      "c:\\Jibran Data\\LUMS\\Sem 7\\ATML\\PA1\\fast-style-transfer\\stylize_image.py:9: UserWarning: 'has_cuda' is deprecated, please use 'torch.backends.cuda.is_built()'\n",
      "  device = {torch.has_cuda: \"cuda\", torch.has_mps: \"mps\"}.get(True, \"cpu\")\n",
      "c:\\Jibran Data\\LUMS\\Sem 7\\ATML\\PA1\\fast-style-transfer\\stylize_image.py:9: UserWarning: 'has_mps' is deprecated, please use 'torch.backends.mps.is_built()'\n",
      "  device = {torch.has_cuda: \"cuda\", torch.has_mps: \"mps\"}.get(True, \"cpu\")\n"
     ]
    },
    {
     "name": "stdout",
     "output_type": "stream",
     "text": [
      "image saved successfully at styled_output.png\n"
     ]
    },
    {
     "name": "stderr",
     "output_type": "stream",
     "text": [
      "c:\\Jibran Data\\LUMS\\Sem 7\\ATML\\PA1\\fast-style-transfer\\stylize_image.py:9: UserWarning: 'has_cuda' is deprecated, please use 'torch.backends.cuda.is_built()'\n",
      "  device = {torch.has_cuda: \"cuda\", torch.has_mps: \"mps\"}.get(True, \"cpu\")\n",
      "c:\\Jibran Data\\LUMS\\Sem 7\\ATML\\PA1\\fast-style-transfer\\stylize_image.py:9: UserWarning: 'has_mps' is deprecated, please use 'torch.backends.mps.is_built()'\n",
      "  device = {torch.has_cuda: \"cuda\", torch.has_mps: \"mps\"}.get(True, \"cpu\")\n"
     ]
    },
    {
     "name": "stdout",
     "output_type": "stream",
     "text": [
      "image saved successfully at styled_output.png\n"
     ]
    },
    {
     "name": "stderr",
     "output_type": "stream",
     "text": [
      "c:\\Jibran Data\\LUMS\\Sem 7\\ATML\\PA1\\fast-style-transfer\\stylize_image.py:9: UserWarning: 'has_cuda' is deprecated, please use 'torch.backends.cuda.is_built()'\n",
      "  device = {torch.has_cuda: \"cuda\", torch.has_mps: \"mps\"}.get(True, \"cpu\")\n",
      "c:\\Jibran Data\\LUMS\\Sem 7\\ATML\\PA1\\fast-style-transfer\\stylize_image.py:9: UserWarning: 'has_mps' is deprecated, please use 'torch.backends.mps.is_built()'\n",
      "  device = {torch.has_cuda: \"cuda\", torch.has_mps: \"mps\"}.get(True, \"cpu\")\n"
     ]
    },
    {
     "name": "stdout",
     "output_type": "stream",
     "text": [
      "image saved successfully at styled_output.png\n"
     ]
    },
    {
     "name": "stderr",
     "output_type": "stream",
     "text": [
      "c:\\Jibran Data\\LUMS\\Sem 7\\ATML\\PA1\\fast-style-transfer\\stylize_image.py:9: UserWarning: 'has_cuda' is deprecated, please use 'torch.backends.cuda.is_built()'\n",
      "  device = {torch.has_cuda: \"cuda\", torch.has_mps: \"mps\"}.get(True, \"cpu\")\n",
      "c:\\Jibran Data\\LUMS\\Sem 7\\ATML\\PA1\\fast-style-transfer\\stylize_image.py:9: UserWarning: 'has_mps' is deprecated, please use 'torch.backends.mps.is_built()'\n",
      "  device = {torch.has_cuda: \"cuda\", torch.has_mps: \"mps\"}.get(True, \"cpu\")\n"
     ]
    },
    {
     "name": "stdout",
     "output_type": "stream",
     "text": [
      "image saved successfully at styled_output.png\n"
     ]
    },
    {
     "name": "stderr",
     "output_type": "stream",
     "text": [
      "c:\\Jibran Data\\LUMS\\Sem 7\\ATML\\PA1\\fast-style-transfer\\stylize_image.py:9: UserWarning: 'has_cuda' is deprecated, please use 'torch.backends.cuda.is_built()'\n",
      "  device = {torch.has_cuda: \"cuda\", torch.has_mps: \"mps\"}.get(True, \"cpu\")\n",
      "c:\\Jibran Data\\LUMS\\Sem 7\\ATML\\PA1\\fast-style-transfer\\stylize_image.py:9: UserWarning: 'has_mps' is deprecated, please use 'torch.backends.mps.is_built()'\n",
      "  device = {torch.has_cuda: \"cuda\", torch.has_mps: \"mps\"}.get(True, \"cpu\")\n"
     ]
    },
    {
     "name": "stdout",
     "output_type": "stream",
     "text": [
      "image saved successfully at styled_output.png\n"
     ]
    },
    {
     "name": "stderr",
     "output_type": "stream",
     "text": [
      "c:\\Jibran Data\\LUMS\\Sem 7\\ATML\\PA1\\fast-style-transfer\\stylize_image.py:9: UserWarning: 'has_cuda' is deprecated, please use 'torch.backends.cuda.is_built()'\n",
      "  device = {torch.has_cuda: \"cuda\", torch.has_mps: \"mps\"}.get(True, \"cpu\")\n",
      "c:\\Jibran Data\\LUMS\\Sem 7\\ATML\\PA1\\fast-style-transfer\\stylize_image.py:9: UserWarning: 'has_mps' is deprecated, please use 'torch.backends.mps.is_built()'\n",
      "  device = {torch.has_cuda: \"cuda\", torch.has_mps: \"mps\"}.get(True, \"cpu\")\n"
     ]
    },
    {
     "name": "stdout",
     "output_type": "stream",
     "text": [
      "image saved successfully at styled_output.png\n"
     ]
    },
    {
     "name": "stderr",
     "output_type": "stream",
     "text": [
      "c:\\Jibran Data\\LUMS\\Sem 7\\ATML\\PA1\\fast-style-transfer\\stylize_image.py:9: UserWarning: 'has_cuda' is deprecated, please use 'torch.backends.cuda.is_built()'\n",
      "  device = {torch.has_cuda: \"cuda\", torch.has_mps: \"mps\"}.get(True, \"cpu\")\n",
      "c:\\Jibran Data\\LUMS\\Sem 7\\ATML\\PA1\\fast-style-transfer\\stylize_image.py:9: UserWarning: 'has_mps' is deprecated, please use 'torch.backends.mps.is_built()'\n",
      "  device = {torch.has_cuda: \"cuda\", torch.has_mps: \"mps\"}.get(True, \"cpu\")\n"
     ]
    },
    {
     "name": "stdout",
     "output_type": "stream",
     "text": [
      "image saved successfully at styled_output.png\n"
     ]
    },
    {
     "name": "stderr",
     "output_type": "stream",
     "text": [
      "c:\\Jibran Data\\LUMS\\Sem 7\\ATML\\PA1\\fast-style-transfer\\stylize_image.py:9: UserWarning: 'has_cuda' is deprecated, please use 'torch.backends.cuda.is_built()'\n",
      "  device = {torch.has_cuda: \"cuda\", torch.has_mps: \"mps\"}.get(True, \"cpu\")\n",
      "c:\\Jibran Data\\LUMS\\Sem 7\\ATML\\PA1\\fast-style-transfer\\stylize_image.py:9: UserWarning: 'has_mps' is deprecated, please use 'torch.backends.mps.is_built()'\n",
      "  device = {torch.has_cuda: \"cuda\", torch.has_mps: \"mps\"}.get(True, \"cpu\")\n"
     ]
    },
    {
     "name": "stdout",
     "output_type": "stream",
     "text": [
      "image saved successfully at styled_output.png\n"
     ]
    },
    {
     "name": "stderr",
     "output_type": "stream",
     "text": [
      "c:\\Jibran Data\\LUMS\\Sem 7\\ATML\\PA1\\fast-style-transfer\\stylize_image.py:9: UserWarning: 'has_cuda' is deprecated, please use 'torch.backends.cuda.is_built()'\n",
      "  device = {torch.has_cuda: \"cuda\", torch.has_mps: \"mps\"}.get(True, \"cpu\")\n",
      "c:\\Jibran Data\\LUMS\\Sem 7\\ATML\\PA1\\fast-style-transfer\\stylize_image.py:9: UserWarning: 'has_mps' is deprecated, please use 'torch.backends.mps.is_built()'\n",
      "  device = {torch.has_cuda: \"cuda\", torch.has_mps: \"mps\"}.get(True, \"cpu\")\n"
     ]
    },
    {
     "name": "stdout",
     "output_type": "stream",
     "text": [
      "image saved successfully at styled_output.png\n"
     ]
    },
    {
     "name": "stderr",
     "output_type": "stream",
     "text": [
      "c:\\Jibran Data\\LUMS\\Sem 7\\ATML\\PA1\\fast-style-transfer\\stylize_image.py:9: UserWarning: 'has_cuda' is deprecated, please use 'torch.backends.cuda.is_built()'\n",
      "  device = {torch.has_cuda: \"cuda\", torch.has_mps: \"mps\"}.get(True, \"cpu\")\n",
      "c:\\Jibran Data\\LUMS\\Sem 7\\ATML\\PA1\\fast-style-transfer\\stylize_image.py:9: UserWarning: 'has_mps' is deprecated, please use 'torch.backends.mps.is_built()'\n",
      "  device = {torch.has_cuda: \"cuda\", torch.has_mps: \"mps\"}.get(True, \"cpu\")\n"
     ]
    },
    {
     "name": "stdout",
     "output_type": "stream",
     "text": [
      "image saved successfully at styled_output.png\n"
     ]
    },
    {
     "name": "stderr",
     "output_type": "stream",
     "text": [
      "c:\\Jibran Data\\LUMS\\Sem 7\\ATML\\PA1\\fast-style-transfer\\stylize_image.py:9: UserWarning: 'has_cuda' is deprecated, please use 'torch.backends.cuda.is_built()'\n",
      "  device = {torch.has_cuda: \"cuda\", torch.has_mps: \"mps\"}.get(True, \"cpu\")\n",
      "c:\\Jibran Data\\LUMS\\Sem 7\\ATML\\PA1\\fast-style-transfer\\stylize_image.py:9: UserWarning: 'has_mps' is deprecated, please use 'torch.backends.mps.is_built()'\n",
      "  device = {torch.has_cuda: \"cuda\", torch.has_mps: \"mps\"}.get(True, \"cpu\")\n"
     ]
    },
    {
     "name": "stdout",
     "output_type": "stream",
     "text": [
      "image saved successfully at styled_output.png\n"
     ]
    },
    {
     "name": "stderr",
     "output_type": "stream",
     "text": [
      "c:\\Jibran Data\\LUMS\\Sem 7\\ATML\\PA1\\fast-style-transfer\\stylize_image.py:9: UserWarning: 'has_cuda' is deprecated, please use 'torch.backends.cuda.is_built()'\n",
      "  device = {torch.has_cuda: \"cuda\", torch.has_mps: \"mps\"}.get(True, \"cpu\")\n",
      "c:\\Jibran Data\\LUMS\\Sem 7\\ATML\\PA1\\fast-style-transfer\\stylize_image.py:9: UserWarning: 'has_mps' is deprecated, please use 'torch.backends.mps.is_built()'\n",
      "  device = {torch.has_cuda: \"cuda\", torch.has_mps: \"mps\"}.get(True, \"cpu\")\n"
     ]
    },
    {
     "name": "stdout",
     "output_type": "stream",
     "text": [
      "image saved successfully at styled_output.png\n"
     ]
    },
    {
     "name": "stderr",
     "output_type": "stream",
     "text": [
      "c:\\Jibran Data\\LUMS\\Sem 7\\ATML\\PA1\\fast-style-transfer\\stylize_image.py:9: UserWarning: 'has_cuda' is deprecated, please use 'torch.backends.cuda.is_built()'\n",
      "  device = {torch.has_cuda: \"cuda\", torch.has_mps: \"mps\"}.get(True, \"cpu\")\n",
      "c:\\Jibran Data\\LUMS\\Sem 7\\ATML\\PA1\\fast-style-transfer\\stylize_image.py:9: UserWarning: 'has_mps' is deprecated, please use 'torch.backends.mps.is_built()'\n",
      "  device = {torch.has_cuda: \"cuda\", torch.has_mps: \"mps\"}.get(True, \"cpu\")\n"
     ]
    },
    {
     "name": "stdout",
     "output_type": "stream",
     "text": [
      "image saved successfully at styled_output.png\n"
     ]
    },
    {
     "name": "stderr",
     "output_type": "stream",
     "text": [
      "c:\\Jibran Data\\LUMS\\Sem 7\\ATML\\PA1\\fast-style-transfer\\stylize_image.py:9: UserWarning: 'has_cuda' is deprecated, please use 'torch.backends.cuda.is_built()'\n",
      "  device = {torch.has_cuda: \"cuda\", torch.has_mps: \"mps\"}.get(True, \"cpu\")\n",
      "c:\\Jibran Data\\LUMS\\Sem 7\\ATML\\PA1\\fast-style-transfer\\stylize_image.py:9: UserWarning: 'has_mps' is deprecated, please use 'torch.backends.mps.is_built()'\n",
      "  device = {torch.has_cuda: \"cuda\", torch.has_mps: \"mps\"}.get(True, \"cpu\")\n"
     ]
    },
    {
     "name": "stdout",
     "output_type": "stream",
     "text": [
      "image saved successfully at styled_output.png\n"
     ]
    },
    {
     "name": "stderr",
     "output_type": "stream",
     "text": [
      "c:\\Jibran Data\\LUMS\\Sem 7\\ATML\\PA1\\fast-style-transfer\\stylize_image.py:9: UserWarning: 'has_cuda' is deprecated, please use 'torch.backends.cuda.is_built()'\n",
      "  device = {torch.has_cuda: \"cuda\", torch.has_mps: \"mps\"}.get(True, \"cpu\")\n",
      "c:\\Jibran Data\\LUMS\\Sem 7\\ATML\\PA1\\fast-style-transfer\\stylize_image.py:9: UserWarning: 'has_mps' is deprecated, please use 'torch.backends.mps.is_built()'\n",
      "  device = {torch.has_cuda: \"cuda\", torch.has_mps: \"mps\"}.get(True, \"cpu\")\n"
     ]
    },
    {
     "name": "stdout",
     "output_type": "stream",
     "text": [
      "image saved successfully at styled_output.png\n"
     ]
    },
    {
     "name": "stderr",
     "output_type": "stream",
     "text": [
      "c:\\Jibran Data\\LUMS\\Sem 7\\ATML\\PA1\\fast-style-transfer\\stylize_image.py:9: UserWarning: 'has_cuda' is deprecated, please use 'torch.backends.cuda.is_built()'\n",
      "  device = {torch.has_cuda: \"cuda\", torch.has_mps: \"mps\"}.get(True, \"cpu\")\n",
      "c:\\Jibran Data\\LUMS\\Sem 7\\ATML\\PA1\\fast-style-transfer\\stylize_image.py:9: UserWarning: 'has_mps' is deprecated, please use 'torch.backends.mps.is_built()'\n",
      "  device = {torch.has_cuda: \"cuda\", torch.has_mps: \"mps\"}.get(True, \"cpu\")\n"
     ]
    },
    {
     "name": "stdout",
     "output_type": "stream",
     "text": [
      "image saved successfully at styled_output.png\n"
     ]
    },
    {
     "name": "stderr",
     "output_type": "stream",
     "text": [
      "c:\\Jibran Data\\LUMS\\Sem 7\\ATML\\PA1\\fast-style-transfer\\stylize_image.py:9: UserWarning: 'has_cuda' is deprecated, please use 'torch.backends.cuda.is_built()'\n",
      "  device = {torch.has_cuda: \"cuda\", torch.has_mps: \"mps\"}.get(True, \"cpu\")\n",
      "c:\\Jibran Data\\LUMS\\Sem 7\\ATML\\PA1\\fast-style-transfer\\stylize_image.py:9: UserWarning: 'has_mps' is deprecated, please use 'torch.backends.mps.is_built()'\n",
      "  device = {torch.has_cuda: \"cuda\", torch.has_mps: \"mps\"}.get(True, \"cpu\")\n"
     ]
    },
    {
     "name": "stdout",
     "output_type": "stream",
     "text": [
      "image saved successfully at styled_output.png\n"
     ]
    },
    {
     "name": "stderr",
     "output_type": "stream",
     "text": [
      "c:\\Jibran Data\\LUMS\\Sem 7\\ATML\\PA1\\fast-style-transfer\\stylize_image.py:9: UserWarning: 'has_cuda' is deprecated, please use 'torch.backends.cuda.is_built()'\n",
      "  device = {torch.has_cuda: \"cuda\", torch.has_mps: \"mps\"}.get(True, \"cpu\")\n",
      "c:\\Jibran Data\\LUMS\\Sem 7\\ATML\\PA1\\fast-style-transfer\\stylize_image.py:9: UserWarning: 'has_mps' is deprecated, please use 'torch.backends.mps.is_built()'\n",
      "  device = {torch.has_cuda: \"cuda\", torch.has_mps: \"mps\"}.get(True, \"cpu\")\n"
     ]
    },
    {
     "name": "stdout",
     "output_type": "stream",
     "text": [
      "image saved successfully at styled_output.png\n"
     ]
    },
    {
     "name": "stderr",
     "output_type": "stream",
     "text": [
      "c:\\Jibran Data\\LUMS\\Sem 7\\ATML\\PA1\\fast-style-transfer\\stylize_image.py:9: UserWarning: 'has_cuda' is deprecated, please use 'torch.backends.cuda.is_built()'\n",
      "  device = {torch.has_cuda: \"cuda\", torch.has_mps: \"mps\"}.get(True, \"cpu\")\n",
      "c:\\Jibran Data\\LUMS\\Sem 7\\ATML\\PA1\\fast-style-transfer\\stylize_image.py:9: UserWarning: 'has_mps' is deprecated, please use 'torch.backends.mps.is_built()'\n",
      "  device = {torch.has_cuda: \"cuda\", torch.has_mps: \"mps\"}.get(True, \"cpu\")\n"
     ]
    },
    {
     "name": "stdout",
     "output_type": "stream",
     "text": [
      "image saved successfully at styled_output.png\n"
     ]
    },
    {
     "name": "stderr",
     "output_type": "stream",
     "text": [
      "c:\\Jibran Data\\LUMS\\Sem 7\\ATML\\PA1\\fast-style-transfer\\stylize_image.py:9: UserWarning: 'has_cuda' is deprecated, please use 'torch.backends.cuda.is_built()'\n",
      "  device = {torch.has_cuda: \"cuda\", torch.has_mps: \"mps\"}.get(True, \"cpu\")\n",
      "c:\\Jibran Data\\LUMS\\Sem 7\\ATML\\PA1\\fast-style-transfer\\stylize_image.py:9: UserWarning: 'has_mps' is deprecated, please use 'torch.backends.mps.is_built()'\n",
      "  device = {torch.has_cuda: \"cuda\", torch.has_mps: \"mps\"}.get(True, \"cpu\")\n"
     ]
    },
    {
     "name": "stdout",
     "output_type": "stream",
     "text": [
      "image saved successfully at styled_output.png\n"
     ]
    },
    {
     "name": "stderr",
     "output_type": "stream",
     "text": [
      "c:\\Jibran Data\\LUMS\\Sem 7\\ATML\\PA1\\fast-style-transfer\\stylize_image.py:9: UserWarning: 'has_cuda' is deprecated, please use 'torch.backends.cuda.is_built()'\n",
      "  device = {torch.has_cuda: \"cuda\", torch.has_mps: \"mps\"}.get(True, \"cpu\")\n",
      "c:\\Jibran Data\\LUMS\\Sem 7\\ATML\\PA1\\fast-style-transfer\\stylize_image.py:9: UserWarning: 'has_mps' is deprecated, please use 'torch.backends.mps.is_built()'\n",
      "  device = {torch.has_cuda: \"cuda\", torch.has_mps: \"mps\"}.get(True, \"cpu\")\n"
     ]
    },
    {
     "name": "stdout",
     "output_type": "stream",
     "text": [
      "image saved successfully at styled_output.png\n"
     ]
    },
    {
     "name": "stderr",
     "output_type": "stream",
     "text": [
      "c:\\Jibran Data\\LUMS\\Sem 7\\ATML\\PA1\\fast-style-transfer\\stylize_image.py:9: UserWarning: 'has_cuda' is deprecated, please use 'torch.backends.cuda.is_built()'\n",
      "  device = {torch.has_cuda: \"cuda\", torch.has_mps: \"mps\"}.get(True, \"cpu\")\n",
      "c:\\Jibran Data\\LUMS\\Sem 7\\ATML\\PA1\\fast-style-transfer\\stylize_image.py:9: UserWarning: 'has_mps' is deprecated, please use 'torch.backends.mps.is_built()'\n",
      "  device = {torch.has_cuda: \"cuda\", torch.has_mps: \"mps\"}.get(True, \"cpu\")\n"
     ]
    },
    {
     "name": "stdout",
     "output_type": "stream",
     "text": [
      "image saved successfully at styled_output.png\n"
     ]
    },
    {
     "name": "stderr",
     "output_type": "stream",
     "text": [
      "c:\\Jibran Data\\LUMS\\Sem 7\\ATML\\PA1\\fast-style-transfer\\stylize_image.py:9: UserWarning: 'has_cuda' is deprecated, please use 'torch.backends.cuda.is_built()'\n",
      "  device = {torch.has_cuda: \"cuda\", torch.has_mps: \"mps\"}.get(True, \"cpu\")\n",
      "c:\\Jibran Data\\LUMS\\Sem 7\\ATML\\PA1\\fast-style-transfer\\stylize_image.py:9: UserWarning: 'has_mps' is deprecated, please use 'torch.backends.mps.is_built()'\n",
      "  device = {torch.has_cuda: \"cuda\", torch.has_mps: \"mps\"}.get(True, \"cpu\")\n"
     ]
    },
    {
     "name": "stdout",
     "output_type": "stream",
     "text": [
      "image saved successfully at styled_output.png\n"
     ]
    },
    {
     "name": "stderr",
     "output_type": "stream",
     "text": [
      "c:\\Jibran Data\\LUMS\\Sem 7\\ATML\\PA1\\fast-style-transfer\\stylize_image.py:9: UserWarning: 'has_cuda' is deprecated, please use 'torch.backends.cuda.is_built()'\n",
      "  device = {torch.has_cuda: \"cuda\", torch.has_mps: \"mps\"}.get(True, \"cpu\")\n",
      "c:\\Jibran Data\\LUMS\\Sem 7\\ATML\\PA1\\fast-style-transfer\\stylize_image.py:9: UserWarning: 'has_mps' is deprecated, please use 'torch.backends.mps.is_built()'\n",
      "  device = {torch.has_cuda: \"cuda\", torch.has_mps: \"mps\"}.get(True, \"cpu\")\n"
     ]
    },
    {
     "name": "stdout",
     "output_type": "stream",
     "text": [
      "image saved successfully at styled_output.png\n"
     ]
    },
    {
     "name": "stderr",
     "output_type": "stream",
     "text": [
      "c:\\Jibran Data\\LUMS\\Sem 7\\ATML\\PA1\\fast-style-transfer\\stylize_image.py:9: UserWarning: 'has_cuda' is deprecated, please use 'torch.backends.cuda.is_built()'\n",
      "  device = {torch.has_cuda: \"cuda\", torch.has_mps: \"mps\"}.get(True, \"cpu\")\n",
      "c:\\Jibran Data\\LUMS\\Sem 7\\ATML\\PA1\\fast-style-transfer\\stylize_image.py:9: UserWarning: 'has_mps' is deprecated, please use 'torch.backends.mps.is_built()'\n",
      "  device = {torch.has_cuda: \"cuda\", torch.has_mps: \"mps\"}.get(True, \"cpu\")\n"
     ]
    },
    {
     "name": "stdout",
     "output_type": "stream",
     "text": [
      "image saved successfully at styled_output.png\n"
     ]
    },
    {
     "name": "stderr",
     "output_type": "stream",
     "text": [
      "c:\\Jibran Data\\LUMS\\Sem 7\\ATML\\PA1\\fast-style-transfer\\stylize_image.py:9: UserWarning: 'has_cuda' is deprecated, please use 'torch.backends.cuda.is_built()'\n",
      "  device = {torch.has_cuda: \"cuda\", torch.has_mps: \"mps\"}.get(True, \"cpu\")\n",
      "c:\\Jibran Data\\LUMS\\Sem 7\\ATML\\PA1\\fast-style-transfer\\stylize_image.py:9: UserWarning: 'has_mps' is deprecated, please use 'torch.backends.mps.is_built()'\n",
      "  device = {torch.has_cuda: \"cuda\", torch.has_mps: \"mps\"}.get(True, \"cpu\")\n"
     ]
    },
    {
     "name": "stdout",
     "output_type": "stream",
     "text": [
      "image saved successfully at styled_output.png\n"
     ]
    },
    {
     "name": "stderr",
     "output_type": "stream",
     "text": [
      "c:\\Jibran Data\\LUMS\\Sem 7\\ATML\\PA1\\fast-style-transfer\\stylize_image.py:9: UserWarning: 'has_cuda' is deprecated, please use 'torch.backends.cuda.is_built()'\n",
      "  device = {torch.has_cuda: \"cuda\", torch.has_mps: \"mps\"}.get(True, \"cpu\")\n",
      "c:\\Jibran Data\\LUMS\\Sem 7\\ATML\\PA1\\fast-style-transfer\\stylize_image.py:9: UserWarning: 'has_mps' is deprecated, please use 'torch.backends.mps.is_built()'\n",
      "  device = {torch.has_cuda: \"cuda\", torch.has_mps: \"mps\"}.get(True, \"cpu\")\n"
     ]
    },
    {
     "name": "stdout",
     "output_type": "stream",
     "text": [
      "image saved successfully at styled_output.png\n"
     ]
    },
    {
     "name": "stderr",
     "output_type": "stream",
     "text": [
      "c:\\Jibran Data\\LUMS\\Sem 7\\ATML\\PA1\\fast-style-transfer\\stylize_image.py:9: UserWarning: 'has_cuda' is deprecated, please use 'torch.backends.cuda.is_built()'\n",
      "  device = {torch.has_cuda: \"cuda\", torch.has_mps: \"mps\"}.get(True, \"cpu\")\n",
      "c:\\Jibran Data\\LUMS\\Sem 7\\ATML\\PA1\\fast-style-transfer\\stylize_image.py:9: UserWarning: 'has_mps' is deprecated, please use 'torch.backends.mps.is_built()'\n",
      "  device = {torch.has_cuda: \"cuda\", torch.has_mps: \"mps\"}.get(True, \"cpu\")\n"
     ]
    },
    {
     "name": "stdout",
     "output_type": "stream",
     "text": [
      "image saved successfully at styled_output.png\n"
     ]
    },
    {
     "name": "stderr",
     "output_type": "stream",
     "text": [
      "c:\\Jibran Data\\LUMS\\Sem 7\\ATML\\PA1\\fast-style-transfer\\stylize_image.py:9: UserWarning: 'has_cuda' is deprecated, please use 'torch.backends.cuda.is_built()'\n",
      "  device = {torch.has_cuda: \"cuda\", torch.has_mps: \"mps\"}.get(True, \"cpu\")\n",
      "c:\\Jibran Data\\LUMS\\Sem 7\\ATML\\PA1\\fast-style-transfer\\stylize_image.py:9: UserWarning: 'has_mps' is deprecated, please use 'torch.backends.mps.is_built()'\n",
      "  device = {torch.has_cuda: \"cuda\", torch.has_mps: \"mps\"}.get(True, \"cpu\")\n"
     ]
    },
    {
     "name": "stdout",
     "output_type": "stream",
     "text": [
      "image saved successfully at styled_output.png\n"
     ]
    },
    {
     "name": "stderr",
     "output_type": "stream",
     "text": [
      "c:\\Jibran Data\\LUMS\\Sem 7\\ATML\\PA1\\fast-style-transfer\\stylize_image.py:9: UserWarning: 'has_cuda' is deprecated, please use 'torch.backends.cuda.is_built()'\n",
      "  device = {torch.has_cuda: \"cuda\", torch.has_mps: \"mps\"}.get(True, \"cpu\")\n",
      "c:\\Jibran Data\\LUMS\\Sem 7\\ATML\\PA1\\fast-style-transfer\\stylize_image.py:9: UserWarning: 'has_mps' is deprecated, please use 'torch.backends.mps.is_built()'\n",
      "  device = {torch.has_cuda: \"cuda\", torch.has_mps: \"mps\"}.get(True, \"cpu\")\n"
     ]
    },
    {
     "name": "stdout",
     "output_type": "stream",
     "text": [
      "image saved successfully at styled_output.png\n"
     ]
    },
    {
     "name": "stderr",
     "output_type": "stream",
     "text": [
      "c:\\Jibran Data\\LUMS\\Sem 7\\ATML\\PA1\\fast-style-transfer\\stylize_image.py:9: UserWarning: 'has_cuda' is deprecated, please use 'torch.backends.cuda.is_built()'\n",
      "  device = {torch.has_cuda: \"cuda\", torch.has_mps: \"mps\"}.get(True, \"cpu\")\n",
      "c:\\Jibran Data\\LUMS\\Sem 7\\ATML\\PA1\\fast-style-transfer\\stylize_image.py:9: UserWarning: 'has_mps' is deprecated, please use 'torch.backends.mps.is_built()'\n",
      "  device = {torch.has_cuda: \"cuda\", torch.has_mps: \"mps\"}.get(True, \"cpu\")\n"
     ]
    },
    {
     "name": "stdout",
     "output_type": "stream",
     "text": [
      "image saved successfully at styled_output.png\n"
     ]
    },
    {
     "name": "stderr",
     "output_type": "stream",
     "text": [
      "c:\\Jibran Data\\LUMS\\Sem 7\\ATML\\PA1\\fast-style-transfer\\stylize_image.py:9: UserWarning: 'has_cuda' is deprecated, please use 'torch.backends.cuda.is_built()'\n",
      "  device = {torch.has_cuda: \"cuda\", torch.has_mps: \"mps\"}.get(True, \"cpu\")\n",
      "c:\\Jibran Data\\LUMS\\Sem 7\\ATML\\PA1\\fast-style-transfer\\stylize_image.py:9: UserWarning: 'has_mps' is deprecated, please use 'torch.backends.mps.is_built()'\n",
      "  device = {torch.has_cuda: \"cuda\", torch.has_mps: \"mps\"}.get(True, \"cpu\")\n"
     ]
    },
    {
     "name": "stdout",
     "output_type": "stream",
     "text": [
      "image saved successfully at styled_output.png\n"
     ]
    },
    {
     "name": "stderr",
     "output_type": "stream",
     "text": [
      "c:\\Jibran Data\\LUMS\\Sem 7\\ATML\\PA1\\fast-style-transfer\\stylize_image.py:9: UserWarning: 'has_cuda' is deprecated, please use 'torch.backends.cuda.is_built()'\n",
      "  device = {torch.has_cuda: \"cuda\", torch.has_mps: \"mps\"}.get(True, \"cpu\")\n",
      "c:\\Jibran Data\\LUMS\\Sem 7\\ATML\\PA1\\fast-style-transfer\\stylize_image.py:9: UserWarning: 'has_mps' is deprecated, please use 'torch.backends.mps.is_built()'\n",
      "  device = {torch.has_cuda: \"cuda\", torch.has_mps: \"mps\"}.get(True, \"cpu\")\n"
     ]
    },
    {
     "name": "stdout",
     "output_type": "stream",
     "text": [
      "image saved successfully at styled_output.png\n"
     ]
    },
    {
     "name": "stderr",
     "output_type": "stream",
     "text": [
      "c:\\Jibran Data\\LUMS\\Sem 7\\ATML\\PA1\\fast-style-transfer\\stylize_image.py:9: UserWarning: 'has_cuda' is deprecated, please use 'torch.backends.cuda.is_built()'\n",
      "  device = {torch.has_cuda: \"cuda\", torch.has_mps: \"mps\"}.get(True, \"cpu\")\n",
      "c:\\Jibran Data\\LUMS\\Sem 7\\ATML\\PA1\\fast-style-transfer\\stylize_image.py:9: UserWarning: 'has_mps' is deprecated, please use 'torch.backends.mps.is_built()'\n",
      "  device = {torch.has_cuda: \"cuda\", torch.has_mps: \"mps\"}.get(True, \"cpu\")\n"
     ]
    },
    {
     "name": "stdout",
     "output_type": "stream",
     "text": [
      "image saved successfully at styled_output.png\n"
     ]
    },
    {
     "name": "stderr",
     "output_type": "stream",
     "text": [
      "c:\\Jibran Data\\LUMS\\Sem 7\\ATML\\PA1\\fast-style-transfer\\stylize_image.py:9: UserWarning: 'has_cuda' is deprecated, please use 'torch.backends.cuda.is_built()'\n",
      "  device = {torch.has_cuda: \"cuda\", torch.has_mps: \"mps\"}.get(True, \"cpu\")\n",
      "c:\\Jibran Data\\LUMS\\Sem 7\\ATML\\PA1\\fast-style-transfer\\stylize_image.py:9: UserWarning: 'has_mps' is deprecated, please use 'torch.backends.mps.is_built()'\n",
      "  device = {torch.has_cuda: \"cuda\", torch.has_mps: \"mps\"}.get(True, \"cpu\")\n"
     ]
    },
    {
     "name": "stdout",
     "output_type": "stream",
     "text": [
      "image saved successfully at styled_output.png\n"
     ]
    },
    {
     "name": "stderr",
     "output_type": "stream",
     "text": [
      "c:\\Jibran Data\\LUMS\\Sem 7\\ATML\\PA1\\fast-style-transfer\\stylize_image.py:9: UserWarning: 'has_cuda' is deprecated, please use 'torch.backends.cuda.is_built()'\n",
      "  device = {torch.has_cuda: \"cuda\", torch.has_mps: \"mps\"}.get(True, \"cpu\")\n",
      "c:\\Jibran Data\\LUMS\\Sem 7\\ATML\\PA1\\fast-style-transfer\\stylize_image.py:9: UserWarning: 'has_mps' is deprecated, please use 'torch.backends.mps.is_built()'\n",
      "  device = {torch.has_cuda: \"cuda\", torch.has_mps: \"mps\"}.get(True, \"cpu\")\n"
     ]
    },
    {
     "name": "stdout",
     "output_type": "stream",
     "text": [
      "image saved successfully at styled_output.png\n"
     ]
    },
    {
     "name": "stderr",
     "output_type": "stream",
     "text": [
      "c:\\Jibran Data\\LUMS\\Sem 7\\ATML\\PA1\\fast-style-transfer\\stylize_image.py:9: UserWarning: 'has_cuda' is deprecated, please use 'torch.backends.cuda.is_built()'\n",
      "  device = {torch.has_cuda: \"cuda\", torch.has_mps: \"mps\"}.get(True, \"cpu\")\n",
      "c:\\Jibran Data\\LUMS\\Sem 7\\ATML\\PA1\\fast-style-transfer\\stylize_image.py:9: UserWarning: 'has_mps' is deprecated, please use 'torch.backends.mps.is_built()'\n",
      "  device = {torch.has_cuda: \"cuda\", torch.has_mps: \"mps\"}.get(True, \"cpu\")\n"
     ]
    },
    {
     "name": "stdout",
     "output_type": "stream",
     "text": [
      "image saved successfully at styled_output.png\n"
     ]
    },
    {
     "name": "stderr",
     "output_type": "stream",
     "text": [
      "c:\\Jibran Data\\LUMS\\Sem 7\\ATML\\PA1\\fast-style-transfer\\stylize_image.py:9: UserWarning: 'has_cuda' is deprecated, please use 'torch.backends.cuda.is_built()'\n",
      "  device = {torch.has_cuda: \"cuda\", torch.has_mps: \"mps\"}.get(True, \"cpu\")\n",
      "c:\\Jibran Data\\LUMS\\Sem 7\\ATML\\PA1\\fast-style-transfer\\stylize_image.py:9: UserWarning: 'has_mps' is deprecated, please use 'torch.backends.mps.is_built()'\n",
      "  device = {torch.has_cuda: \"cuda\", torch.has_mps: \"mps\"}.get(True, \"cpu\")\n"
     ]
    },
    {
     "name": "stdout",
     "output_type": "stream",
     "text": [
      "image saved successfully at styled_output.png\n"
     ]
    },
    {
     "name": "stderr",
     "output_type": "stream",
     "text": [
      "c:\\Jibran Data\\LUMS\\Sem 7\\ATML\\PA1\\fast-style-transfer\\stylize_image.py:9: UserWarning: 'has_cuda' is deprecated, please use 'torch.backends.cuda.is_built()'\n",
      "  device = {torch.has_cuda: \"cuda\", torch.has_mps: \"mps\"}.get(True, \"cpu\")\n",
      "c:\\Jibran Data\\LUMS\\Sem 7\\ATML\\PA1\\fast-style-transfer\\stylize_image.py:9: UserWarning: 'has_mps' is deprecated, please use 'torch.backends.mps.is_built()'\n",
      "  device = {torch.has_cuda: \"cuda\", torch.has_mps: \"mps\"}.get(True, \"cpu\")\n"
     ]
    },
    {
     "name": "stdout",
     "output_type": "stream",
     "text": [
      "image saved successfully at styled_output.png\n"
     ]
    },
    {
     "name": "stderr",
     "output_type": "stream",
     "text": [
      "c:\\Jibran Data\\LUMS\\Sem 7\\ATML\\PA1\\fast-style-transfer\\stylize_image.py:9: UserWarning: 'has_cuda' is deprecated, please use 'torch.backends.cuda.is_built()'\n",
      "  device = {torch.has_cuda: \"cuda\", torch.has_mps: \"mps\"}.get(True, \"cpu\")\n",
      "c:\\Jibran Data\\LUMS\\Sem 7\\ATML\\PA1\\fast-style-transfer\\stylize_image.py:9: UserWarning: 'has_mps' is deprecated, please use 'torch.backends.mps.is_built()'\n",
      "  device = {torch.has_cuda: \"cuda\", torch.has_mps: \"mps\"}.get(True, \"cpu\")\n"
     ]
    },
    {
     "data": {
      "application/vnd.jupyter.widget-view+json": {
       "model_id": "a2092467145f4641a4bbb284c0ebe529",
       "version_major": 2,
       "version_minor": 0
      },
      "text/plain": [
       "Class 'truck':   0%|          | 0/10 [00:00<?, ?it/s]"
      ]
     },
     "metadata": {},
     "output_type": "display_data"
    },
    {
     "name": "stdout",
     "output_type": "stream",
     "text": [
      "image saved successfully at styled_output.png\n"
     ]
    },
    {
     "name": "stderr",
     "output_type": "stream",
     "text": [
      "c:\\Jibran Data\\LUMS\\Sem 7\\ATML\\PA1\\fast-style-transfer\\stylize_image.py:9: UserWarning: 'has_cuda' is deprecated, please use 'torch.backends.cuda.is_built()'\n",
      "  device = {torch.has_cuda: \"cuda\", torch.has_mps: \"mps\"}.get(True, \"cpu\")\n",
      "c:\\Jibran Data\\LUMS\\Sem 7\\ATML\\PA1\\fast-style-transfer\\stylize_image.py:9: UserWarning: 'has_mps' is deprecated, please use 'torch.backends.mps.is_built()'\n",
      "  device = {torch.has_cuda: \"cuda\", torch.has_mps: \"mps\"}.get(True, \"cpu\")\n"
     ]
    },
    {
     "name": "stdout",
     "output_type": "stream",
     "text": [
      "image saved successfully at styled_output.png\n"
     ]
    },
    {
     "name": "stderr",
     "output_type": "stream",
     "text": [
      "c:\\Jibran Data\\LUMS\\Sem 7\\ATML\\PA1\\fast-style-transfer\\stylize_image.py:9: UserWarning: 'has_cuda' is deprecated, please use 'torch.backends.cuda.is_built()'\n",
      "  device = {torch.has_cuda: \"cuda\", torch.has_mps: \"mps\"}.get(True, \"cpu\")\n",
      "c:\\Jibran Data\\LUMS\\Sem 7\\ATML\\PA1\\fast-style-transfer\\stylize_image.py:9: UserWarning: 'has_mps' is deprecated, please use 'torch.backends.mps.is_built()'\n",
      "  device = {torch.has_cuda: \"cuda\", torch.has_mps: \"mps\"}.get(True, \"cpu\")\n"
     ]
    },
    {
     "name": "stdout",
     "output_type": "stream",
     "text": [
      "image saved successfully at styled_output.png\n"
     ]
    },
    {
     "name": "stderr",
     "output_type": "stream",
     "text": [
      "c:\\Jibran Data\\LUMS\\Sem 7\\ATML\\PA1\\fast-style-transfer\\stylize_image.py:9: UserWarning: 'has_cuda' is deprecated, please use 'torch.backends.cuda.is_built()'\n",
      "  device = {torch.has_cuda: \"cuda\", torch.has_mps: \"mps\"}.get(True, \"cpu\")\n",
      "c:\\Jibran Data\\LUMS\\Sem 7\\ATML\\PA1\\fast-style-transfer\\stylize_image.py:9: UserWarning: 'has_mps' is deprecated, please use 'torch.backends.mps.is_built()'\n",
      "  device = {torch.has_cuda: \"cuda\", torch.has_mps: \"mps\"}.get(True, \"cpu\")\n"
     ]
    },
    {
     "name": "stdout",
     "output_type": "stream",
     "text": [
      "image saved successfully at styled_output.png\n"
     ]
    },
    {
     "name": "stderr",
     "output_type": "stream",
     "text": [
      "c:\\Jibran Data\\LUMS\\Sem 7\\ATML\\PA1\\fast-style-transfer\\stylize_image.py:9: UserWarning: 'has_cuda' is deprecated, please use 'torch.backends.cuda.is_built()'\n",
      "  device = {torch.has_cuda: \"cuda\", torch.has_mps: \"mps\"}.get(True, \"cpu\")\n",
      "c:\\Jibran Data\\LUMS\\Sem 7\\ATML\\PA1\\fast-style-transfer\\stylize_image.py:9: UserWarning: 'has_mps' is deprecated, please use 'torch.backends.mps.is_built()'\n",
      "  device = {torch.has_cuda: \"cuda\", torch.has_mps: \"mps\"}.get(True, \"cpu\")\n"
     ]
    },
    {
     "name": "stdout",
     "output_type": "stream",
     "text": [
      "image saved successfully at styled_output.png\n"
     ]
    },
    {
     "name": "stderr",
     "output_type": "stream",
     "text": [
      "c:\\Jibran Data\\LUMS\\Sem 7\\ATML\\PA1\\fast-style-transfer\\stylize_image.py:9: UserWarning: 'has_cuda' is deprecated, please use 'torch.backends.cuda.is_built()'\n",
      "  device = {torch.has_cuda: \"cuda\", torch.has_mps: \"mps\"}.get(True, \"cpu\")\n",
      "c:\\Jibran Data\\LUMS\\Sem 7\\ATML\\PA1\\fast-style-transfer\\stylize_image.py:9: UserWarning: 'has_mps' is deprecated, please use 'torch.backends.mps.is_built()'\n",
      "  device = {torch.has_cuda: \"cuda\", torch.has_mps: \"mps\"}.get(True, \"cpu\")\n"
     ]
    },
    {
     "name": "stdout",
     "output_type": "stream",
     "text": [
      "image saved successfully at styled_output.png\n"
     ]
    },
    {
     "name": "stderr",
     "output_type": "stream",
     "text": [
      "c:\\Jibran Data\\LUMS\\Sem 7\\ATML\\PA1\\fast-style-transfer\\stylize_image.py:9: UserWarning: 'has_cuda' is deprecated, please use 'torch.backends.cuda.is_built()'\n",
      "  device = {torch.has_cuda: \"cuda\", torch.has_mps: \"mps\"}.get(True, \"cpu\")\n",
      "c:\\Jibran Data\\LUMS\\Sem 7\\ATML\\PA1\\fast-style-transfer\\stylize_image.py:9: UserWarning: 'has_mps' is deprecated, please use 'torch.backends.mps.is_built()'\n",
      "  device = {torch.has_cuda: \"cuda\", torch.has_mps: \"mps\"}.get(True, \"cpu\")\n"
     ]
    },
    {
     "name": "stdout",
     "output_type": "stream",
     "text": [
      "image saved successfully at styled_output.png\n"
     ]
    },
    {
     "name": "stderr",
     "output_type": "stream",
     "text": [
      "c:\\Jibran Data\\LUMS\\Sem 7\\ATML\\PA1\\fast-style-transfer\\stylize_image.py:9: UserWarning: 'has_cuda' is deprecated, please use 'torch.backends.cuda.is_built()'\n",
      "  device = {torch.has_cuda: \"cuda\", torch.has_mps: \"mps\"}.get(True, \"cpu\")\n",
      "c:\\Jibran Data\\LUMS\\Sem 7\\ATML\\PA1\\fast-style-transfer\\stylize_image.py:9: UserWarning: 'has_mps' is deprecated, please use 'torch.backends.mps.is_built()'\n",
      "  device = {torch.has_cuda: \"cuda\", torch.has_mps: \"mps\"}.get(True, \"cpu\")\n"
     ]
    },
    {
     "name": "stdout",
     "output_type": "stream",
     "text": [
      "image saved successfully at styled_output.png\n"
     ]
    },
    {
     "name": "stderr",
     "output_type": "stream",
     "text": [
      "c:\\Jibran Data\\LUMS\\Sem 7\\ATML\\PA1\\fast-style-transfer\\stylize_image.py:9: UserWarning: 'has_cuda' is deprecated, please use 'torch.backends.cuda.is_built()'\n",
      "  device = {torch.has_cuda: \"cuda\", torch.has_mps: \"mps\"}.get(True, \"cpu\")\n",
      "c:\\Jibran Data\\LUMS\\Sem 7\\ATML\\PA1\\fast-style-transfer\\stylize_image.py:9: UserWarning: 'has_mps' is deprecated, please use 'torch.backends.mps.is_built()'\n",
      "  device = {torch.has_cuda: \"cuda\", torch.has_mps: \"mps\"}.get(True, \"cpu\")\n"
     ]
    },
    {
     "name": "stdout",
     "output_type": "stream",
     "text": [
      "image saved successfully at styled_output.png\n"
     ]
    },
    {
     "name": "stderr",
     "output_type": "stream",
     "text": [
      "c:\\Jibran Data\\LUMS\\Sem 7\\ATML\\PA1\\fast-style-transfer\\stylize_image.py:9: UserWarning: 'has_cuda' is deprecated, please use 'torch.backends.cuda.is_built()'\n",
      "  device = {torch.has_cuda: \"cuda\", torch.has_mps: \"mps\"}.get(True, \"cpu\")\n",
      "c:\\Jibran Data\\LUMS\\Sem 7\\ATML\\PA1\\fast-style-transfer\\stylize_image.py:9: UserWarning: 'has_mps' is deprecated, please use 'torch.backends.mps.is_built()'\n",
      "  device = {torch.has_cuda: \"cuda\", torch.has_mps: \"mps\"}.get(True, \"cpu\")\n"
     ]
    },
    {
     "name": "stdout",
     "output_type": "stream",
     "text": [
      "image saved successfully at styled_output.png\n"
     ]
    },
    {
     "name": "stderr",
     "output_type": "stream",
     "text": [
      "c:\\Jibran Data\\LUMS\\Sem 7\\ATML\\PA1\\fast-style-transfer\\stylize_image.py:9: UserWarning: 'has_cuda' is deprecated, please use 'torch.backends.cuda.is_built()'\n",
      "  device = {torch.has_cuda: \"cuda\", torch.has_mps: \"mps\"}.get(True, \"cpu\")\n",
      "c:\\Jibran Data\\LUMS\\Sem 7\\ATML\\PA1\\fast-style-transfer\\stylize_image.py:9: UserWarning: 'has_mps' is deprecated, please use 'torch.backends.mps.is_built()'\n",
      "  device = {torch.has_cuda: \"cuda\", torch.has_mps: \"mps\"}.get(True, \"cpu\")\n"
     ]
    },
    {
     "name": "stdout",
     "output_type": "stream",
     "text": [
      "image saved successfully at styled_output.png\n"
     ]
    },
    {
     "name": "stderr",
     "output_type": "stream",
     "text": [
      "c:\\Jibran Data\\LUMS\\Sem 7\\ATML\\PA1\\fast-style-transfer\\stylize_image.py:9: UserWarning: 'has_cuda' is deprecated, please use 'torch.backends.cuda.is_built()'\n",
      "  device = {torch.has_cuda: \"cuda\", torch.has_mps: \"mps\"}.get(True, \"cpu\")\n",
      "c:\\Jibran Data\\LUMS\\Sem 7\\ATML\\PA1\\fast-style-transfer\\stylize_image.py:9: UserWarning: 'has_mps' is deprecated, please use 'torch.backends.mps.is_built()'\n",
      "  device = {torch.has_cuda: \"cuda\", torch.has_mps: \"mps\"}.get(True, \"cpu\")\n"
     ]
    },
    {
     "name": "stdout",
     "output_type": "stream",
     "text": [
      "image saved successfully at styled_output.png\n"
     ]
    },
    {
     "name": "stderr",
     "output_type": "stream",
     "text": [
      "c:\\Jibran Data\\LUMS\\Sem 7\\ATML\\PA1\\fast-style-transfer\\stylize_image.py:9: UserWarning: 'has_cuda' is deprecated, please use 'torch.backends.cuda.is_built()'\n",
      "  device = {torch.has_cuda: \"cuda\", torch.has_mps: \"mps\"}.get(True, \"cpu\")\n",
      "c:\\Jibran Data\\LUMS\\Sem 7\\ATML\\PA1\\fast-style-transfer\\stylize_image.py:9: UserWarning: 'has_mps' is deprecated, please use 'torch.backends.mps.is_built()'\n",
      "  device = {torch.has_cuda: \"cuda\", torch.has_mps: \"mps\"}.get(True, \"cpu\")\n"
     ]
    },
    {
     "name": "stdout",
     "output_type": "stream",
     "text": [
      "image saved successfully at styled_output.png\n"
     ]
    },
    {
     "name": "stderr",
     "output_type": "stream",
     "text": [
      "c:\\Jibran Data\\LUMS\\Sem 7\\ATML\\PA1\\fast-style-transfer\\stylize_image.py:9: UserWarning: 'has_cuda' is deprecated, please use 'torch.backends.cuda.is_built()'\n",
      "  device = {torch.has_cuda: \"cuda\", torch.has_mps: \"mps\"}.get(True, \"cpu\")\n",
      "c:\\Jibran Data\\LUMS\\Sem 7\\ATML\\PA1\\fast-style-transfer\\stylize_image.py:9: UserWarning: 'has_mps' is deprecated, please use 'torch.backends.mps.is_built()'\n",
      "  device = {torch.has_cuda: \"cuda\", torch.has_mps: \"mps\"}.get(True, \"cpu\")\n"
     ]
    },
    {
     "name": "stdout",
     "output_type": "stream",
     "text": [
      "image saved successfully at styled_output.png\n"
     ]
    },
    {
     "name": "stderr",
     "output_type": "stream",
     "text": [
      "c:\\Jibran Data\\LUMS\\Sem 7\\ATML\\PA1\\fast-style-transfer\\stylize_image.py:9: UserWarning: 'has_cuda' is deprecated, please use 'torch.backends.cuda.is_built()'\n",
      "  device = {torch.has_cuda: \"cuda\", torch.has_mps: \"mps\"}.get(True, \"cpu\")\n",
      "c:\\Jibran Data\\LUMS\\Sem 7\\ATML\\PA1\\fast-style-transfer\\stylize_image.py:9: UserWarning: 'has_mps' is deprecated, please use 'torch.backends.mps.is_built()'\n",
      "  device = {torch.has_cuda: \"cuda\", torch.has_mps: \"mps\"}.get(True, \"cpu\")\n"
     ]
    },
    {
     "name": "stdout",
     "output_type": "stream",
     "text": [
      "image saved successfully at styled_output.png\n"
     ]
    },
    {
     "name": "stderr",
     "output_type": "stream",
     "text": [
      "c:\\Jibran Data\\LUMS\\Sem 7\\ATML\\PA1\\fast-style-transfer\\stylize_image.py:9: UserWarning: 'has_cuda' is deprecated, please use 'torch.backends.cuda.is_built()'\n",
      "  device = {torch.has_cuda: \"cuda\", torch.has_mps: \"mps\"}.get(True, \"cpu\")\n",
      "c:\\Jibran Data\\LUMS\\Sem 7\\ATML\\PA1\\fast-style-transfer\\stylize_image.py:9: UserWarning: 'has_mps' is deprecated, please use 'torch.backends.mps.is_built()'\n",
      "  device = {torch.has_cuda: \"cuda\", torch.has_mps: \"mps\"}.get(True, \"cpu\")\n"
     ]
    },
    {
     "name": "stdout",
     "output_type": "stream",
     "text": [
      "image saved successfully at styled_output.png\n"
     ]
    },
    {
     "name": "stderr",
     "output_type": "stream",
     "text": [
      "c:\\Jibran Data\\LUMS\\Sem 7\\ATML\\PA1\\fast-style-transfer\\stylize_image.py:9: UserWarning: 'has_cuda' is deprecated, please use 'torch.backends.cuda.is_built()'\n",
      "  device = {torch.has_cuda: \"cuda\", torch.has_mps: \"mps\"}.get(True, \"cpu\")\n",
      "c:\\Jibran Data\\LUMS\\Sem 7\\ATML\\PA1\\fast-style-transfer\\stylize_image.py:9: UserWarning: 'has_mps' is deprecated, please use 'torch.backends.mps.is_built()'\n",
      "  device = {torch.has_cuda: \"cuda\", torch.has_mps: \"mps\"}.get(True, \"cpu\")\n"
     ]
    },
    {
     "name": "stdout",
     "output_type": "stream",
     "text": [
      "image saved successfully at styled_output.png\n"
     ]
    },
    {
     "name": "stderr",
     "output_type": "stream",
     "text": [
      "c:\\Jibran Data\\LUMS\\Sem 7\\ATML\\PA1\\fast-style-transfer\\stylize_image.py:9: UserWarning: 'has_cuda' is deprecated, please use 'torch.backends.cuda.is_built()'\n",
      "  device = {torch.has_cuda: \"cuda\", torch.has_mps: \"mps\"}.get(True, \"cpu\")\n",
      "c:\\Jibran Data\\LUMS\\Sem 7\\ATML\\PA1\\fast-style-transfer\\stylize_image.py:9: UserWarning: 'has_mps' is deprecated, please use 'torch.backends.mps.is_built()'\n",
      "  device = {torch.has_cuda: \"cuda\", torch.has_mps: \"mps\"}.get(True, \"cpu\")\n"
     ]
    },
    {
     "name": "stdout",
     "output_type": "stream",
     "text": [
      "image saved successfully at styled_output.png\n"
     ]
    },
    {
     "name": "stderr",
     "output_type": "stream",
     "text": [
      "c:\\Jibran Data\\LUMS\\Sem 7\\ATML\\PA1\\fast-style-transfer\\stylize_image.py:9: UserWarning: 'has_cuda' is deprecated, please use 'torch.backends.cuda.is_built()'\n",
      "  device = {torch.has_cuda: \"cuda\", torch.has_mps: \"mps\"}.get(True, \"cpu\")\n",
      "c:\\Jibran Data\\LUMS\\Sem 7\\ATML\\PA1\\fast-style-transfer\\stylize_image.py:9: UserWarning: 'has_mps' is deprecated, please use 'torch.backends.mps.is_built()'\n",
      "  device = {torch.has_cuda: \"cuda\", torch.has_mps: \"mps\"}.get(True, \"cpu\")\n"
     ]
    },
    {
     "name": "stdout",
     "output_type": "stream",
     "text": [
      "image saved successfully at styled_output.png\n"
     ]
    },
    {
     "name": "stderr",
     "output_type": "stream",
     "text": [
      "c:\\Jibran Data\\LUMS\\Sem 7\\ATML\\PA1\\fast-style-transfer\\stylize_image.py:9: UserWarning: 'has_cuda' is deprecated, please use 'torch.backends.cuda.is_built()'\n",
      "  device = {torch.has_cuda: \"cuda\", torch.has_mps: \"mps\"}.get(True, \"cpu\")\n",
      "c:\\Jibran Data\\LUMS\\Sem 7\\ATML\\PA1\\fast-style-transfer\\stylize_image.py:9: UserWarning: 'has_mps' is deprecated, please use 'torch.backends.mps.is_built()'\n",
      "  device = {torch.has_cuda: \"cuda\", torch.has_mps: \"mps\"}.get(True, \"cpu\")\n"
     ]
    },
    {
     "name": "stdout",
     "output_type": "stream",
     "text": [
      "image saved successfully at styled_output.png\n"
     ]
    },
    {
     "name": "stderr",
     "output_type": "stream",
     "text": [
      "c:\\Jibran Data\\LUMS\\Sem 7\\ATML\\PA1\\fast-style-transfer\\stylize_image.py:9: UserWarning: 'has_cuda' is deprecated, please use 'torch.backends.cuda.is_built()'\n",
      "  device = {torch.has_cuda: \"cuda\", torch.has_mps: \"mps\"}.get(True, \"cpu\")\n",
      "c:\\Jibran Data\\LUMS\\Sem 7\\ATML\\PA1\\fast-style-transfer\\stylize_image.py:9: UserWarning: 'has_mps' is deprecated, please use 'torch.backends.mps.is_built()'\n",
      "  device = {torch.has_cuda: \"cuda\", torch.has_mps: \"mps\"}.get(True, \"cpu\")\n"
     ]
    },
    {
     "name": "stdout",
     "output_type": "stream",
     "text": [
      "image saved successfully at styled_output.png\n"
     ]
    },
    {
     "name": "stderr",
     "output_type": "stream",
     "text": [
      "c:\\Jibran Data\\LUMS\\Sem 7\\ATML\\PA1\\fast-style-transfer\\stylize_image.py:9: UserWarning: 'has_cuda' is deprecated, please use 'torch.backends.cuda.is_built()'\n",
      "  device = {torch.has_cuda: \"cuda\", torch.has_mps: \"mps\"}.get(True, \"cpu\")\n",
      "c:\\Jibran Data\\LUMS\\Sem 7\\ATML\\PA1\\fast-style-transfer\\stylize_image.py:9: UserWarning: 'has_mps' is deprecated, please use 'torch.backends.mps.is_built()'\n",
      "  device = {torch.has_cuda: \"cuda\", torch.has_mps: \"mps\"}.get(True, \"cpu\")\n"
     ]
    },
    {
     "name": "stdout",
     "output_type": "stream",
     "text": [
      "image saved successfully at styled_output.png\n"
     ]
    },
    {
     "name": "stderr",
     "output_type": "stream",
     "text": [
      "c:\\Jibran Data\\LUMS\\Sem 7\\ATML\\PA1\\fast-style-transfer\\stylize_image.py:9: UserWarning: 'has_cuda' is deprecated, please use 'torch.backends.cuda.is_built()'\n",
      "  device = {torch.has_cuda: \"cuda\", torch.has_mps: \"mps\"}.get(True, \"cpu\")\n",
      "c:\\Jibran Data\\LUMS\\Sem 7\\ATML\\PA1\\fast-style-transfer\\stylize_image.py:9: UserWarning: 'has_mps' is deprecated, please use 'torch.backends.mps.is_built()'\n",
      "  device = {torch.has_cuda: \"cuda\", torch.has_mps: \"mps\"}.get(True, \"cpu\")\n"
     ]
    },
    {
     "name": "stdout",
     "output_type": "stream",
     "text": [
      "image saved successfully at styled_output.png\n"
     ]
    },
    {
     "name": "stderr",
     "output_type": "stream",
     "text": [
      "c:\\Jibran Data\\LUMS\\Sem 7\\ATML\\PA1\\fast-style-transfer\\stylize_image.py:9: UserWarning: 'has_cuda' is deprecated, please use 'torch.backends.cuda.is_built()'\n",
      "  device = {torch.has_cuda: \"cuda\", torch.has_mps: \"mps\"}.get(True, \"cpu\")\n",
      "c:\\Jibran Data\\LUMS\\Sem 7\\ATML\\PA1\\fast-style-transfer\\stylize_image.py:9: UserWarning: 'has_mps' is deprecated, please use 'torch.backends.mps.is_built()'\n",
      "  device = {torch.has_cuda: \"cuda\", torch.has_mps: \"mps\"}.get(True, \"cpu\")\n"
     ]
    },
    {
     "name": "stdout",
     "output_type": "stream",
     "text": [
      "image saved successfully at styled_output.png\n"
     ]
    },
    {
     "name": "stderr",
     "output_type": "stream",
     "text": [
      "c:\\Jibran Data\\LUMS\\Sem 7\\ATML\\PA1\\fast-style-transfer\\stylize_image.py:9: UserWarning: 'has_cuda' is deprecated, please use 'torch.backends.cuda.is_built()'\n",
      "  device = {torch.has_cuda: \"cuda\", torch.has_mps: \"mps\"}.get(True, \"cpu\")\n",
      "c:\\Jibran Data\\LUMS\\Sem 7\\ATML\\PA1\\fast-style-transfer\\stylize_image.py:9: UserWarning: 'has_mps' is deprecated, please use 'torch.backends.mps.is_built()'\n",
      "  device = {torch.has_cuda: \"cuda\", torch.has_mps: \"mps\"}.get(True, \"cpu\")\n"
     ]
    },
    {
     "name": "stdout",
     "output_type": "stream",
     "text": [
      "image saved successfully at styled_output.png\n"
     ]
    },
    {
     "name": "stderr",
     "output_type": "stream",
     "text": [
      "c:\\Jibran Data\\LUMS\\Sem 7\\ATML\\PA1\\fast-style-transfer\\stylize_image.py:9: UserWarning: 'has_cuda' is deprecated, please use 'torch.backends.cuda.is_built()'\n",
      "  device = {torch.has_cuda: \"cuda\", torch.has_mps: \"mps\"}.get(True, \"cpu\")\n",
      "c:\\Jibran Data\\LUMS\\Sem 7\\ATML\\PA1\\fast-style-transfer\\stylize_image.py:9: UserWarning: 'has_mps' is deprecated, please use 'torch.backends.mps.is_built()'\n",
      "  device = {torch.has_cuda: \"cuda\", torch.has_mps: \"mps\"}.get(True, \"cpu\")\n"
     ]
    },
    {
     "name": "stdout",
     "output_type": "stream",
     "text": [
      "image saved successfully at styled_output.png\n"
     ]
    },
    {
     "name": "stderr",
     "output_type": "stream",
     "text": [
      "c:\\Jibran Data\\LUMS\\Sem 7\\ATML\\PA1\\fast-style-transfer\\stylize_image.py:9: UserWarning: 'has_cuda' is deprecated, please use 'torch.backends.cuda.is_built()'\n",
      "  device = {torch.has_cuda: \"cuda\", torch.has_mps: \"mps\"}.get(True, \"cpu\")\n",
      "c:\\Jibran Data\\LUMS\\Sem 7\\ATML\\PA1\\fast-style-transfer\\stylize_image.py:9: UserWarning: 'has_mps' is deprecated, please use 'torch.backends.mps.is_built()'\n",
      "  device = {torch.has_cuda: \"cuda\", torch.has_mps: \"mps\"}.get(True, \"cpu\")\n"
     ]
    },
    {
     "name": "stdout",
     "output_type": "stream",
     "text": [
      "image saved successfully at styled_output.png\n"
     ]
    },
    {
     "name": "stderr",
     "output_type": "stream",
     "text": [
      "c:\\Jibran Data\\LUMS\\Sem 7\\ATML\\PA1\\fast-style-transfer\\stylize_image.py:9: UserWarning: 'has_cuda' is deprecated, please use 'torch.backends.cuda.is_built()'\n",
      "  device = {torch.has_cuda: \"cuda\", torch.has_mps: \"mps\"}.get(True, \"cpu\")\n",
      "c:\\Jibran Data\\LUMS\\Sem 7\\ATML\\PA1\\fast-style-transfer\\stylize_image.py:9: UserWarning: 'has_mps' is deprecated, please use 'torch.backends.mps.is_built()'\n",
      "  device = {torch.has_cuda: \"cuda\", torch.has_mps: \"mps\"}.get(True, \"cpu\")\n"
     ]
    },
    {
     "name": "stdout",
     "output_type": "stream",
     "text": [
      "image saved successfully at styled_output.png\n"
     ]
    },
    {
     "name": "stderr",
     "output_type": "stream",
     "text": [
      "c:\\Jibran Data\\LUMS\\Sem 7\\ATML\\PA1\\fast-style-transfer\\stylize_image.py:9: UserWarning: 'has_cuda' is deprecated, please use 'torch.backends.cuda.is_built()'\n",
      "  device = {torch.has_cuda: \"cuda\", torch.has_mps: \"mps\"}.get(True, \"cpu\")\n",
      "c:\\Jibran Data\\LUMS\\Sem 7\\ATML\\PA1\\fast-style-transfer\\stylize_image.py:9: UserWarning: 'has_mps' is deprecated, please use 'torch.backends.mps.is_built()'\n",
      "  device = {torch.has_cuda: \"cuda\", torch.has_mps: \"mps\"}.get(True, \"cpu\")\n"
     ]
    },
    {
     "name": "stdout",
     "output_type": "stream",
     "text": [
      "image saved successfully at styled_output.png\n"
     ]
    },
    {
     "name": "stderr",
     "output_type": "stream",
     "text": [
      "c:\\Jibran Data\\LUMS\\Sem 7\\ATML\\PA1\\fast-style-transfer\\stylize_image.py:9: UserWarning: 'has_cuda' is deprecated, please use 'torch.backends.cuda.is_built()'\n",
      "  device = {torch.has_cuda: \"cuda\", torch.has_mps: \"mps\"}.get(True, \"cpu\")\n",
      "c:\\Jibran Data\\LUMS\\Sem 7\\ATML\\PA1\\fast-style-transfer\\stylize_image.py:9: UserWarning: 'has_mps' is deprecated, please use 'torch.backends.mps.is_built()'\n",
      "  device = {torch.has_cuda: \"cuda\", torch.has_mps: \"mps\"}.get(True, \"cpu\")\n"
     ]
    },
    {
     "name": "stdout",
     "output_type": "stream",
     "text": [
      "image saved successfully at styled_output.png\n"
     ]
    },
    {
     "name": "stderr",
     "output_type": "stream",
     "text": [
      "c:\\Jibran Data\\LUMS\\Sem 7\\ATML\\PA1\\fast-style-transfer\\stylize_image.py:9: UserWarning: 'has_cuda' is deprecated, please use 'torch.backends.cuda.is_built()'\n",
      "  device = {torch.has_cuda: \"cuda\", torch.has_mps: \"mps\"}.get(True, \"cpu\")\n",
      "c:\\Jibran Data\\LUMS\\Sem 7\\ATML\\PA1\\fast-style-transfer\\stylize_image.py:9: UserWarning: 'has_mps' is deprecated, please use 'torch.backends.mps.is_built()'\n",
      "  device = {torch.has_cuda: \"cuda\", torch.has_mps: \"mps\"}.get(True, \"cpu\")\n"
     ]
    },
    {
     "name": "stdout",
     "output_type": "stream",
     "text": [
      "image saved successfully at styled_output.png\n"
     ]
    },
    {
     "name": "stderr",
     "output_type": "stream",
     "text": [
      "c:\\Jibran Data\\LUMS\\Sem 7\\ATML\\PA1\\fast-style-transfer\\stylize_image.py:9: UserWarning: 'has_cuda' is deprecated, please use 'torch.backends.cuda.is_built()'\n",
      "  device = {torch.has_cuda: \"cuda\", torch.has_mps: \"mps\"}.get(True, \"cpu\")\n",
      "c:\\Jibran Data\\LUMS\\Sem 7\\ATML\\PA1\\fast-style-transfer\\stylize_image.py:9: UserWarning: 'has_mps' is deprecated, please use 'torch.backends.mps.is_built()'\n",
      "  device = {torch.has_cuda: \"cuda\", torch.has_mps: \"mps\"}.get(True, \"cpu\")\n"
     ]
    },
    {
     "name": "stdout",
     "output_type": "stream",
     "text": [
      "image saved successfully at styled_output.png\n"
     ]
    },
    {
     "name": "stderr",
     "output_type": "stream",
     "text": [
      "c:\\Jibran Data\\LUMS\\Sem 7\\ATML\\PA1\\fast-style-transfer\\stylize_image.py:9: UserWarning: 'has_cuda' is deprecated, please use 'torch.backends.cuda.is_built()'\n",
      "  device = {torch.has_cuda: \"cuda\", torch.has_mps: \"mps\"}.get(True, \"cpu\")\n",
      "c:\\Jibran Data\\LUMS\\Sem 7\\ATML\\PA1\\fast-style-transfer\\stylize_image.py:9: UserWarning: 'has_mps' is deprecated, please use 'torch.backends.mps.is_built()'\n",
      "  device = {torch.has_cuda: \"cuda\", torch.has_mps: \"mps\"}.get(True, \"cpu\")\n"
     ]
    },
    {
     "name": "stdout",
     "output_type": "stream",
     "text": [
      "image saved successfully at styled_output.png\n"
     ]
    },
    {
     "name": "stderr",
     "output_type": "stream",
     "text": [
      "c:\\Jibran Data\\LUMS\\Sem 7\\ATML\\PA1\\fast-style-transfer\\stylize_image.py:9: UserWarning: 'has_cuda' is deprecated, please use 'torch.backends.cuda.is_built()'\n",
      "  device = {torch.has_cuda: \"cuda\", torch.has_mps: \"mps\"}.get(True, \"cpu\")\n",
      "c:\\Jibran Data\\LUMS\\Sem 7\\ATML\\PA1\\fast-style-transfer\\stylize_image.py:9: UserWarning: 'has_mps' is deprecated, please use 'torch.backends.mps.is_built()'\n",
      "  device = {torch.has_cuda: \"cuda\", torch.has_mps: \"mps\"}.get(True, \"cpu\")\n"
     ]
    },
    {
     "name": "stdout",
     "output_type": "stream",
     "text": [
      "image saved successfully at styled_output.png\n"
     ]
    },
    {
     "name": "stderr",
     "output_type": "stream",
     "text": [
      "c:\\Jibran Data\\LUMS\\Sem 7\\ATML\\PA1\\fast-style-transfer\\stylize_image.py:9: UserWarning: 'has_cuda' is deprecated, please use 'torch.backends.cuda.is_built()'\n",
      "  device = {torch.has_cuda: \"cuda\", torch.has_mps: \"mps\"}.get(True, \"cpu\")\n",
      "c:\\Jibran Data\\LUMS\\Sem 7\\ATML\\PA1\\fast-style-transfer\\stylize_image.py:9: UserWarning: 'has_mps' is deprecated, please use 'torch.backends.mps.is_built()'\n",
      "  device = {torch.has_cuda: \"cuda\", torch.has_mps: \"mps\"}.get(True, \"cpu\")\n"
     ]
    },
    {
     "name": "stdout",
     "output_type": "stream",
     "text": [
      "image saved successfully at styled_output.png\n"
     ]
    },
    {
     "name": "stderr",
     "output_type": "stream",
     "text": [
      "c:\\Jibran Data\\LUMS\\Sem 7\\ATML\\PA1\\fast-style-transfer\\stylize_image.py:9: UserWarning: 'has_cuda' is deprecated, please use 'torch.backends.cuda.is_built()'\n",
      "  device = {torch.has_cuda: \"cuda\", torch.has_mps: \"mps\"}.get(True, \"cpu\")\n",
      "c:\\Jibran Data\\LUMS\\Sem 7\\ATML\\PA1\\fast-style-transfer\\stylize_image.py:9: UserWarning: 'has_mps' is deprecated, please use 'torch.backends.mps.is_built()'\n",
      "  device = {torch.has_cuda: \"cuda\", torch.has_mps: \"mps\"}.get(True, \"cpu\")\n"
     ]
    },
    {
     "name": "stdout",
     "output_type": "stream",
     "text": [
      "image saved successfully at styled_output.png\n"
     ]
    },
    {
     "name": "stderr",
     "output_type": "stream",
     "text": [
      "c:\\Jibran Data\\LUMS\\Sem 7\\ATML\\PA1\\fast-style-transfer\\stylize_image.py:9: UserWarning: 'has_cuda' is deprecated, please use 'torch.backends.cuda.is_built()'\n",
      "  device = {torch.has_cuda: \"cuda\", torch.has_mps: \"mps\"}.get(True, \"cpu\")\n",
      "c:\\Jibran Data\\LUMS\\Sem 7\\ATML\\PA1\\fast-style-transfer\\stylize_image.py:9: UserWarning: 'has_mps' is deprecated, please use 'torch.backends.mps.is_built()'\n",
      "  device = {torch.has_cuda: \"cuda\", torch.has_mps: \"mps\"}.get(True, \"cpu\")\n"
     ]
    },
    {
     "name": "stdout",
     "output_type": "stream",
     "text": [
      "image saved successfully at styled_output.png\n"
     ]
    },
    {
     "name": "stderr",
     "output_type": "stream",
     "text": [
      "c:\\Jibran Data\\LUMS\\Sem 7\\ATML\\PA1\\fast-style-transfer\\stylize_image.py:9: UserWarning: 'has_cuda' is deprecated, please use 'torch.backends.cuda.is_built()'\n",
      "  device = {torch.has_cuda: \"cuda\", torch.has_mps: \"mps\"}.get(True, \"cpu\")\n",
      "c:\\Jibran Data\\LUMS\\Sem 7\\ATML\\PA1\\fast-style-transfer\\stylize_image.py:9: UserWarning: 'has_mps' is deprecated, please use 'torch.backends.mps.is_built()'\n",
      "  device = {torch.has_cuda: \"cuda\", torch.has_mps: \"mps\"}.get(True, \"cpu\")\n"
     ]
    },
    {
     "name": "stdout",
     "output_type": "stream",
     "text": [
      "image saved successfully at styled_output.png\n"
     ]
    },
    {
     "name": "stderr",
     "output_type": "stream",
     "text": [
      "c:\\Jibran Data\\LUMS\\Sem 7\\ATML\\PA1\\fast-style-transfer\\stylize_image.py:9: UserWarning: 'has_cuda' is deprecated, please use 'torch.backends.cuda.is_built()'\n",
      "  device = {torch.has_cuda: \"cuda\", torch.has_mps: \"mps\"}.get(True, \"cpu\")\n",
      "c:\\Jibran Data\\LUMS\\Sem 7\\ATML\\PA1\\fast-style-transfer\\stylize_image.py:9: UserWarning: 'has_mps' is deprecated, please use 'torch.backends.mps.is_built()'\n",
      "  device = {torch.has_cuda: \"cuda\", torch.has_mps: \"mps\"}.get(True, \"cpu\")\n"
     ]
    },
    {
     "name": "stdout",
     "output_type": "stream",
     "text": [
      "image saved successfully at styled_output.png\n"
     ]
    },
    {
     "name": "stderr",
     "output_type": "stream",
     "text": [
      "c:\\Jibran Data\\LUMS\\Sem 7\\ATML\\PA1\\fast-style-transfer\\stylize_image.py:9: UserWarning: 'has_cuda' is deprecated, please use 'torch.backends.cuda.is_built()'\n",
      "  device = {torch.has_cuda: \"cuda\", torch.has_mps: \"mps\"}.get(True, \"cpu\")\n",
      "c:\\Jibran Data\\LUMS\\Sem 7\\ATML\\PA1\\fast-style-transfer\\stylize_image.py:9: UserWarning: 'has_mps' is deprecated, please use 'torch.backends.mps.is_built()'\n",
      "  device = {torch.has_cuda: \"cuda\", torch.has_mps: \"mps\"}.get(True, \"cpu\")\n"
     ]
    },
    {
     "name": "stdout",
     "output_type": "stream",
     "text": [
      "image saved successfully at styled_output.png\n"
     ]
    },
    {
     "name": "stderr",
     "output_type": "stream",
     "text": [
      "c:\\Jibran Data\\LUMS\\Sem 7\\ATML\\PA1\\fast-style-transfer\\stylize_image.py:9: UserWarning: 'has_cuda' is deprecated, please use 'torch.backends.cuda.is_built()'\n",
      "  device = {torch.has_cuda: \"cuda\", torch.has_mps: \"mps\"}.get(True, \"cpu\")\n",
      "c:\\Jibran Data\\LUMS\\Sem 7\\ATML\\PA1\\fast-style-transfer\\stylize_image.py:9: UserWarning: 'has_mps' is deprecated, please use 'torch.backends.mps.is_built()'\n",
      "  device = {torch.has_cuda: \"cuda\", torch.has_mps: \"mps\"}.get(True, \"cpu\")\n"
     ]
    }
   ],
   "source": [
    "# Step 4: Generate the cue-conflict images using pre-trained styles\n",
    "import os\n",
    "import torch\n",
    "import torchvision\n",
    "import torchvision.datasets as datasets\n",
    "import torchvision.transforms as transforms\n",
    "from PIL import Image\n",
    "import matplotlib.pyplot as plt\n",
    "import numpy as np  \n",
    "import torchvision.models as models\n",
    "from tqdm.notebook import tqdm\n",
    "\n",
    "device = \"cuda\" if torch.cuda.is_available() else \"cpu\"\n",
    "\n",
    "resnet = models.resnet50(weights=models.ResNet50_Weights.DEFAULT)\n",
    "weights = models.ResNet50_Weights.DEFAULT\n",
    "transform = weights.transforms()\n",
    "\n",
    "# --- Configuration ---\n",
    "OUTPUT_DIR = 'cue_conflict_dataset'\n",
    "NUM_IMAGES_PER_CLASS = 10\n",
    "\n",
    "# --- Dataset and Model Loading ---\n",
    "stl10_dataset = torchvision.datasets.STL10(root='./data', split='test', download=True, transform=transform)\n",
    "stl10_labels = np.array(stl10_dataset.labels)\n",
    "\n",
    "stl10_class_names = ['airplane', 'bird', 'car', 'cat', 'deer', 'dog', 'horse', 'monkey', 'ship', 'truck']\n",
    "\n",
    "try:\n",
    "    pretrained_models = [f.replace('_pretrained.pth', '') for f in os.listdir('saved_models') if f.endswith('.pth')]\n",
    "    if not pretrained_models:\n",
    "        raise FileNotFoundError\n",
    "except FileNotFoundError:\n",
    "    print(\"Error: 'saved_models' directory not found or is empty.\")\n",
    "    exit()\n",
    "\n",
    "os.makedirs(OUTPUT_DIR, exist_ok=True)\n",
    "\n",
    "def denormalize(tensor):\n",
    "    mean = torch.tensor([0.485, 0.456, 0.406])\n",
    "    std = torch.tensor([0.229, 0.224, 0.225])\n",
    "    denorm_tensor = tensor * std[:, None, None] + mean[:, None, None]\n",
    "    return torch.clamp(denorm_tensor, 0, 1)\n",
    "\n",
    "# --- Main Generation Loop ---\n",
    "for class_idx in tqdm(range(10), desc=\"All Classes Progress\"):\n",
    "    class_name = stl10_class_names[class_idx]\n",
    "    class_dir = os.path.join(OUTPUT_DIR, class_name)\n",
    "    os.makedirs(class_dir, exist_ok=True)\n",
    "\n",
    "    class_image_indices = np.where(stl10_labels == class_idx)[0]\n",
    "    images_to_process = class_image_indices[:NUM_IMAGES_PER_CLASS]\n",
    "\n",
    "    for i, image_idx in enumerate(tqdm(images_to_process, desc=f\"Class '{class_name}'\", leave=False)):\n",
    "        content_image_tensor, label = stl10_dataset[image_idx]\n",
    "        content_image_to_save = denormalize(content_image_tensor)\n",
    "        content_image_path = f\"temp_content_image.png\"\n",
    "        transforms.ToPILImage()(content_image_to_save).save(content_image_path)\n",
    "\n",
    "        for style_model in pretrained_models:\n",
    "            !python stylize_image.py \\\n",
    "                --image_path {content_image_path} \\\n",
    "                --pretrained_model {style_model} \\\n",
    "                --save_path styled_output.png\n",
    "\n",
    "            new_image_name = f\"image_{i}_style_{style_model}.png\"\n",
    "            new_image_path = os.path.join(class_dir, new_image_name)\n",
    "\n",
    "            # This line should now work, or you will see an error from the command above\n",
    "            os.rename(\"styled_output.png\", new_image_path)\n",
    "\n",
    "    # Clean up the last temporary file for the class\n",
    "    if os.path.exists(content_image_path):\n",
    "        os.remove(content_image_path)\n"
   ]
  }
 ],
 "metadata": {
  "kernelspec": {
   "display_name": "Python 3",
   "language": "python",
   "name": "python3"
  },
  "language_info": {
   "codemirror_mode": {
    "name": "ipython",
    "version": 3
   },
   "file_extension": ".py",
   "mimetype": "text/x-python",
   "name": "python",
   "nbconvert_exporter": "python",
   "pygments_lexer": "ipython3",
   "version": "3.11.1"
  }
 },
 "nbformat": 4,
 "nbformat_minor": 5
}
